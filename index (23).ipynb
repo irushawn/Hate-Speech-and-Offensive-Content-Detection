{
 "cells": [
  {
   "cell_type": "markdown",
   "id": "b81f0828",
   "metadata": {},
   "source": [
    "# **Hate Speech and Offensive Content Detection**\n",
    "\n",
    "## **1. Business Understanding**\n",
    "### *Overview*\n",
    "In Kenya's digital landscape, Twitter plays a critical role in shaping public discourse, especially during election seasons and politically charged events. While it provides a platform for civic engagement, it also facilitates the spread of hate speech, tribalism, and inciting language. This content can escalate tensions and contribute to real-world conflict if left unchecked.\n",
    "### *Challenges*\n",
    "Manually moderating large volumes of tweets is inefficient and prone to bias. Current moderation systems struggle to scale and often miss localized forms of hate speech, particularly those specific to Kenyan cultural and political contexts. There is also a lack of automated tools specifically designed to detect offensive content within Kenyan tweets.\n",
    "### *Proposed Solution*\n",
    "Develop a machine learning model that can automatically categorize tweets into three classes: hate speech, offensive content, or neither. The model will serve as a content flagging tool for:\n",
    "Early detection of harmful tweets during elections or national events.\n",
    "Support for content moderation teams at media outlets, regulatory bodies, and social platforms.\n",
    "Enhancing digital safety by tracking the evolution and spread of dangerous speech trends.\n",
    "\n",
    "\n",
    "An effective classification model tailored to the Kenyan context can reduce the spread of inciting content and improve the quality of online public discourse. This system would be vital in promoting peace, especially during sensitive periods like elections.\n",
    "\n",
    "### *Problem Statement*\n",
    "There is an urgent need for a localized and scalable hate speech detection system to flag inciting and offensive tweets in Kenya, particularly during political periods where online speech can incite real-world unrest.\n",
    "\n",
    "### *Objectives*\n",
    "- To evaluate the most common terms or phrases used in inciting tweets.\n",
    "- To build a multi-class classification model that labels tweets as hate speech, offensive, or neither.\n",
    "- To evaluate model performance across different algorithms using accuracy.\n",
    "- To Deploy the best performing model using Streamlit\n",
    "\n",
    "## **2 Data Understanding**\n",
    "The dataset used in this project, HateSpeech_Kenya.csv, was sourced from Kaggle, a well-known platform for sharing datasets and machine learning challenges. It contains approximately 48,000 tweets labeled for sentiment and hate speech, specifically focused on the Kenyan social and political context.\n",
    "Key Features of the Data:\n",
    "`tweet`: The raw text of the tweet . this forms the primary input for natural language processing and classification tasks.\n",
    "`label`: The target variable, where 0 represents neutral content and 1 represents offensive content and 2 represent hate speech.\n",
    "\n",
    "This dataset is directly aligned with the project goal of developing a machine learning model to detect and categorize hate speech in Kenyan tweets. The inclusion of localized language, real-world offensive content, and metadata allows the model to learn patterns specific to the Kenyan context.\n"
   ]
  },
  {
   "cell_type": "markdown",
   "id": "4bb5abb2",
   "metadata": {},
   "source": [
    "### *Importing Dependencies*"
   ]
  },
  {
   "cell_type": "code",
   "execution_count": 1,
   "id": "359c7949",
   "metadata": {},
   "outputs": [
    {
     "name": "stderr",
     "output_type": "stream",
     "text": [
      "[nltk_data] Downloading package wordnet to\n",
      "[nltk_data]     C:\\Users\\HomePC\\AppData\\Roaming\\nltk_data...\n",
      "[nltk_data]   Package wordnet is already up-to-date!\n"
     ]
    }
   ],
   "source": [
    "# Data Manipulation\n",
    "import pandas as pd\n",
    "import numpy as np\n",
    "\n",
    "# Text Preprocessing\n",
    "import re\n",
    "import string\n",
    "\n",
    "# Visualization\n",
    "import matplotlib.pyplot as plt\n",
    "import seaborn as sns\n",
    "\n",
    "# NLP Utilities\n",
    "import nltk\n",
    "from nltk.corpus import stopwords\n",
    "from nltk.stem.wordnet import WordNetLemmatizer\n",
    "from nltk import word_tokenize\n",
    "from nltk import FreqDist\n",
    "nltk.download('wordnet')\n",
    "from nltk.tokenize import RegexpTokenizer\n",
    "from nltk.stem import PorterStemmer\n",
    "\n",
    "# Feature Extraction\n",
    "from sklearn.feature_extraction.text import TfidfVectorizer\n",
    "\n",
    "# Machine Learning Models\n",
    "from sklearn.model_selection import train_test_split\n",
    "from sklearn.linear_model import LogisticRegression\n",
    "from sklearn.ensemble import RandomForestClassifier\n",
    "from xgboost import XGBClassifier\n",
    "from sklearn.metrics import classification_report, confusion_matrix, accuracy_score\n",
    "\n",
    "# Filter Warnings\n",
    "import warnings\n",
    "warnings.filterwarnings(\"ignore\")\n",
    "%matplotlib inline\n"
   ]
  },
  {
   "cell_type": "markdown",
   "id": "cff60ee9",
   "metadata": {},
   "source": [
    "## **3 Data Preparation**\n"
   ]
  },
  {
   "cell_type": "code",
   "execution_count": 2,
   "id": "ecc8a387",
   "metadata": {},
   "outputs": [
    {
     "data": {
      "application/vnd.microsoft.datawrangler.viewer.v0+json": {
       "columns": [
        {
         "name": "index",
         "rawType": "int64",
         "type": "integer"
        },
        {
         "name": "hate_speech",
         "rawType": "int64",
         "type": "integer"
        },
        {
         "name": "offensive_language",
         "rawType": "int64",
         "type": "integer"
        },
        {
         "name": "neither",
         "rawType": "int64",
         "type": "integer"
        },
        {
         "name": "Class",
         "rawType": "int64",
         "type": "integer"
        },
        {
         "name": "Tweet",
         "rawType": "object",
         "type": "string"
        },
        {
         "name": "Label",
         "rawType": "object",
         "type": "string"
        }
       ],
       "ref": "14bb15a9-c514-4fa4-b623-fbae9f3e763a",
       "rows": [
        [
         "48071",
         "0",
         "0",
         "2",
         "0",
         "This is exactly what Moses Kuria & ilk are doing. Say No to Negative Ethnicity & Hate Speech! #RailaTheWardogSince82 pic.twitter.com/Z9hG54kUUT",
         "Neutral"
        ],
        [
         "48072",
         "0",
         "0",
         "2",
         "0",
         "This is exactly what Kenyans are going through Thank God this time its both the Rich&the poor USERNAME_952 USERNAME_934 USERNAME_1175 pic.twitter.com/4CFwviyDmr",
         "Neutral"
        ],
        [
         "48073",
         "0",
         "0",
         "2",
         "0",
         "This is exactly what is wrong with this country. If kikuyus can't stand us live with our last names ..why should we continue living together",
         "Neutral"
        ],
        [
         "48074",
         "1",
         "0",
         "2",
         "0",
         "This is exactly the same thing. Well the only difference is that in Kilifi they're merely pushing for it in Kiambu it is already a LAW. Yet USERNAME_406 decided that one will be tribal laws & the other will be just a ban. In other words Kikuyus have rights others wish they did. pic.twitter.com/aHHt3Dfl2k",
         "Neutral"
        ],
        [
         "48075",
         "0",
         "1",
         "2",
         "0",
         "This is exactly how Luos feel in this country with the likes of Moses Kuria spewing hate against them.",
         "Neutral"
        ]
       ],
       "shape": {
        "columns": 6,
        "rows": 5
       }
      },
      "text/html": [
       "<div>\n",
       "<style scoped>\n",
       "    .dataframe tbody tr th:only-of-type {\n",
       "        vertical-align: middle;\n",
       "    }\n",
       "\n",
       "    .dataframe tbody tr th {\n",
       "        vertical-align: top;\n",
       "    }\n",
       "\n",
       "    .dataframe thead th {\n",
       "        text-align: right;\n",
       "    }\n",
       "</style>\n",
       "<table border=\"1\" class=\"dataframe\">\n",
       "  <thead>\n",
       "    <tr style=\"text-align: right;\">\n",
       "      <th></th>\n",
       "      <th>hate_speech</th>\n",
       "      <th>offensive_language</th>\n",
       "      <th>neither</th>\n",
       "      <th>Class</th>\n",
       "      <th>Tweet</th>\n",
       "      <th>Label</th>\n",
       "    </tr>\n",
       "  </thead>\n",
       "  <tbody>\n",
       "    <tr>\n",
       "      <th>48071</th>\n",
       "      <td>0</td>\n",
       "      <td>0</td>\n",
       "      <td>2</td>\n",
       "      <td>0</td>\n",
       "      <td>This is exactly what Moses Kuria &amp; ilk are doi...</td>\n",
       "      <td>Neutral</td>\n",
       "    </tr>\n",
       "    <tr>\n",
       "      <th>48072</th>\n",
       "      <td>0</td>\n",
       "      <td>0</td>\n",
       "      <td>2</td>\n",
       "      <td>0</td>\n",
       "      <td>This is exactly what Kenyans are going through...</td>\n",
       "      <td>Neutral</td>\n",
       "    </tr>\n",
       "    <tr>\n",
       "      <th>48073</th>\n",
       "      <td>0</td>\n",
       "      <td>0</td>\n",
       "      <td>2</td>\n",
       "      <td>0</td>\n",
       "      <td>This is exactly what is wrong with this countr...</td>\n",
       "      <td>Neutral</td>\n",
       "    </tr>\n",
       "    <tr>\n",
       "      <th>48074</th>\n",
       "      <td>1</td>\n",
       "      <td>0</td>\n",
       "      <td>2</td>\n",
       "      <td>0</td>\n",
       "      <td>This is exactly the same thing. Well the only ...</td>\n",
       "      <td>Neutral</td>\n",
       "    </tr>\n",
       "    <tr>\n",
       "      <th>48075</th>\n",
       "      <td>0</td>\n",
       "      <td>1</td>\n",
       "      <td>2</td>\n",
       "      <td>0</td>\n",
       "      <td>This is exactly how Luos feel in this country ...</td>\n",
       "      <td>Neutral</td>\n",
       "    </tr>\n",
       "  </tbody>\n",
       "</table>\n",
       "</div>"
      ],
      "text/plain": [
       "       hate_speech  offensive_language  neither  Class  \\\n",
       "48071            0                   0        2      0   \n",
       "48072            0                   0        2      0   \n",
       "48073            0                   0        2      0   \n",
       "48074            1                   0        2      0   \n",
       "48075            0                   1        2      0   \n",
       "\n",
       "                                                   Tweet    Label  \n",
       "48071  This is exactly what Moses Kuria & ilk are doi...  Neutral  \n",
       "48072  This is exactly what Kenyans are going through...  Neutral  \n",
       "48073  This is exactly what is wrong with this countr...  Neutral  \n",
       "48074  This is exactly the same thing. Well the only ...  Neutral  \n",
       "48075  This is exactly how Luos feel in this country ...  Neutral  "
      ]
     },
     "execution_count": 2,
     "metadata": {},
     "output_type": "execute_result"
    }
   ],
   "source": [
    "# Loading the dataset, Mapping Class with respective Labels\n",
    "df = pd.read_csv('HateSpeech_Kenya.csv')\n",
    "df['Tweet'] = df['Tweet'].apply(lambda x: ' '.join(eval(x)) if isinstance(x, str) else x)\n",
    "label_map = {0: 'Neutral', 1: 'Offensive', 2: 'Hate Speech'}\n",
    "df['Label'] = df['Class'].map(label_map)\n",
    "df.tail()\n"
   ]
  },
  {
   "cell_type": "markdown",
   "id": "57096698",
   "metadata": {},
   "source": [
    "### *Extracting the Relevant Columns*"
   ]
  },
  {
   "cell_type": "code",
   "execution_count": 3,
   "id": "a431a662",
   "metadata": {},
   "outputs": [
    {
     "data": {
      "application/vnd.microsoft.datawrangler.viewer.v0+json": {
       "columns": [
        {
         "name": "index",
         "rawType": "int64",
         "type": "integer"
        },
        {
         "name": "Tweet",
         "rawType": "object",
         "type": "string"
        },
        {
         "name": "Class",
         "rawType": "int64",
         "type": "integer"
        },
        {
         "name": "Label",
         "rawType": "object",
         "type": "string"
        }
       ],
       "ref": "fd03d276-be41-499e-a065-d725221c7e26",
       "rows": [
        [
         "0",
         "The political elite are in desperation. Ordinary kalenjins are suspicious of kikuyu community",
         "0",
         "Neutral"
        ],
        [
         "1",
         "Am just curious the only people who are calling him old and mad are Kikuyus and not Kalenjins and that's a good sign USERNAME_1 USERNAME_2",
         "0",
         "Neutral"
        ],
        [
         "2",
         "USERNAME_3 the area politicians are the one to blame coz they r insiting local students n villagers to attack non kalenjins students",
         "0",
         "Neutral"
        ],
        [
         "3",
         "War expected in Nakuru if something is not done . All Luos given Seven days to leave. Why are Kenyans Killing...",
         "0",
         "Neutral"
        ],
        [
         "4",
         "USERNAME_4 tells kikuyus activists that they are being targeted. They have targetted USERNAME_5 . They want to kill him.",
         "0",
         "Neutral"
        ]
       ],
       "shape": {
        "columns": 3,
        "rows": 5
       }
      },
      "text/html": [
       "<div>\n",
       "<style scoped>\n",
       "    .dataframe tbody tr th:only-of-type {\n",
       "        vertical-align: middle;\n",
       "    }\n",
       "\n",
       "    .dataframe tbody tr th {\n",
       "        vertical-align: top;\n",
       "    }\n",
       "\n",
       "    .dataframe thead th {\n",
       "        text-align: right;\n",
       "    }\n",
       "</style>\n",
       "<table border=\"1\" class=\"dataframe\">\n",
       "  <thead>\n",
       "    <tr style=\"text-align: right;\">\n",
       "      <th></th>\n",
       "      <th>Tweet</th>\n",
       "      <th>Class</th>\n",
       "      <th>Label</th>\n",
       "    </tr>\n",
       "  </thead>\n",
       "  <tbody>\n",
       "    <tr>\n",
       "      <th>0</th>\n",
       "      <td>The political elite are in desperation. Ordina...</td>\n",
       "      <td>0</td>\n",
       "      <td>Neutral</td>\n",
       "    </tr>\n",
       "    <tr>\n",
       "      <th>1</th>\n",
       "      <td>Am just curious the only people who are callin...</td>\n",
       "      <td>0</td>\n",
       "      <td>Neutral</td>\n",
       "    </tr>\n",
       "    <tr>\n",
       "      <th>2</th>\n",
       "      <td>USERNAME_3 the area politicians are the one to...</td>\n",
       "      <td>0</td>\n",
       "      <td>Neutral</td>\n",
       "    </tr>\n",
       "    <tr>\n",
       "      <th>3</th>\n",
       "      <td>War expected in Nakuru if something is not don...</td>\n",
       "      <td>0</td>\n",
       "      <td>Neutral</td>\n",
       "    </tr>\n",
       "    <tr>\n",
       "      <th>4</th>\n",
       "      <td>USERNAME_4 tells kikuyus activists that they a...</td>\n",
       "      <td>0</td>\n",
       "      <td>Neutral</td>\n",
       "    </tr>\n",
       "  </tbody>\n",
       "</table>\n",
       "</div>"
      ],
      "text/plain": [
       "                                               Tweet  Class    Label\n",
       "0  The political elite are in desperation. Ordina...      0  Neutral\n",
       "1  Am just curious the only people who are callin...      0  Neutral\n",
       "2  USERNAME_3 the area politicians are the one to...      0  Neutral\n",
       "3  War expected in Nakuru if something is not don...      0  Neutral\n",
       "4  USERNAME_4 tells kikuyus activists that they a...      0  Neutral"
      ]
     },
     "execution_count": 3,
     "metadata": {},
     "output_type": "execute_result"
    }
   ],
   "source": [
    "new_df = df[['Tweet', 'Class', 'Label']]\n",
    "new_df.head()"
   ]
  },
  {
   "cell_type": "markdown",
   "id": "4810ceab",
   "metadata": {},
   "source": [
    "### *Dataset Summary*"
   ]
  },
  {
   "cell_type": "code",
   "execution_count": 4,
   "id": "395b914e",
   "metadata": {},
   "outputs": [
    {
     "name": "stdout",
     "output_type": "stream",
     "text": [
      "<class 'pandas.core.frame.DataFrame'>\n",
      "RangeIndex: 48076 entries, 0 to 48075\n",
      "Data columns (total 3 columns):\n",
      " #   Column  Non-Null Count  Dtype \n",
      "---  ------  --------------  ----- \n",
      " 0   Tweet   48076 non-null  object\n",
      " 1   Class   48076 non-null  int64 \n",
      " 2   Label   48076 non-null  object\n",
      "dtypes: int64(1), object(2)\n",
      "memory usage: 1.1+ MB\n"
     ]
    }
   ],
   "source": [
    "new_df.info()"
   ]
  },
  {
   "cell_type": "markdown",
   "id": "8037f235",
   "metadata": {},
   "source": [
    "### *Checking for Duplicates*"
   ]
  },
  {
   "cell_type": "code",
   "execution_count": 5,
   "id": "a563e785",
   "metadata": {},
   "outputs": [
    {
     "data": {
      "text/plain": [
       "0"
      ]
     },
     "execution_count": 5,
     "metadata": {},
     "output_type": "execute_result"
    }
   ],
   "source": [
    "new_df.duplicated().sum()  # Check for duplicates (entire DataFrame)"
   ]
  },
  {
   "cell_type": "code",
   "execution_count": 6,
   "id": "822b3240",
   "metadata": {},
   "outputs": [],
   "source": [
    "new_df.drop_duplicates(inplace=True)  # Drop duplicates"
   ]
  },
  {
   "cell_type": "markdown",
   "id": "d069eb0e",
   "metadata": {},
   "source": [
    "### *Feature Engineering*"
   ]
  },
  {
   "cell_type": "code",
   "execution_count": 7,
   "id": "4a01fda8",
   "metadata": {},
   "outputs": [
    {
     "data": {
      "application/vnd.microsoft.datawrangler.viewer.v0+json": {
       "columns": [
        {
         "name": "index",
         "rawType": "int64",
         "type": "integer"
        },
        {
         "name": "Tweet",
         "rawType": "object",
         "type": "string"
        },
        {
         "name": "Class",
         "rawType": "int64",
         "type": "integer"
        },
        {
         "name": "Label",
         "rawType": "object",
         "type": "string"
        },
        {
         "name": "char",
         "rawType": "int64",
         "type": "integer"
        },
        {
         "name": "words",
         "rawType": "int64",
         "type": "integer"
        },
        {
         "name": "sentences",
         "rawType": "int64",
         "type": "integer"
        }
       ],
       "ref": "4a5f5916-ec51-434b-86b8-d7fafbb9a294",
       "rows": [
        [
         "21390",
         "Wewe mwenye ulipata A what have you done for your people not even in Mombasa but your rural village? #Nyamazisha",
         "1",
         "Offensive",
         "112",
         "22",
         "2"
        ],
        [
         "22966",
         "He was a Kamba and I said that Kambas are witches #WhyIWasDumped",
         "2",
         "Hate Speech",
         "64",
         "13",
         "1"
        ],
        [
         "30477",
         "You went to bed with Jubilee long time ago so spare us the charade #NoReformsNoElections",
         "1",
         "Offensive",
         "88",
         "16",
         "1"
        ],
        [
         "21716",
         "Vile Chebukati anafaa kugongwa io kipara #KenyaElections #ElectionsBoycottKE pic.twitter.com/3uv4FAoDP1",
         "1",
         "Offensive",
         "103",
         "11",
         "1"
        ],
        [
         "39926",
         "Battle Royal: Blogger Cyprian Nyakundi Takes War To Safs Collymore Doorstep With A Damaging Petition To Vodafone -",
         "0",
         "Neutral",
         "114",
         "19",
         "1"
        ],
        [
         "19001",
         "to aid in stealing yaani uthamaki itatumaliza Kenya hii. USERNAME_16",
         "0",
         "Neutral",
         "68",
         "11",
         "2"
        ],
        [
         "46106",
         "very true RT USERNAME_2278_ : This is true!! RT USERNAME_2279 : Immah say this Kuyos and Luos are the Godfathers of tribalism in Kenya...",
         "0",
         "Neutral",
         "137",
         "27",
         "2"
        ],
        [
         "32635",
         "those who dont get are FOOLS RT USERNAME_4355 : Some don't get it",
         "1",
         "Offensive",
         "65",
         "14",
         "1"
        ],
        [
         "25108",
         "Kabiria is bad very bad kikuyus in the name of mungiki terrorising other tribes. #AreWeOne ?",
         "2",
         "Hate Speech",
         "92",
         "18",
         "2"
        ],
        [
         "3100",
         "We will just wake up to some final figure from USERNAME_352 just a waste. #KenyaPoll #ElectionsBoycottKE",
         "0",
         "Neutral",
         "104",
         "19",
         "2"
        ]
       ],
       "shape": {
        "columns": 6,
        "rows": 10
       }
      },
      "text/html": [
       "<div>\n",
       "<style scoped>\n",
       "    .dataframe tbody tr th:only-of-type {\n",
       "        vertical-align: middle;\n",
       "    }\n",
       "\n",
       "    .dataframe tbody tr th {\n",
       "        vertical-align: top;\n",
       "    }\n",
       "\n",
       "    .dataframe thead th {\n",
       "        text-align: right;\n",
       "    }\n",
       "</style>\n",
       "<table border=\"1\" class=\"dataframe\">\n",
       "  <thead>\n",
       "    <tr style=\"text-align: right;\">\n",
       "      <th></th>\n",
       "      <th>Tweet</th>\n",
       "      <th>Class</th>\n",
       "      <th>Label</th>\n",
       "      <th>char</th>\n",
       "      <th>words</th>\n",
       "      <th>sentences</th>\n",
       "    </tr>\n",
       "  </thead>\n",
       "  <tbody>\n",
       "    <tr>\n",
       "      <th>21390</th>\n",
       "      <td>Wewe mwenye ulipata A what have you done for y...</td>\n",
       "      <td>1</td>\n",
       "      <td>Offensive</td>\n",
       "      <td>112</td>\n",
       "      <td>22</td>\n",
       "      <td>2</td>\n",
       "    </tr>\n",
       "    <tr>\n",
       "      <th>22966</th>\n",
       "      <td>He was a Kamba and I said that Kambas are witc...</td>\n",
       "      <td>2</td>\n",
       "      <td>Hate Speech</td>\n",
       "      <td>64</td>\n",
       "      <td>13</td>\n",
       "      <td>1</td>\n",
       "    </tr>\n",
       "    <tr>\n",
       "      <th>30477</th>\n",
       "      <td>You went to bed with Jubilee long time ago so ...</td>\n",
       "      <td>1</td>\n",
       "      <td>Offensive</td>\n",
       "      <td>88</td>\n",
       "      <td>16</td>\n",
       "      <td>1</td>\n",
       "    </tr>\n",
       "    <tr>\n",
       "      <th>21716</th>\n",
       "      <td>Vile Chebukati anafaa kugongwa io kipara #Keny...</td>\n",
       "      <td>1</td>\n",
       "      <td>Offensive</td>\n",
       "      <td>103</td>\n",
       "      <td>11</td>\n",
       "      <td>1</td>\n",
       "    </tr>\n",
       "    <tr>\n",
       "      <th>39926</th>\n",
       "      <td>Battle Royal: Blogger Cyprian Nyakundi Takes W...</td>\n",
       "      <td>0</td>\n",
       "      <td>Neutral</td>\n",
       "      <td>114</td>\n",
       "      <td>19</td>\n",
       "      <td>1</td>\n",
       "    </tr>\n",
       "    <tr>\n",
       "      <th>19001</th>\n",
       "      <td>to aid in stealing yaani uthamaki itatumaliza ...</td>\n",
       "      <td>0</td>\n",
       "      <td>Neutral</td>\n",
       "      <td>68</td>\n",
       "      <td>11</td>\n",
       "      <td>2</td>\n",
       "    </tr>\n",
       "    <tr>\n",
       "      <th>46106</th>\n",
       "      <td>very true RT USERNAME_2278_ : This is true!! R...</td>\n",
       "      <td>0</td>\n",
       "      <td>Neutral</td>\n",
       "      <td>137</td>\n",
       "      <td>27</td>\n",
       "      <td>2</td>\n",
       "    </tr>\n",
       "    <tr>\n",
       "      <th>32635</th>\n",
       "      <td>those who dont get are FOOLS RT USERNAME_4355 ...</td>\n",
       "      <td>1</td>\n",
       "      <td>Offensive</td>\n",
       "      <td>65</td>\n",
       "      <td>14</td>\n",
       "      <td>1</td>\n",
       "    </tr>\n",
       "    <tr>\n",
       "      <th>25108</th>\n",
       "      <td>Kabiria is bad very bad kikuyus in the name of...</td>\n",
       "      <td>2</td>\n",
       "      <td>Hate Speech</td>\n",
       "      <td>92</td>\n",
       "      <td>18</td>\n",
       "      <td>2</td>\n",
       "    </tr>\n",
       "    <tr>\n",
       "      <th>3100</th>\n",
       "      <td>We will just wake up to some final figure from...</td>\n",
       "      <td>0</td>\n",
       "      <td>Neutral</td>\n",
       "      <td>104</td>\n",
       "      <td>19</td>\n",
       "      <td>2</td>\n",
       "    </tr>\n",
       "  </tbody>\n",
       "</table>\n",
       "</div>"
      ],
      "text/plain": [
       "                                                   Tweet  Class        Label  \\\n",
       "21390  Wewe mwenye ulipata A what have you done for y...      1    Offensive   \n",
       "22966  He was a Kamba and I said that Kambas are witc...      2  Hate Speech   \n",
       "30477  You went to bed with Jubilee long time ago so ...      1    Offensive   \n",
       "21716  Vile Chebukati anafaa kugongwa io kipara #Keny...      1    Offensive   \n",
       "39926  Battle Royal: Blogger Cyprian Nyakundi Takes W...      0      Neutral   \n",
       "19001  to aid in stealing yaani uthamaki itatumaliza ...      0      Neutral   \n",
       "46106  very true RT USERNAME_2278_ : This is true!! R...      0      Neutral   \n",
       "32635  those who dont get are FOOLS RT USERNAME_4355 ...      1    Offensive   \n",
       "25108  Kabiria is bad very bad kikuyus in the name of...      2  Hate Speech   \n",
       "3100   We will just wake up to some final figure from...      0      Neutral   \n",
       "\n",
       "       char  words  sentences  \n",
       "21390   112     22          2  \n",
       "22966    64     13          1  \n",
       "30477    88     16          1  \n",
       "21716   103     11          1  \n",
       "39926   114     19          1  \n",
       "19001    68     11          2  \n",
       "46106   137     27          2  \n",
       "32635    65     14          1  \n",
       "25108    92     18          2  \n",
       "3100    104     19          2  "
      ]
     },
     "execution_count": 7,
     "metadata": {},
     "output_type": "execute_result"
    }
   ],
   "source": [
    "# creating columns for number of characters, number of sentences and number of words\n",
    "new_df[\"char\"]=new_df[\"Tweet\"].apply(lambda x:len(x))\n",
    "new_df[\"words\"]=new_df[\"Tweet\"].apply(lambda x:nltk.word_tokenize(x)).apply(lambda x:len(x))\n",
    "new_df[\"sentences\"]=new_df[\"Tweet\"].apply(lambda x:nltk.sent_tokenize(x)).apply(lambda x:len(x))\n",
    "new_df.sample(10)"
   ]
  },
  {
   "cell_type": "markdown",
   "id": "f6653ef7",
   "metadata": {},
   "source": [
    "### *Summary Statistics*"
   ]
  },
  {
   "cell_type": "code",
   "execution_count": 8,
   "id": "de20f00e",
   "metadata": {},
   "outputs": [
    {
     "data": {
      "application/vnd.microsoft.datawrangler.viewer.v0+json": {
       "columns": [
        {
         "name": "index",
         "rawType": "object",
         "type": "string"
        },
        {
         "name": "Class",
         "rawType": "float64",
         "type": "float"
        },
        {
         "name": "char",
         "rawType": "float64",
         "type": "float"
        },
        {
         "name": "words",
         "rawType": "float64",
         "type": "float"
        },
        {
         "name": "sentences",
         "rawType": "float64",
         "type": "float"
        }
       ],
       "ref": "e378e3d0-c9d7-42cc-995d-e890cfc2b0e2",
       "rows": [
        [
         "count",
         "48076.0",
         "48076.0",
         "48076.0",
         "48076.0"
        ],
        [
         "mean",
         "0.3100299525750894",
         "110.66363674182544",
         "20.334075214244113",
         "1.8071594974623513"
        ],
        [
         "std",
         "0.5884307300028828",
         "48.98994721499426",
         "9.506031058182673",
         "1.0059746189527938"
        ],
        [
         "min",
         "0.0",
         "1.0",
         "1.0",
         "1.0"
        ],
        [
         "25%",
         "0.0",
         "79.0",
         "14.0",
         "1.0"
        ],
        [
         "50%",
         "0.0",
         "111.0",
         "20.0",
         "2.0"
        ],
        [
         "75%",
         "0.0",
         "135.0",
         "25.0",
         "2.0"
        ],
        [
         "max",
         "2.0",
         "327.0",
         "68.0",
         "14.0"
        ]
       ],
       "shape": {
        "columns": 4,
        "rows": 8
       }
      },
      "text/html": [
       "<div>\n",
       "<style scoped>\n",
       "    .dataframe tbody tr th:only-of-type {\n",
       "        vertical-align: middle;\n",
       "    }\n",
       "\n",
       "    .dataframe tbody tr th {\n",
       "        vertical-align: top;\n",
       "    }\n",
       "\n",
       "    .dataframe thead th {\n",
       "        text-align: right;\n",
       "    }\n",
       "</style>\n",
       "<table border=\"1\" class=\"dataframe\">\n",
       "  <thead>\n",
       "    <tr style=\"text-align: right;\">\n",
       "      <th></th>\n",
       "      <th>Class</th>\n",
       "      <th>char</th>\n",
       "      <th>words</th>\n",
       "      <th>sentences</th>\n",
       "    </tr>\n",
       "  </thead>\n",
       "  <tbody>\n",
       "    <tr>\n",
       "      <th>count</th>\n",
       "      <td>48076.000000</td>\n",
       "      <td>48076.000000</td>\n",
       "      <td>48076.000000</td>\n",
       "      <td>48076.000000</td>\n",
       "    </tr>\n",
       "    <tr>\n",
       "      <th>mean</th>\n",
       "      <td>0.310030</td>\n",
       "      <td>110.663637</td>\n",
       "      <td>20.334075</td>\n",
       "      <td>1.807159</td>\n",
       "    </tr>\n",
       "    <tr>\n",
       "      <th>std</th>\n",
       "      <td>0.588431</td>\n",
       "      <td>48.989947</td>\n",
       "      <td>9.506031</td>\n",
       "      <td>1.005975</td>\n",
       "    </tr>\n",
       "    <tr>\n",
       "      <th>min</th>\n",
       "      <td>0.000000</td>\n",
       "      <td>1.000000</td>\n",
       "      <td>1.000000</td>\n",
       "      <td>1.000000</td>\n",
       "    </tr>\n",
       "    <tr>\n",
       "      <th>25%</th>\n",
       "      <td>0.000000</td>\n",
       "      <td>79.000000</td>\n",
       "      <td>14.000000</td>\n",
       "      <td>1.000000</td>\n",
       "    </tr>\n",
       "    <tr>\n",
       "      <th>50%</th>\n",
       "      <td>0.000000</td>\n",
       "      <td>111.000000</td>\n",
       "      <td>20.000000</td>\n",
       "      <td>2.000000</td>\n",
       "    </tr>\n",
       "    <tr>\n",
       "      <th>75%</th>\n",
       "      <td>0.000000</td>\n",
       "      <td>135.000000</td>\n",
       "      <td>25.000000</td>\n",
       "      <td>2.000000</td>\n",
       "    </tr>\n",
       "    <tr>\n",
       "      <th>max</th>\n",
       "      <td>2.000000</td>\n",
       "      <td>327.000000</td>\n",
       "      <td>68.000000</td>\n",
       "      <td>14.000000</td>\n",
       "    </tr>\n",
       "  </tbody>\n",
       "</table>\n",
       "</div>"
      ],
      "text/plain": [
       "              Class          char         words     sentences\n",
       "count  48076.000000  48076.000000  48076.000000  48076.000000\n",
       "mean       0.310030    110.663637     20.334075      1.807159\n",
       "std        0.588431     48.989947      9.506031      1.005975\n",
       "min        0.000000      1.000000      1.000000      1.000000\n",
       "25%        0.000000     79.000000     14.000000      1.000000\n",
       "50%        0.000000    111.000000     20.000000      2.000000\n",
       "75%        0.000000    135.000000     25.000000      2.000000\n",
       "max        2.000000    327.000000     68.000000     14.000000"
      ]
     },
     "execution_count": 8,
     "metadata": {},
     "output_type": "execute_result"
    }
   ],
   "source": [
    "new_df.describe()"
   ]
  },
  {
   "cell_type": "markdown",
   "id": "23f6003c",
   "metadata": {},
   "source": [
    "### *Check Target Values*"
   ]
  },
  {
   "cell_type": "code",
   "execution_count": 9,
   "id": "091118af",
   "metadata": {},
   "outputs": [
    {
     "name": "stdout",
     "output_type": "stream",
     "text": [
      "Unique values in Class: [0 1 2]\n",
      "Unique values in Label: ['Neutral' 'Offensive' 'Hate Speech']\n"
     ]
    }
   ],
   "source": [
    "features = ['Class', 'Label']\n",
    "for feature in features:\n",
    "    print(f\"Unique values in {feature}: {new_df[feature].unique()}\")"
   ]
  },
  {
   "cell_type": "markdown",
   "id": "1a2eccda",
   "metadata": {},
   "source": [
    "### *Text Cleaning*\n",
    "\n",
    "Raw tweets often contain noise such as:\n",
    "- URLs\n",
    "- Mentions\n",
    "- Hashtags\n",
    "- Emojis and non-alphanumeric characters\n",
    "\n",
    "We'll apply basic text preprocessing to clean the tweet data.\n"
   ]
  },
  {
   "cell_type": "code",
   "execution_count": 10,
   "id": "e12bdd45",
   "metadata": {},
   "outputs": [
    {
     "data": {
      "application/vnd.microsoft.datawrangler.viewer.v0+json": {
       "columns": [
        {
         "name": "index",
         "rawType": "int64",
         "type": "integer"
        },
        {
         "name": "Tweet",
         "rawType": "object",
         "type": "string"
        },
        {
         "name": "Class",
         "rawType": "int64",
         "type": "integer"
        },
        {
         "name": "Label",
         "rawType": "object",
         "type": "string"
        },
        {
         "name": "char",
         "rawType": "int64",
         "type": "integer"
        },
        {
         "name": "words",
         "rawType": "int64",
         "type": "integer"
        },
        {
         "name": "sentences",
         "rawType": "int64",
         "type": "integer"
        },
        {
         "name": "Clean_Tweet",
         "rawType": "object",
         "type": "string"
        }
       ],
       "ref": "7047ac78-7670-422a-b00f-e06dc634a3f4",
       "rows": [
        [
         "0",
         "The political elite are in desperation. Ordinary kalenjins are suspicious of kikuyu community",
         "0",
         "Neutral",
         "93",
         "14",
         "2",
         "the political elite are in desperation ordinary kalenjins are suspicious of kikuyu community"
        ],
        [
         "1",
         "Am just curious the only people who are calling him old and mad are Kikuyus and not Kalenjins and that's a good sign USERNAME_1 USERNAME_2",
         "0",
         "Neutral",
         "138",
         "26",
         "1",
         "am just curious the only people who are calling him old and mad are kikuyus and not kalenjins and thats a good sign username username"
        ],
        [
         "2",
         "USERNAME_3 the area politicians are the one to blame coz they r insiting local students n villagers to attack non kalenjins students",
         "0",
         "Neutral",
         "132",
         "22",
         "1",
         "username the area politicians are the one to blame coz they r insiting local students n villagers to attack non kalenjins students"
        ],
        [
         "3",
         "War expected in Nakuru if something is not done . All Luos given Seven days to leave. Why are Kenyans Killing...",
         "0",
         "Neutral",
         "112",
         "23",
         "3",
         "war expected in nakuru if something is not done  all luos given seven days to leave why are kenyans killing"
        ],
        [
         "4",
         "USERNAME_4 tells kikuyus activists that they are being targeted. They have targetted USERNAME_5 . They want to kill him.",
         "0",
         "Neutral",
         "120",
         "21",
         "3",
         "username tells kikuyus activists that they are being targeted they have targetted username  they want to kill him"
        ]
       ],
       "shape": {
        "columns": 7,
        "rows": 5
       }
      },
      "text/html": [
       "<div>\n",
       "<style scoped>\n",
       "    .dataframe tbody tr th:only-of-type {\n",
       "        vertical-align: middle;\n",
       "    }\n",
       "\n",
       "    .dataframe tbody tr th {\n",
       "        vertical-align: top;\n",
       "    }\n",
       "\n",
       "    .dataframe thead th {\n",
       "        text-align: right;\n",
       "    }\n",
       "</style>\n",
       "<table border=\"1\" class=\"dataframe\">\n",
       "  <thead>\n",
       "    <tr style=\"text-align: right;\">\n",
       "      <th></th>\n",
       "      <th>Tweet</th>\n",
       "      <th>Class</th>\n",
       "      <th>Label</th>\n",
       "      <th>char</th>\n",
       "      <th>words</th>\n",
       "      <th>sentences</th>\n",
       "      <th>Clean_Tweet</th>\n",
       "    </tr>\n",
       "  </thead>\n",
       "  <tbody>\n",
       "    <tr>\n",
       "      <th>0</th>\n",
       "      <td>The political elite are in desperation. Ordina...</td>\n",
       "      <td>0</td>\n",
       "      <td>Neutral</td>\n",
       "      <td>93</td>\n",
       "      <td>14</td>\n",
       "      <td>2</td>\n",
       "      <td>the political elite are in desperation ordinar...</td>\n",
       "    </tr>\n",
       "    <tr>\n",
       "      <th>1</th>\n",
       "      <td>Am just curious the only people who are callin...</td>\n",
       "      <td>0</td>\n",
       "      <td>Neutral</td>\n",
       "      <td>138</td>\n",
       "      <td>26</td>\n",
       "      <td>1</td>\n",
       "      <td>am just curious the only people who are callin...</td>\n",
       "    </tr>\n",
       "    <tr>\n",
       "      <th>2</th>\n",
       "      <td>USERNAME_3 the area politicians are the one to...</td>\n",
       "      <td>0</td>\n",
       "      <td>Neutral</td>\n",
       "      <td>132</td>\n",
       "      <td>22</td>\n",
       "      <td>1</td>\n",
       "      <td>username the area politicians are the one to b...</td>\n",
       "    </tr>\n",
       "    <tr>\n",
       "      <th>3</th>\n",
       "      <td>War expected in Nakuru if something is not don...</td>\n",
       "      <td>0</td>\n",
       "      <td>Neutral</td>\n",
       "      <td>112</td>\n",
       "      <td>23</td>\n",
       "      <td>3</td>\n",
       "      <td>war expected in nakuru if something is not don...</td>\n",
       "    </tr>\n",
       "    <tr>\n",
       "      <th>4</th>\n",
       "      <td>USERNAME_4 tells kikuyus activists that they a...</td>\n",
       "      <td>0</td>\n",
       "      <td>Neutral</td>\n",
       "      <td>120</td>\n",
       "      <td>21</td>\n",
       "      <td>3</td>\n",
       "      <td>username tells kikuyus activists that they are...</td>\n",
       "    </tr>\n",
       "  </tbody>\n",
       "</table>\n",
       "</div>"
      ],
      "text/plain": [
       "                                               Tweet  Class    Label  char  \\\n",
       "0  The political elite are in desperation. Ordina...      0  Neutral    93   \n",
       "1  Am just curious the only people who are callin...      0  Neutral   138   \n",
       "2  USERNAME_3 the area politicians are the one to...      0  Neutral   132   \n",
       "3  War expected in Nakuru if something is not don...      0  Neutral   112   \n",
       "4  USERNAME_4 tells kikuyus activists that they a...      0  Neutral   120   \n",
       "\n",
       "   words  sentences                                        Clean_Tweet  \n",
       "0     14          2  the political elite are in desperation ordinar...  \n",
       "1     26          1  am just curious the only people who are callin...  \n",
       "2     22          1  username the area politicians are the one to b...  \n",
       "3     23          3  war expected in nakuru if something is not don...  \n",
       "4     21          3  username tells kikuyus activists that they are...  "
      ]
     },
     "execution_count": 10,
     "metadata": {},
     "output_type": "execute_result"
    }
   ],
   "source": [
    "def clean_text(text):\n",
    "    text = re.sub(r'http\\S+', '', text)  # remove URLs\n",
    "    item = re.sub(r'\\@\\w+|\\#', '', text)  # Remove mentions and hashtags \n",
    "    item = re.sub(r'[^\\w\\s]', '', text)  # Remove punctuation\n",
    "    text = re.sub(r'[^a-zA-Z\\s]', '', text)  # remove non-alphabetic\n",
    "    text = text.lower().strip()             # convert to lowercase and strip whitespace\n",
    "    return text\n",
    "\n",
    "new_df['Clean_Tweet'] = new_df['Tweet'].apply(clean_text)\n",
    "new_df.head()"
   ]
  },
  {
   "cell_type": "markdown",
   "id": "313c0a2d",
   "metadata": {},
   "source": [
    "### EDA"
   ]
  },
  {
   "cell_type": "markdown",
   "id": "4ed44c98",
   "metadata": {},
   "source": [
    "We'll visualize class distribution, tweet lengths, and word frequencies to better understand the dataset."
   ]
  },
  {
   "cell_type": "code",
   "execution_count": 11,
   "id": "a87bfbb0",
   "metadata": {},
   "outputs": [
    {
     "data": {
      "image/png": "[encoded data removed]",
      "text/plain": [
       "<Figure size 640x480 with 1 Axes>"
      ]
     },
     "metadata": {},
     "output_type": "display_data"
    }
   ],
   "source": [
    "# Class distribution\n",
    "sns.countplot(data=new_df, x='Label')\n",
    "plt.title('Tweet Class Distribution')\n",
    "plt.show()\n"
   ]
  },
  {
   "cell_type": "markdown",
   "id": "3c1d6dda",
   "metadata": {},
   "source": [
    "### Box plot of the distribution of number of characters accross classes/label"
   ]
  },
  {
   "cell_type": "code",
   "execution_count": 12,
   "id": "019ed91b",
   "metadata": {},
   "outputs": [
    {
     "data": {
      "image/png": "[encoded data removed]",
      "text/plain": [
       "<Figure size 1000x600 with 1 Axes>"
      ]
     },
     "metadata": {},
     "output_type": "display_data"
    }
   ],
   "source": [
    "\n",
    "plt.figure(figsize=(10, 6))\n",
    "sns.boxplot(\n",
    "    data=new_df,\n",
    "    x='Label',               \n",
    "    y='char') \n",
    "            \n",
    "plt.title='Character Count Distribution by Label'\n",
    "plt.xlabel='Label',\n",
    "plt.ylabel='Number of Characters'\n",
    "plt.show()\n",
    "\n"
   ]
  },
  {
   "cell_type": "markdown",
   "id": "83e0a3bc",
   "metadata": {},
   "source": [
    "### Box plot of the distribution of number of words accross classes/label"
   ]
  },
  {
   "cell_type": "code",
   "execution_count": 13,
   "id": "06549d11",
   "metadata": {},
   "outputs": [
    {
     "data": {
      "image/png": "[encoded data removed]",
      "text/plain": [
       "<Figure size 1000x600 with 1 Axes>"
      ]
     },
     "metadata": {},
     "output_type": "display_data"
    }
   ],
   "source": [
    "plt.figure(figsize=(10, 6))\n",
    "sns.boxplot(\n",
    "    data=new_df,\n",
    "    x='Label',               \n",
    "    y='words') \n",
    "            \n",
    "plt.title='Character Count Distribution by Label'\n",
    "plt.xlabel='Label',\n",
    "plt.ylabel='Number of Words'\n",
    "plt.show()"
   ]
  },
  {
   "cell_type": "markdown",
   "id": "ff7ae269",
   "metadata": {},
   "source": [
    "### Box plot of the distribution of number of sentences accross classes/label"
   ]
  },
  {
   "cell_type": "code",
   "execution_count": 14,
   "id": "82431832",
   "metadata": {},
   "outputs": [
    {
     "data": {
      "image/png": "[encoded data removed]",
      "text/plain": [
       "<Figure size 1000x600 with 1 Axes>"
      ]
     },
     "metadata": {},
     "output_type": "display_data"
    }
   ],
   "source": [
    "plt.figure(figsize=(10, 6))\n",
    "sns.boxplot(\n",
    "    data=new_df,\n",
    "    x='Label',               \n",
    "    y='sentences') \n",
    "            \n",
    "plt.title='Character Count Distribution by Label'\n",
    "plt.xlabel='Label',\n",
    "plt.ylabel='Number of Sentences'\n",
    "plt.show()"
   ]
  },
  {
   "cell_type": "markdown",
   "id": "ddba5dd4",
   "metadata": {},
   "source": [
    "### Text preprocessing\n",
    "Tokenizzing , selecting words with 3 or more characters, removing stop words"
   ]
  },
  {
   "cell_type": "code",
   "execution_count": 15,
   "id": "03d05611",
   "metadata": {},
   "outputs": [],
   "source": [
    "# Tokenizer that uses a regex pattern to select words with three or more characters\n",
    "tokenizer = RegexpTokenizer(r\"(?u)\\w{3,}\")\n",
    "\n",
    "# List of stopwords in English\n",
    "english_stopwords = stopwords.words('english')\n",
    "swahili_stopwords = [\n",
    "    \"a\", \"na\", \"ya\", \"kwa\", \"wa\", \"ni\", \"la\", \"ili\", \"katika\", \"juu\", \"chini\", \"kama\", \"pia\", \"hadi\", \"toka\",\n",
    "    \"lakini\", \"kwamba\", \"hata\", \"bado\", \"baada\", \"mbele\", \"nyuma\", \"tu\", \"tena\", \"sana\", \"zote\", \"wote\", \"sisi\",\n",
    "    \"wao\", \"wewe\", \"mimi\", \"yeye\", \"huu\", \"hii\", \"hawa\", \"hao\", \"hizo\", \"wale\", \"wetu\", \"wako\", \"wangu\", \"hivyo\",\n",
    "    \"au\", \"kuwa\", \"ame\", \"alikuwa\", \"walikuwa\", \"si\", \"ha\", \"ambapo\", \"kwani\", \"ndio\", \"bila\", \"kila\", \"baadhi\",\n",
    "    \"mara\", \"zaidi\", \"kati\", \"kupitia\"]\n",
    "\n",
    "sheng_stopwords = [\n",
    "    \"ati\", \"ajee\", \"aje\", \"manze\", \"yani\", \"venye\", \"vile\", \"niko\", \"uko\", \"ako\", \"nko\", \"si\", \"ni\", \"kaa\",\n",
    "    \"hivo\", \"ivo\", \"ngori\", \"ebu\", \"ah\", \"lo\", \"aa\", \"maze\", \"fiti\", \"dem\", \"boyie\", \"wasee\", \"mabeshte\", \"buda\",\n",
    "    \"brathe\", \"msee\", \"mresh\", \"jamaa\", \"bro\", \"sis\", \"sanaa\", \"kweli\", \"freshi\", \"mbogi\", \"hadi\", \"balaa\",\n",
    "    \"noma\", \"walai\", \"ju\", \"ama\", \"bado\", \"mbaya\", \"vile\", \"nani\", \"kitu\", \"place\", \"hio\", \"hiyo\", \"hii\", \"ile\",\n",
    "    \"nyinyi\", \"sisi\", \"mimi\", \"wewe\", \"wao\", \"yeye\"\n",
    "]\n",
    "\n",
    "# Combine all stopwords list\n",
    "stopwords_list = set(english_stopwords + swahili_stopwords + sheng_stopwords)\n",
    "\n",
    "# Use Lemmatizer\n",
    "lemmatizer = WordNetLemmatizer()"
   ]
  },
  {
   "cell_type": "code",
   "execution_count": 16,
   "id": "96bba64b",
   "metadata": {},
   "outputs": [],
   "source": [
    "def preprocess_text(text, tokenizer, stopwords_list, lemmatizer):\n",
    "    text = text.lower()\n",
    "    tokens = tokenizer.tokenize(text)\n",
    "    words = [word for word in tokens if word not in stopwords_list]\n",
    "    lemmatized_words = [lemmatizer.lemmatize(word) for word in words]\n",
    "    return lemmatized_words"
   ]
  },
  {
   "cell_type": "markdown",
   "id": "7257052a",
   "metadata": {},
   "source": [
    "### Performing preprocessing on the clean tweet feature\n"
   ]
  },
  {
   "cell_type": "code",
   "execution_count": 17,
   "id": "5accce89",
   "metadata": {},
   "outputs": [
    {
     "data": {
      "application/vnd.microsoft.datawrangler.viewer.v0+json": {
       "columns": [
        {
         "name": "index",
         "rawType": "int64",
         "type": "integer"
        },
        {
         "name": "Clean_Tweet",
         "rawType": "object",
         "type": "unknown"
        }
       ],
       "ref": "3855a8b0-1f78-4e12-90e2-d8714da4d34c",
       "rows": [
        [
         "48071",
         "['exactly', 'moses', 'kuria', 'ilk', 'say', 'negative', 'ethnicity', 'hate', 'speech', 'railathewardogsince', 'pictwittercomzhgkuut']"
        ],
        [
         "48072",
         "['exactly', 'kenyan', 'going', 'thank', 'god', 'time', 'richthe', 'poor', 'username', 'username', 'username', 'pictwittercomcfwviydmr']"
        ],
        [
         "48073",
         "['exactly', 'wrong', 'country', 'kikuyus', 'cant', 'stand', 'live', 'last', 'name', 'continue', 'living', 'together']"
        ],
        [
         "48074",
         "['exactly', 'thing', 'well', 'difference', 'kilifi', 'theyre', 'merely', 'pushing', 'kiambu', 'already', 'law', 'yet', 'username', 'decided', 'one', 'tribal', 'law', 'ban', 'word', 'kikuyus', 'right', 'others', 'wish', 'pictwittercomahhtdflk']"
        ],
        [
         "48075",
         "['exactly', 'luo', 'feel', 'country', 'like', 'moses', 'kuria', 'spewing', 'hate']"
        ]
       ],
       "shape": {
        "columns": 1,
        "rows": 5
       }
      },
      "text/plain": [
       "48071    [exactly, moses, kuria, ilk, say, negative, et...\n",
       "48072    [exactly, kenyan, going, thank, god, time, ric...\n",
       "48073    [exactly, wrong, country, kikuyus, cant, stand...\n",
       "48074    [exactly, thing, well, difference, kilifi, the...\n",
       "48075    [exactly, luo, feel, country, like, moses, kur...\n",
       "Name: Clean_Tweet, dtype: object"
      ]
     },
     "execution_count": 17,
     "metadata": {},
     "output_type": "execute_result"
    }
   ],
   "source": [
    "text_data = new_df['Clean_Tweet'].apply(lambda x: preprocess_text(x, tokenizer, stopwords_list, lemmatizer))\n",
    "text_data.tail()"
   ]
  },
  {
   "cell_type": "markdown",
   "id": "1a294138",
   "metadata": {},
   "source": [
    "### Adding preprocessed tweet as a column"
   ]
  },
  {
   "cell_type": "code",
   "execution_count": 18,
   "id": "b33113c1",
   "metadata": {},
   "outputs": [
    {
     "data": {
      "application/vnd.microsoft.datawrangler.viewer.v0+json": {
       "columns": [
        {
         "name": "index",
         "rawType": "int64",
         "type": "integer"
        },
        {
         "name": "Tweet",
         "rawType": "object",
         "type": "string"
        },
        {
         "name": "Class",
         "rawType": "int64",
         "type": "integer"
        },
        {
         "name": "Label",
         "rawType": "object",
         "type": "string"
        },
        {
         "name": "char",
         "rawType": "int64",
         "type": "integer"
        },
        {
         "name": "words",
         "rawType": "int64",
         "type": "integer"
        },
        {
         "name": "sentences",
         "rawType": "int64",
         "type": "integer"
        },
        {
         "name": "Clean_Tweet",
         "rawType": "object",
         "type": "string"
        },
        {
         "name": "Preprocessed_Tweet",
         "rawType": "object",
         "type": "unknown"
        }
       ],
       "ref": "068780c4-f225-4af5-a627-f37389553897",
       "rows": [
        [
         "0",
         "The political elite are in desperation. Ordinary kalenjins are suspicious of kikuyu community",
         "0",
         "Neutral",
         "93",
         "14",
         "2",
         "the political elite are in desperation ordinary kalenjins are suspicious of kikuyu community",
         "['political', 'elite', 'desperation', 'ordinary', 'kalenjins', 'suspicious', 'kikuyu', 'community']"
        ],
        [
         "1",
         "Am just curious the only people who are calling him old and mad are Kikuyus and not Kalenjins and that's a good sign USERNAME_1 USERNAME_2",
         "0",
         "Neutral",
         "138",
         "26",
         "1",
         "am just curious the only people who are calling him old and mad are kikuyus and not kalenjins and thats a good sign username username",
         "['curious', 'people', 'calling', 'old', 'mad', 'kikuyus', 'kalenjins', 'thats', 'good', 'sign', 'username', 'username']"
        ],
        [
         "2",
         "USERNAME_3 the area politicians are the one to blame coz they r insiting local students n villagers to attack non kalenjins students",
         "0",
         "Neutral",
         "132",
         "22",
         "1",
         "username the area politicians are the one to blame coz they r insiting local students n villagers to attack non kalenjins students",
         "['username', 'area', 'politician', 'one', 'blame', 'coz', 'insiting', 'local', 'student', 'villager', 'attack', 'non', 'kalenjins', 'student']"
        ],
        [
         "3",
         "War expected in Nakuru if something is not done . All Luos given Seven days to leave. Why are Kenyans Killing...",
         "0",
         "Neutral",
         "112",
         "23",
         "3",
         "war expected in nakuru if something is not done  all luos given seven days to leave why are kenyans killing",
         "['war', 'expected', 'nakuru', 'something', 'done', 'luo', 'given', 'seven', 'day', 'leave', 'kenyan', 'killing']"
        ],
        [
         "4",
         "USERNAME_4 tells kikuyus activists that they are being targeted. They have targetted USERNAME_5 . They want to kill him.",
         "0",
         "Neutral",
         "120",
         "21",
         "3",
         "username tells kikuyus activists that they are being targeted they have targetted username  they want to kill him",
         "['username', 'tell', 'kikuyus', 'activist', 'targeted', 'targetted', 'username', 'want', 'kill']"
        ]
       ],
       "shape": {
        "columns": 8,
        "rows": 5
       }
      },
      "text/html": [
       "<div>\n",
       "<style scoped>\n",
       "    .dataframe tbody tr th:only-of-type {\n",
       "        vertical-align: middle;\n",
       "    }\n",
       "\n",
       "    .dataframe tbody tr th {\n",
       "        vertical-align: top;\n",
       "    }\n",
       "\n",
       "    .dataframe thead th {\n",
       "        text-align: right;\n",
       "    }\n",
       "</style>\n",
       "<table border=\"1\" class=\"dataframe\">\n",
       "  <thead>\n",
       "    <tr style=\"text-align: right;\">\n",
       "      <th></th>\n",
       "      <th>Tweet</th>\n",
       "      <th>Class</th>\n",
       "      <th>Label</th>\n",
       "      <th>char</th>\n",
       "      <th>words</th>\n",
       "      <th>sentences</th>\n",
       "      <th>Clean_Tweet</th>\n",
       "      <th>Preprocessed_Tweet</th>\n",
       "    </tr>\n",
       "  </thead>\n",
       "  <tbody>\n",
       "    <tr>\n",
       "      <th>0</th>\n",
       "      <td>The political elite are in desperation. Ordina...</td>\n",
       "      <td>0</td>\n",
       "      <td>Neutral</td>\n",
       "      <td>93</td>\n",
       "      <td>14</td>\n",
       "      <td>2</td>\n",
       "      <td>the political elite are in desperation ordinar...</td>\n",
       "      <td>[political, elite, desperation, ordinary, kale...</td>\n",
       "    </tr>\n",
       "    <tr>\n",
       "      <th>1</th>\n",
       "      <td>Am just curious the only people who are callin...</td>\n",
       "      <td>0</td>\n",
       "      <td>Neutral</td>\n",
       "      <td>138</td>\n",
       "      <td>26</td>\n",
       "      <td>1</td>\n",
       "      <td>am just curious the only people who are callin...</td>\n",
       "      <td>[curious, people, calling, old, mad, kikuyus, ...</td>\n",
       "    </tr>\n",
       "    <tr>\n",
       "      <th>2</th>\n",
       "      <td>USERNAME_3 the area politicians are the one to...</td>\n",
       "      <td>0</td>\n",
       "      <td>Neutral</td>\n",
       "      <td>132</td>\n",
       "      <td>22</td>\n",
       "      <td>1</td>\n",
       "      <td>username the area politicians are the one to b...</td>\n",
       "      <td>[username, area, politician, one, blame, coz, ...</td>\n",
       "    </tr>\n",
       "    <tr>\n",
       "      <th>3</th>\n",
       "      <td>War expected in Nakuru if something is not don...</td>\n",
       "      <td>0</td>\n",
       "      <td>Neutral</td>\n",
       "      <td>112</td>\n",
       "      <td>23</td>\n",
       "      <td>3</td>\n",
       "      <td>war expected in nakuru if something is not don...</td>\n",
       "      <td>[war, expected, nakuru, something, done, luo, ...</td>\n",
       "    </tr>\n",
       "    <tr>\n",
       "      <th>4</th>\n",
       "      <td>USERNAME_4 tells kikuyus activists that they a...</td>\n",
       "      <td>0</td>\n",
       "      <td>Neutral</td>\n",
       "      <td>120</td>\n",
       "      <td>21</td>\n",
       "      <td>3</td>\n",
       "      <td>username tells kikuyus activists that they are...</td>\n",
       "      <td>[username, tell, kikuyus, activist, targeted, ...</td>\n",
       "    </tr>\n",
       "  </tbody>\n",
       "</table>\n",
       "</div>"
      ],
      "text/plain": [
       "                                               Tweet  Class    Label  char  \\\n",
       "0  The political elite are in desperation. Ordina...      0  Neutral    93   \n",
       "1  Am just curious the only people who are callin...      0  Neutral   138   \n",
       "2  USERNAME_3 the area politicians are the one to...      0  Neutral   132   \n",
       "3  War expected in Nakuru if something is not don...      0  Neutral   112   \n",
       "4  USERNAME_4 tells kikuyus activists that they a...      0  Neutral   120   \n",
       "\n",
       "   words  sentences                                        Clean_Tweet  \\\n",
       "0     14          2  the political elite are in desperation ordinar...   \n",
       "1     26          1  am just curious the only people who are callin...   \n",
       "2     22          1  username the area politicians are the one to b...   \n",
       "3     23          3  war expected in nakuru if something is not don...   \n",
       "4     21          3  username tells kikuyus activists that they are...   \n",
       "\n",
       "                                  Preprocessed_Tweet  \n",
       "0  [political, elite, desperation, ordinary, kale...  \n",
       "1  [curious, people, calling, old, mad, kikuyus, ...  \n",
       "2  [username, area, politician, one, blame, coz, ...  \n",
       "3  [war, expected, nakuru, something, done, luo, ...  \n",
       "4  [username, tell, kikuyus, activist, targeted, ...  "
      ]
     },
     "execution_count": 18,
     "metadata": {},
     "output_type": "execute_result"
    }
   ],
   "source": [
    "new_df[\"Preprocessed_Tweet\"] = text_data\n",
    "new_df.head()"
   ]
  },
  {
   "cell_type": "markdown",
   "id": "d3400491",
   "metadata": {},
   "source": [
    "### Frequency Dist Of Preprocessed Words"
   ]
  },
  {
   "cell_type": "code",
   "execution_count": 19,
   "id": "020419f6",
   "metadata": {},
   "outputs": [
    {
     "data": {
      "text/plain": [
       "FreqDist({'username': 15522, 'kikuyus': 7361, 'luo': 5223, 'noreformsnoelections': 4032, 'nyakundi': 2933, 'kenya': 2855, 'people': 2672, 'kenyan': 2529, 'like': 2357, 'one': 2125, ...})"
      ]
     },
     "execution_count": 19,
     "metadata": {},
     "output_type": "execute_result"
    }
   ],
   "source": [
    "frequency_dist = FreqDist(new_df['Preprocessed_Tweet'].explode())\n",
    "frequency_dist"
   ]
  },
  {
   "cell_type": "markdown",
   "id": "d281b587",
   "metadata": {},
   "source": [
    "### Distribution of top 20 words "
   ]
  },
  {
   "cell_type": "code",
   "execution_count": 20,
   "id": "fc5c6603",
   "metadata": {},
   "outputs": [
    {
     "data": {
      "image/png": "[encoded data removed]",
      "text/plain": [
       "<Figure size 1200x600 with 1 Axes>"
      ]
     },
     "metadata": {},
     "output_type": "display_data"
    }
   ],
   "source": [
    "\n",
    "# Sort the dictionary by value (descending)\n",
    "sorted_dict = dict(sorted(frequency_dist.items(), key=lambda x: x[1], reverse=True))\n",
    "\n",
    "# Take the top 20 Words\n",
    "top_20 = dict(list(sorted_dict.items())[:20])\n",
    "\n",
    "keys = [str(k) for k in top_20.keys()]\n",
    "values =  list( top_20.values())\n",
    "\n",
    "plt.figure(figsize=(12, 6))\n",
    "plt.bar(top_20.keys(), top_20.values())\n",
    "plt.title=(\"Distribution of top 20 Words in Tweets\")\n",
    "plt.xlabel=(\"Words\")\n",
    "plt.ylabel=(\"Count\")\n",
    "plt.xticks(rotation=45)  \n",
    "\n",
    "plt.tight_layout()  \n",
    "plt.show()\n",
    "\n",
    "## Word Cloud PLot\n",
    "# from wordcloud import WordCloud"
   ]
  },
  {
   "cell_type": "markdown",
   "id": "5afef06d",
   "metadata": {},
   "source": [
    "### Getting rid of the word \"username\""
   ]
  },
  {
   "cell_type": "code",
   "execution_count": 21,
   "id": "406d0b59",
   "metadata": {},
   "outputs": [],
   "source": [
    "new_df[\"Clean_Tweet\"] = new_df[\"Clean_Tweet\"].str.replace(\"username\", \"\", regex=False).str.strip()\n",
    "  "
   ]
  },
  {
   "cell_type": "code",
   "execution_count": 22,
   "id": "917abbfd",
   "metadata": {},
   "outputs": [
    {
     "data": {
      "application/vnd.microsoft.datawrangler.viewer.v0+json": {
       "columns": [
        {
         "name": "index",
         "rawType": "int64",
         "type": "integer"
        },
        {
         "name": "Tweet",
         "rawType": "object",
         "type": "string"
        },
        {
         "name": "Class",
         "rawType": "int64",
         "type": "integer"
        },
        {
         "name": "Label",
         "rawType": "object",
         "type": "string"
        },
        {
         "name": "char",
         "rawType": "int64",
         "type": "integer"
        },
        {
         "name": "words",
         "rawType": "int64",
         "type": "integer"
        },
        {
         "name": "sentences",
         "rawType": "int64",
         "type": "integer"
        },
        {
         "name": "Clean_Tweet",
         "rawType": "object",
         "type": "string"
        },
        {
         "name": "Preprocessed_Tweet",
         "rawType": "object",
         "type": "unknown"
        }
       ],
       "ref": "c8e4c9bb-ee13-4609-addd-5a70c6be97ec",
       "rows": [
        [
         "0",
         "The political elite are in desperation. Ordinary kalenjins are suspicious of kikuyu community",
         "0",
         "Neutral",
         "93",
         "14",
         "2",
         "the political elite are in desperation ordinary kalenjins are suspicious of kikuyu community",
         "['political', 'elite', 'desperation', 'ordinary', 'kalenjins', 'suspicious', 'kikuyu', 'community']"
        ],
        [
         "1",
         "Am just curious the only people who are calling him old and mad are Kikuyus and not Kalenjins and that's a good sign USERNAME_1 USERNAME_2",
         "0",
         "Neutral",
         "138",
         "26",
         "1",
         "am just curious the only people who are calling him old and mad are kikuyus and not kalenjins and thats a good sign",
         "['curious', 'people', 'calling', 'old', 'mad', 'kikuyus', 'kalenjins', 'thats', 'good', 'sign']"
        ],
        [
         "2",
         "USERNAME_3 the area politicians are the one to blame coz they r insiting local students n villagers to attack non kalenjins students",
         "0",
         "Neutral",
         "132",
         "22",
         "1",
         "the area politicians are the one to blame coz they r insiting local students n villagers to attack non kalenjins students",
         "['area', 'politician', 'one', 'blame', 'coz', 'insiting', 'local', 'student', 'villager', 'attack', 'non', 'kalenjins', 'student']"
        ],
        [
         "3",
         "War expected in Nakuru if something is not done . All Luos given Seven days to leave. Why are Kenyans Killing...",
         "0",
         "Neutral",
         "112",
         "23",
         "3",
         "war expected in nakuru if something is not done  all luos given seven days to leave why are kenyans killing",
         "['war', 'expected', 'nakuru', 'something', 'done', 'luo', 'given', 'seven', 'day', 'leave', 'kenyan', 'killing']"
        ],
        [
         "4",
         "USERNAME_4 tells kikuyus activists that they are being targeted. They have targetted USERNAME_5 . They want to kill him.",
         "0",
         "Neutral",
         "120",
         "21",
         "3",
         "tells kikuyus activists that they are being targeted they have targetted   they want to kill him",
         "['tell', 'kikuyus', 'activist', 'targeted', 'targetted', 'want', 'kill']"
        ]
       ],
       "shape": {
        "columns": 8,
        "rows": 5
       }
      },
      "text/html": [
       "<div>\n",
       "<style scoped>\n",
       "    .dataframe tbody tr th:only-of-type {\n",
       "        vertical-align: middle;\n",
       "    }\n",
       "\n",
       "    .dataframe tbody tr th {\n",
       "        vertical-align: top;\n",
       "    }\n",
       "\n",
       "    .dataframe thead th {\n",
       "        text-align: right;\n",
       "    }\n",
       "</style>\n",
       "<table border=\"1\" class=\"dataframe\">\n",
       "  <thead>\n",
       "    <tr style=\"text-align: right;\">\n",
       "      <th></th>\n",
       "      <th>Tweet</th>\n",
       "      <th>Class</th>\n",
       "      <th>Label</th>\n",
       "      <th>char</th>\n",
       "      <th>words</th>\n",
       "      <th>sentences</th>\n",
       "      <th>Clean_Tweet</th>\n",
       "      <th>Preprocessed_Tweet</th>\n",
       "    </tr>\n",
       "  </thead>\n",
       "  <tbody>\n",
       "    <tr>\n",
       "      <th>0</th>\n",
       "      <td>The political elite are in desperation. Ordina...</td>\n",
       "      <td>0</td>\n",
       "      <td>Neutral</td>\n",
       "      <td>93</td>\n",
       "      <td>14</td>\n",
       "      <td>2</td>\n",
       "      <td>the political elite are in desperation ordinar...</td>\n",
       "      <td>[political, elite, desperation, ordinary, kale...</td>\n",
       "    </tr>\n",
       "    <tr>\n",
       "      <th>1</th>\n",
       "      <td>Am just curious the only people who are callin...</td>\n",
       "      <td>0</td>\n",
       "      <td>Neutral</td>\n",
       "      <td>138</td>\n",
       "      <td>26</td>\n",
       "      <td>1</td>\n",
       "      <td>am just curious the only people who are callin...</td>\n",
       "      <td>[curious, people, calling, old, mad, kikuyus, ...</td>\n",
       "    </tr>\n",
       "    <tr>\n",
       "      <th>2</th>\n",
       "      <td>USERNAME_3 the area politicians are the one to...</td>\n",
       "      <td>0</td>\n",
       "      <td>Neutral</td>\n",
       "      <td>132</td>\n",
       "      <td>22</td>\n",
       "      <td>1</td>\n",
       "      <td>the area politicians are the one to blame coz ...</td>\n",
       "      <td>[area, politician, one, blame, coz, insiting, ...</td>\n",
       "    </tr>\n",
       "    <tr>\n",
       "      <th>3</th>\n",
       "      <td>War expected in Nakuru if something is not don...</td>\n",
       "      <td>0</td>\n",
       "      <td>Neutral</td>\n",
       "      <td>112</td>\n",
       "      <td>23</td>\n",
       "      <td>3</td>\n",
       "      <td>war expected in nakuru if something is not don...</td>\n",
       "      <td>[war, expected, nakuru, something, done, luo, ...</td>\n",
       "    </tr>\n",
       "    <tr>\n",
       "      <th>4</th>\n",
       "      <td>USERNAME_4 tells kikuyus activists that they a...</td>\n",
       "      <td>0</td>\n",
       "      <td>Neutral</td>\n",
       "      <td>120</td>\n",
       "      <td>21</td>\n",
       "      <td>3</td>\n",
       "      <td>tells kikuyus activists that they are being ta...</td>\n",
       "      <td>[tell, kikuyus, activist, targeted, targetted,...</td>\n",
       "    </tr>\n",
       "  </tbody>\n",
       "</table>\n",
       "</div>"
      ],
      "text/plain": [
       "                                               Tweet  Class    Label  char  \\\n",
       "0  The political elite are in desperation. Ordina...      0  Neutral    93   \n",
       "1  Am just curious the only people who are callin...      0  Neutral   138   \n",
       "2  USERNAME_3 the area politicians are the one to...      0  Neutral   132   \n",
       "3  War expected in Nakuru if something is not don...      0  Neutral   112   \n",
       "4  USERNAME_4 tells kikuyus activists that they a...      0  Neutral   120   \n",
       "\n",
       "   words  sentences                                        Clean_Tweet  \\\n",
       "0     14          2  the political elite are in desperation ordinar...   \n",
       "1     26          1  am just curious the only people who are callin...   \n",
       "2     22          1  the area politicians are the one to blame coz ...   \n",
       "3     23          3  war expected in nakuru if something is not don...   \n",
       "4     21          3  tells kikuyus activists that they are being ta...   \n",
       "\n",
       "                                  Preprocessed_Tweet  \n",
       "0  [political, elite, desperation, ordinary, kale...  \n",
       "1  [curious, people, calling, old, mad, kikuyus, ...  \n",
       "2  [area, politician, one, blame, coz, insiting, ...  \n",
       "3  [war, expected, nakuru, something, done, luo, ...  \n",
       "4  [tell, kikuyus, activist, targeted, targetted,...  "
      ]
     },
     "execution_count": 22,
     "metadata": {},
     "output_type": "execute_result"
    }
   ],
   "source": [
    "text_data = new_df['Clean_Tweet'].apply(lambda x: preprocess_text(x, tokenizer, stopwords_list, lemmatizer))\n",
    "new_df[\"Preprocessed_Tweet\"] = text_data\n",
    "new_df.head()"
   ]
  },
  {
   "cell_type": "markdown",
   "id": "285754f0",
   "metadata": {},
   "source": [
    "### Distribution of Words by LABEL/CLASS"
   ]
  },
  {
   "cell_type": "code",
   "execution_count": 23,
   "id": "88cdfa14",
   "metadata": {},
   "outputs": [
    {
     "data": {
      "image/png": "[encoded data removed]",
      "text/plain": [
       "<Figure size 1200x1200 with 3 Axes>"
      ]
     },
     "metadata": {},
     "output_type": "display_data"
    }
   ],
   "source": [
    "fig, axes = plt.subplots(nrows=3, figsize=(12, 12))\n",
    "color_palette = sns.color_palette('cividis')  # Unlimited colors from palette\n",
    "\n",
    "for idx, label_df in enumerate(new_df.groupby('Label')):\n",
    "    label_name, group_data = label_df\n",
    "    all_words = group_data['Preprocessed_Tweet'].explode()\n",
    "    top_20 = all_words.value_counts().nlargest(20)\n",
    "    \n",
    "    # Plot with automatic color cycling\n",
    "    ax = axes[idx]\n",
    "    top_20.plot.bar(ax=ax, color=color_palette)\n",
    "    ax.set_title(label_name.title())\n",
    "    ax.set_xticklabels(top_20.index, rotation=45, ha='right')\n",
    "    ax.set_ylabel('Word Count')\n",
    "\n",
    "fig.tight_layout()\n",
    "plt.show()"
   ]
  },
  {
   "cell_type": "markdown",
   "id": "e379b1b5",
   "metadata": {},
   "source": [
    "### Word Cloud"
   ]
  },
  {
   "cell_type": "code",
   "execution_count": 24,
   "id": "adf512c5",
   "metadata": {},
   "outputs": [],
   "source": [
    "#pip install wordcloud"
   ]
  },
  {
   "cell_type": "code",
   "execution_count": 25,
   "id": "c732d689",
   "metadata": {},
   "outputs": [
    {
     "ename": "TypeError",
     "evalue": "'str' object is not callable",
     "output_type": "error",
     "traceback": [
      "\u001b[1;31m---------------------------------------------------------------------------\u001b[0m",
      "\u001b[1;31mTypeError\u001b[0m                                 Traceback (most recent call last)",
      "Cell \u001b[1;32mIn[25], line 27\u001b[0m\n\u001b[0;32m     25\u001b[0m     plt\u001b[38;5;241m.\u001b[39msubplot(\u001b[38;5;241m3\u001b[39m, \u001b[38;5;241m1\u001b[39m, i)  \n\u001b[0;32m     26\u001b[0m     plt\u001b[38;5;241m.\u001b[39mimshow(wordcloud, interpolation\u001b[38;5;241m=\u001b[39m\u001b[38;5;124m'\u001b[39m\u001b[38;5;124mbilinear\u001b[39m\u001b[38;5;124m'\u001b[39m)\n\u001b[1;32m---> 27\u001b[0m     plt\u001b[38;5;241m.\u001b[39mtitle(\u001b[38;5;124mf\u001b[39m\u001b[38;5;124m\"\u001b[39m\u001b[38;5;132;01m{\u001b[39;00msentiment\u001b[38;5;241m.\u001b[39mcapitalize()\u001b[38;5;132;01m}\u001b[39;00m\u001b[38;5;124m Tweets\u001b[39m\u001b[38;5;124m\"\u001b[39m, fontsize\u001b[38;5;241m=\u001b[39m\u001b[38;5;241m16\u001b[39m)\n\u001b[0;32m     28\u001b[0m     plt\u001b[38;5;241m.\u001b[39maxis(\u001b[38;5;124m'\u001b[39m\u001b[38;5;124moff\u001b[39m\u001b[38;5;124m'\u001b[39m)\n\u001b[0;32m     30\u001b[0m plt\u001b[38;5;241m.\u001b[39mtight_layout()\n",
      "\u001b[1;31mTypeError\u001b[0m: 'str' object is not callable"
     ]
    },
    {
     "data": {
      "image/png": "[encoded data removed]",
      "text/plain": [
       "<Figure size 1000x1500 with 1 Axes>"
      ]
     },
     "metadata": {},
     "output_type": "display_data"
    }
   ],
   "source": [
    "from wordcloud import WordCloud\n",
    "\n",
    "# List of sentiment classes (ensure they match the values in your DataFrame exactly)\n",
    "sentiments = ['Neutral', 'Offensive', 'Hate Speech']\n",
    "\n",
    "# Set figure size for vertical layout\n",
    "plt.figure(figsize=(10, 15))\n",
    "\n",
    "# Generate and plot word cloud for each sentiment\n",
    "for i, sentiment in enumerate(sentiments, 1):\n",
    "    text = \" \".join(\n",
    "        new_df[new_df['Label'].str.lower() == sentiment].astype(str)\n",
    "    )\n",
    "\n",
    "    # Generate word cloud\n",
    "    wordcloud = WordCloud(\n",
    "        width=800,\n",
    "        height=400,\n",
    "        background_color='black',\n",
    "        colormap='viridis',\n",
    "        max_words=200\n",
    "    ).generate(text)\n",
    "\n",
    "    # Plot in a separate row\n",
    "    plt.subplot(3, 1, i)  \n",
    "    plt.imshow(wordcloud, interpolation='bilinear')\n",
    "    plt.title(f\"{sentiment.capitalize()} Tweets\", fontsize=16)\n",
    "    plt.axis('off')\n",
    "\n",
    "plt.tight_layout()\n",
    "plt.show()"
   ]
  },
  {
   "cell_type": "markdown",
   "id": "77cfff60",
   "metadata": {},
   "source": [
    "## **4. Modelling**"
   ]
  },
  {
   "cell_type": "code",
   "execution_count": 26,
   "id": "787fd42c",
   "metadata": {},
   "outputs": [],
   "source": [
    "#defining x and y\n",
    "X=new_df[\"Preprocessed_Tweet\"]\n",
    "y=new_df[\"Class\"]"
   ]
  },
  {
   "cell_type": "code",
   "execution_count": 27,
   "id": "3db41ab2",
   "metadata": {},
   "outputs": [],
   "source": [
    "#train test split \n",
    "X_train,X_test,y_train,y_test=train_test_split(X,y,stratify=y,test_size=0.2,random_state=42)"
   ]
  },
  {
   "cell_type": "code",
   "execution_count": 28,
   "id": "f7268e39",
   "metadata": {},
   "outputs": [],
   "source": [
    "X_train = X_train.apply(lambda x: \" \".join(x) if isinstance(x, list) else x)\n",
    "X_test = X_test.apply(lambda x: \" \".join(x) if isinstance(x, list) else x)\n"
   ]
  },
  {
   "cell_type": "markdown",
   "id": "1331c088",
   "metadata": {},
   "source": [
    "### *Baseline Model*"
   ]
  },
  {
   "cell_type": "code",
   "execution_count": 29,
   "id": "6ab2d7b0",
   "metadata": {},
   "outputs": [
    {
     "name": "stdout",
     "output_type": "stream",
     "text": [
      "              precision    recall  f1-score   support\n",
      "\n",
      "           0       0.78      0.97      0.86      7271\n",
      "           1       0.42      0.11      0.18      1709\n",
      "           2       0.40      0.11      0.17       636\n",
      "\n",
      "    accuracy                           0.76      9616\n",
      "   macro avg       0.53      0.40      0.41      9616\n",
      "weighted avg       0.69      0.76      0.70      9616\n",
      "\n"
     ]
    }
   ],
   "source": [
    "from sklearn.pipeline import Pipeline\n",
    "pipe=Pipeline([(\"vect\",TfidfVectorizer()),\n",
    "               (\"clf\",LogisticRegression())])\n",
    "pipe.fit(X_train,y_train)\n",
    "pred=pipe.predict(X_test)\n",
    "print(classification_report(y_test,pred))"
   ]
  },
  {
   "cell_type": "code",
   "execution_count": 31,
   "id": "48c6c94e",
   "metadata": {},
   "outputs": [],
   "source": [
    "# defining the word embeddings\n",
    "X_train_bert=np.load(\"X_train_bert.npy\")\n",
    "X_test_bert=np.load(\"X_test_bert.npy\")"
   ]
  },
  {
   "cell_type": "code",
   "execution_count": 32,
   "id": "9d04b1a8",
   "metadata": {},
   "outputs": [
    {
     "name": "stdout",
     "output_type": "stream",
     "text": [
      "              precision    recall  f1-score   support\n",
      "\n",
      "           0       0.78      0.96      0.86      7271\n",
      "           1       0.42      0.12      0.19      1709\n",
      "           2       0.37      0.14      0.20       636\n",
      "\n",
      "    accuracy                           0.76      9616\n",
      "   macro avg       0.52      0.41      0.42      9616\n",
      "weighted avg       0.69      0.76      0.70      9616\n",
      "\n"
     ]
    }
   ],
   "source": [
    "# trying out the baseline model with git embeddings\n",
    "from sklearn.linear_model import LogisticRegression\n",
    "\n",
    "clf =LogisticRegression()\n",
    "clf.fit(X_train_bert, y_train)\n",
    "\n",
    "# Predict and evaluate\n",
    "y_pred = clf.predict(X_test_bert)\n",
    "print(classification_report(y_test, y_pred))"
   ]
  },
  {
   "cell_type": "markdown",
   "id": "50e75a11",
   "metadata": {},
   "source": [
    "### *Cross Validation*"
   ]
  },
  {
   "cell_type": "code",
   "execution_count": 33,
   "id": "3b151794",
   "metadata": {},
   "outputs": [
    {
     "name": "stdout",
     "output_type": "stream",
     "text": [
      "Training Logistic Regression...\n",
      "Training GaussianNB...\n",
      "Training Random Forest...\n",
      "Training XGBoost...\n"
     ]
    },
    {
     "data": {
      "application/vnd.microsoft.datawrangler.viewer.v0+json": {
       "columns": [
        {
         "name": "index",
         "rawType": "int64",
         "type": "integer"
        },
        {
         "name": "Model",
         "rawType": "object",
         "type": "string"
        },
        {
         "name": "Accuracy",
         "rawType": "float64",
         "type": "float"
        },
        {
         "name": "Precision",
         "rawType": "float64",
         "type": "float"
        },
        {
         "name": "Recall",
         "rawType": "float64",
         "type": "float"
        },
        {
         "name": "F1 Score",
         "rawType": "float64",
         "type": "float"
        },
        {
         "name": "ROC AUC",
         "rawType": "float64",
         "type": "float"
        }
       ],
       "ref": "deda59ad-782a-4961-8e86-a37724d147d5",
       "rows": [
        [
         "0",
         "Logistic Regression",
         "0.7564475873544093",
         "0.5257729380583057",
         "0.41101912655395445",
         "0.4216238430620816",
         "0.7580641272195702"
        ],
        [
         "1",
         "GaussianNB",
         "0.5735232945091514",
         "0.41328537143874894",
         "0.48546761820172657",
         "0.4051114449513374",
         "0.6768875645349347"
        ],
        [
         "3",
         "XGBoost",
         "0.7557196339434277",
         "0.5292923403714451",
         "0.3798644813092747",
         "0.3798086004497114",
         "0.7495125276337689"
        ],
        [
         "2",
         "Random Forest",
         "0.7574875207986689",
         "0.5951619183782589",
         "0.34253397635507715",
         "0.30663818345995697",
         "0.6910358791135116"
        ]
       ],
       "shape": {
        "columns": 6,
        "rows": 4
       }
      },
      "text/html": [
       "<div>\n",
       "<style scoped>\n",
       "    .dataframe tbody tr th:only-of-type {\n",
       "        vertical-align: middle;\n",
       "    }\n",
       "\n",
       "    .dataframe tbody tr th {\n",
       "        vertical-align: top;\n",
       "    }\n",
       "\n",
       "    .dataframe thead th {\n",
       "        text-align: right;\n",
       "    }\n",
       "</style>\n",
       "<table border=\"1\" class=\"dataframe\">\n",
       "  <thead>\n",
       "    <tr style=\"text-align: right;\">\n",
       "      <th></th>\n",
       "      <th>Model</th>\n",
       "      <th>Accuracy</th>\n",
       "      <th>Precision</th>\n",
       "      <th>Recall</th>\n",
       "      <th>F1 Score</th>\n",
       "      <th>ROC AUC</th>\n",
       "    </tr>\n",
       "  </thead>\n",
       "  <tbody>\n",
       "    <tr>\n",
       "      <th>0</th>\n",
       "      <td>Logistic Regression</td>\n",
       "      <td>0.756448</td>\n",
       "      <td>0.525773</td>\n",
       "      <td>0.411019</td>\n",
       "      <td>0.421624</td>\n",
       "      <td>0.758064</td>\n",
       "    </tr>\n",
       "    <tr>\n",
       "      <th>1</th>\n",
       "      <td>GaussianNB</td>\n",
       "      <td>0.573523</td>\n",
       "      <td>0.413285</td>\n",
       "      <td>0.485468</td>\n",
       "      <td>0.405111</td>\n",
       "      <td>0.676888</td>\n",
       "    </tr>\n",
       "    <tr>\n",
       "      <th>3</th>\n",
       "      <td>XGBoost</td>\n",
       "      <td>0.755720</td>\n",
       "      <td>0.529292</td>\n",
       "      <td>0.379864</td>\n",
       "      <td>0.379809</td>\n",
       "      <td>0.749513</td>\n",
       "    </tr>\n",
       "    <tr>\n",
       "      <th>2</th>\n",
       "      <td>Random Forest</td>\n",
       "      <td>0.757488</td>\n",
       "      <td>0.595162</td>\n",
       "      <td>0.342534</td>\n",
       "      <td>0.306638</td>\n",
       "      <td>0.691036</td>\n",
       "    </tr>\n",
       "  </tbody>\n",
       "</table>\n",
       "</div>"
      ],
      "text/plain": [
       "                 Model  Accuracy  Precision    Recall  F1 Score   ROC AUC\n",
       "0  Logistic Regression  0.756448   0.525773  0.411019  0.421624  0.758064\n",
       "1           GaussianNB  0.573523   0.413285  0.485468  0.405111  0.676888\n",
       "3              XGBoost  0.755720   0.529292  0.379864  0.379809  0.749513\n",
       "2        Random Forest  0.757488   0.595162  0.342534  0.306638  0.691036"
      ]
     },
     "execution_count": 33,
     "metadata": {},
     "output_type": "execute_result"
    }
   ],
   "source": [
    "# cross validating candidate models with the word embeddings\n",
    "from sklearn.linear_model import LogisticRegression\n",
    "from sklearn.naive_bayes import GaussianNB\n",
    "from sklearn.ensemble import RandomForestClassifier\n",
    "from xgboost import XGBClassifier\n",
    "from sklearn.metrics import classification_report, roc_auc_score\n",
    "import pandas as pd\n",
    "\n",
    "# Define models\n",
    "models = {\n",
    "    'Logistic Regression': LogisticRegression(max_iter=1000),\n",
    "    'GaussianNB': GaussianNB(),\n",
    "    'Random Forest': RandomForestClassifier(),\n",
    "    'XGBoost': XGBClassifier(use_label_encoder=False, eval_metric='mlogloss')\n",
    "}\n",
    "\n",
    "# Store results\n",
    "results = []\n",
    "\n",
    "for name, model in models.items():\n",
    "    print(f\"Training {name}...\")\n",
    "\n",
    "    # GaussianNB requires dense input\n",
    "    if name == 'GaussianNB':\n",
    "        model.fit(X_train_bert, y_train)\n",
    "        y_pred = model.predict(X_test_bert)\n",
    "        y_prob = model.predict_proba(X_test_bert)\n",
    "    else:\n",
    "        model.fit(X_train_bert, y_train)\n",
    "        y_pred = model.predict(X_test_bert)\n",
    "        y_prob = model.predict_proba(X_test_bert)\n",
    "    \n",
    "    # Metrics\n",
    "    report = classification_report(y_test, y_pred, output_dict=True, zero_division=0)\n",
    "    \n",
    "    try:\n",
    "        auc = roc_auc_score(y_test, y_prob, multi_class='ovr')\n",
    "    except:\n",
    "        auc = None  # In case probability output is missing\n",
    "\n",
    "    results.append({\n",
    "        'Model': name,\n",
    "        'Accuracy': report['accuracy'],\n",
    "        'Precision': report['macro avg']['precision'],\n",
    "        'Recall': report['macro avg']['recall'],\n",
    "        'F1 Score': report['macro avg']['f1-score'],\n",
    "        'ROC AUC': auc\n",
    "    })\n",
    "\n",
    "# Display results\n",
    "pd.DataFrame(results).sort_values(by='F1 Score', ascending=False)\n"
   ]
  }
 ],
 "metadata": {
  "kernelspec": {
   "display_name": "Python (learn-env)",
   "language": "python",
   "name": "learn-env"
  },
  "language_info": {
   "codemirror_mode": {
    "name": "ipython",
    "version": 3
   },
   "file_extension": ".py",
   "mimetype": "text/x-python",
   "name": "python",
   "nbconvert_exporter": "python",
   "pygments_lexer": "ipython3",
   "version": "3.8.5"
  }
 },
 "nbformat": 4,
 "nbformat_minor": 5
}
