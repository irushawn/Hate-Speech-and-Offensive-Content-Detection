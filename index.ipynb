{
 "cells": [
  {
   "cell_type": "markdown",
   "id": "b4688c35",
   "metadata": {},
   "source": [
    "# **Hate Speech and Offensive Content Detection**\n",
    "\n",
    "## **1. Business Understanding**\n",
    "### *Overview*\n",
    "In Kenya's digital landscape, Twitter plays a critical role in shaping public discourse, especially during election seasons and politically charged events. While it provides a platform for civic engagement, it also facilitates the spread of hate speech, tribalism, and inciting language. This content can escalate tensions and contribute to real-world conflict if left unchecked.\n",
    "### *Challenges*\n",
    "Manually moderating large volumes of tweets is inefficient and prone to bias. Current moderation systems struggle to scale and often miss localized forms of hate speech, particularly those specific to Kenyan cultural and political contexts. There is also a lack of automated tools specifically designed to detect offensive content within Kenyan tweets.\n",
    "### *Proposed Solution*\n",
    "Develop a machine learning model that can automatically categorize tweets into three classes: hate speech, offensive content, or neither. The model will serve as a content flagging tool for:\n",
    "Early detection of harmful tweets during elections or national events.\n",
    "Support for content moderation teams at media outlets, regulatory bodies, and social platforms.\n",
    "Enhancing digital safety by tracking the evolution and spread of dangerous speech trends.\n",
    "\n",
    "\n",
    "An effective classification model tailored to the Kenyan context can reduce the spread of inciting content and improve the quality of online public discourse. This system would be vital in promoting peace, especially during sensitive periods like elections.\n",
    "\n",
    "### *Problem Statement*\n",
    "There is an urgent need for a localized and scalable hate speech detection system to flag inciting and offensive tweets in Kenya, particularly during political periods where online speech can incite real-world unrest.\n",
    "\n",
    "### *Objectives*\n",
    "- To evaluate the most common terms or phrases used in inciting tweets.\n",
    "- To build a multi-class classification model that labels tweets as hate speech, offensive, or neither.\n",
    "- To evaluate model performance across different algorithms using accuracy.\n",
    "- To Deploy the best performing model using Streamlit\n",
    "\n",
    "## **2 Data Understanding**\n",
    "The dataset used in this project, HateSpeech_Kenya.csv, was sourced from Kaggle, a well-known platform for sharing datasets and machine learning challenges. It contains approximately 48,000 tweets labeled for sentiment and hate speech, specifically focused on the Kenyan social and political context.\n",
    "Key Features of the Data:\n",
    "`tweet`: The raw text of the tweet . this forms the primary input for natural language processing and classification tasks.\n",
    "`label`: The target variable, where 0 represents neutral content and 1 represents offensive content and 2 represent hate speech.\n",
    "\n",
    "This dataset is directly aligned with the project goal of developing a machine learning model to detect and categorize hate speech in Kenyan tweets. The inclusion of localized language, real-world offensive content, and metadata allows the model to learn patterns specific to the Kenyan context.\n"
   ]
  },
  {
   "cell_type": "markdown",
   "id": "c62e401b",
   "metadata": {},
   "source": [
    "### *Importing Dependencies*"
   ]
  },
  {
   "cell_type": "code",
   "execution_count": 1,
   "id": "2767cffa",
   "metadata": {},
   "outputs": [
    {
     "name": "stderr",
     "output_type": "stream",
     "text": [
      "[nltk_data] Downloading package wordnet to C:\\Users\\USER\n",
      "[nltk_data]     PC\\AppData\\Roaming\\nltk_data...\n",
      "[nltk_data]   Package wordnet is already up-to-date!\n"
     ]
    }
   ],
   "source": [
    "# Data Manipulation\n",
    "import pandas as pd\n",
    "import numpy as np\n",
    "\n",
    "# Text Preprocessing\n",
    "import re\n",
    "import string\n",
    "\n",
    "# Visualization\n",
    "import matplotlib.pyplot as plt\n",
    "import seaborn as sns\n",
    "\n",
    "# NLP Utilities\n",
    "import nltk\n",
    "from nltk.corpus import stopwords\n",
    "from nltk.stem.wordnet import WordNetLemmatizer\n",
    "from nltk import word_tokenize\n",
    "from nltk import FreqDist\n",
    "nltk.download('wordnet')\n",
    "from nltk.tokenize import RegexpTokenizer\n",
    "from nltk.stem import PorterStemmer\n",
    "\n",
    "# Feature Extraction\n",
    "from sklearn.feature_extraction.text import TfidfVectorizer\n",
    "\n",
    "# Machine Learning Models\n",
    "from sklearn.model_selection import train_test_split\n",
    "from sklearn.linear_model import LogisticRegression\n",
    "from sklearn.ensemble import RandomForestClassifier\n",
    "from xgboost import XGBClassifier\n",
    "from sklearn.metrics import classification_report, confusion_matrix, accuracy_score\n",
    "\n",
    "# Filter Warnings\n",
    "import warnings\n",
    "warnings.filterwarnings(\"ignore\")\n",
    "%matplotlib inline\n"
   ]
  },
  {
   "cell_type": "markdown",
   "id": "0e839cef",
   "metadata": {},
   "source": [
    "## **3 Data Preparation**\n"
   ]
  },
  {
   "cell_type": "markdown",
   "id": "48fe0eba",
   "metadata": {},
   "source": [
    "Using Pandas Library we load our CSV file 'HateSpeech_Kenya.csv' into a Pandas DataFrame (df).\n",
    "\n",
    "The dataset likely contains tweets along with labels indicating whether they are neutral, offensive, or hate speech. Our dataset has 6 columns, hatespeech, offensive language, neither are columns used to classify our tweet. Class column is the label of our tweet while our tweet column contains the initial tweet post/message.\n",
    "\n",
    "We mapped our classes to their respective category under the new column named Label"
   ]
  },
  {
   "cell_type": "code",
   "execution_count": 2,
   "id": "2ed2e461",
   "metadata": {},
   "outputs": [
    {
     "data": {
      "text/html": [
       "<div>\n",
       "<style scoped>\n",
       "    .dataframe tbody tr th:only-of-type {\n",
       "        vertical-align: middle;\n",
       "    }\n",
       "\n",
       "    .dataframe tbody tr th {\n",
       "        vertical-align: top;\n",
       "    }\n",
       "\n",
       "    .dataframe thead th {\n",
       "        text-align: right;\n",
       "    }\n",
       "</style>\n",
       "<table border=\"1\" class=\"dataframe\">\n",
       "  <thead>\n",
       "    <tr style=\"text-align: right;\">\n",
       "      <th></th>\n",
       "      <th>hate_speech</th>\n",
       "      <th>offensive_language</th>\n",
       "      <th>neither</th>\n",
       "      <th>Class</th>\n",
       "      <th>Tweet</th>\n",
       "      <th>Label</th>\n",
       "    </tr>\n",
       "  </thead>\n",
       "  <tbody>\n",
       "    <tr>\n",
       "      <th>48071</th>\n",
       "      <td>0</td>\n",
       "      <td>0</td>\n",
       "      <td>2</td>\n",
       "      <td>0</td>\n",
       "      <td>This is exactly what Moses Kuria &amp; ilk are doi...</td>\n",
       "      <td>Neutral</td>\n",
       "    </tr>\n",
       "    <tr>\n",
       "      <th>48072</th>\n",
       "      <td>0</td>\n",
       "      <td>0</td>\n",
       "      <td>2</td>\n",
       "      <td>0</td>\n",
       "      <td>This is exactly what Kenyans are going through...</td>\n",
       "      <td>Neutral</td>\n",
       "    </tr>\n",
       "    <tr>\n",
       "      <th>48073</th>\n",
       "      <td>0</td>\n",
       "      <td>0</td>\n",
       "      <td>2</td>\n",
       "      <td>0</td>\n",
       "      <td>This is exactly what is wrong with this countr...</td>\n",
       "      <td>Neutral</td>\n",
       "    </tr>\n",
       "    <tr>\n",
       "      <th>48074</th>\n",
       "      <td>1</td>\n",
       "      <td>0</td>\n",
       "      <td>2</td>\n",
       "      <td>0</td>\n",
       "      <td>This is exactly the same thing. Well the only ...</td>\n",
       "      <td>Neutral</td>\n",
       "    </tr>\n",
       "    <tr>\n",
       "      <th>48075</th>\n",
       "      <td>0</td>\n",
       "      <td>1</td>\n",
       "      <td>2</td>\n",
       "      <td>0</td>\n",
       "      <td>This is exactly how Luos feel in this country ...</td>\n",
       "      <td>Neutral</td>\n",
       "    </tr>\n",
       "  </tbody>\n",
       "</table>\n",
       "</div>"
      ],
      "text/plain": [
       "       hate_speech  offensive_language  neither  Class  \\\n",
       "48071            0                   0        2      0   \n",
       "48072            0                   0        2      0   \n",
       "48073            0                   0        2      0   \n",
       "48074            1                   0        2      0   \n",
       "48075            0                   1        2      0   \n",
       "\n",
       "                                                   Tweet    Label  \n",
       "48071  This is exactly what Moses Kuria & ilk are doi...  Neutral  \n",
       "48072  This is exactly what Kenyans are going through...  Neutral  \n",
       "48073  This is exactly what is wrong with this countr...  Neutral  \n",
       "48074  This is exactly the same thing. Well the only ...  Neutral  \n",
       "48075  This is exactly how Luos feel in this country ...  Neutral  "
      ]
     },
     "execution_count": 2,
     "metadata": {},
     "output_type": "execute_result"
    }
   ],
   "source": [
    "# Loading the dataset, Mapping Class with respective Labels\n",
    "df = pd.read_csv('HateSpeech_Kenya.csv')\n",
    "df['Tweet'] = df['Tweet'].apply(lambda x: ' '.join(eval(x)) if isinstance(x, str) else x)\n",
    "label_map = {0: 'Neutral', 1: 'Offensive', 2: 'Hate Speech'}\n",
    "df['Label'] = df['Class'].map(label_map)\n",
    "df.tail()\n"
   ]
  },
  {
   "cell_type": "markdown",
   "id": "ee2cd8a2",
   "metadata": {},
   "source": [
    "### *Extracting the Relevant Columns*"
   ]
  },
  {
   "cell_type": "markdown",
   "id": "39f19eff",
   "metadata": {},
   "source": [
    "From our Dataframe we are going to extract meaningful columns for this analysis: Tweet and the Label/Class Column are our columns of interests for this predictive task"
   ]
  },
  {
   "cell_type": "code",
   "execution_count": 3,
   "id": "e7c0ff6f",
   "metadata": {},
   "outputs": [
    {
     "data": {
      "text/html": [
       "<div>\n",
       "<style scoped>\n",
       "    .dataframe tbody tr th:only-of-type {\n",
       "        vertical-align: middle;\n",
       "    }\n",
       "\n",
       "    .dataframe tbody tr th {\n",
       "        vertical-align: top;\n",
       "    }\n",
       "\n",
       "    .dataframe thead th {\n",
       "        text-align: right;\n",
       "    }\n",
       "</style>\n",
       "<table border=\"1\" class=\"dataframe\">\n",
       "  <thead>\n",
       "    <tr style=\"text-align: right;\">\n",
       "      <th></th>\n",
       "      <th>Tweet</th>\n",
       "      <th>Class</th>\n",
       "      <th>Label</th>\n",
       "    </tr>\n",
       "  </thead>\n",
       "  <tbody>\n",
       "    <tr>\n",
       "      <th>0</th>\n",
       "      <td>The political elite are in desperation. Ordina...</td>\n",
       "      <td>0</td>\n",
       "      <td>Neutral</td>\n",
       "    </tr>\n",
       "    <tr>\n",
       "      <th>1</th>\n",
       "      <td>Am just curious the only people who are callin...</td>\n",
       "      <td>0</td>\n",
       "      <td>Neutral</td>\n",
       "    </tr>\n",
       "    <tr>\n",
       "      <th>2</th>\n",
       "      <td>USERNAME_3 the area politicians are the one to...</td>\n",
       "      <td>0</td>\n",
       "      <td>Neutral</td>\n",
       "    </tr>\n",
       "    <tr>\n",
       "      <th>3</th>\n",
       "      <td>War expected in Nakuru if something is not don...</td>\n",
       "      <td>0</td>\n",
       "      <td>Neutral</td>\n",
       "    </tr>\n",
       "    <tr>\n",
       "      <th>4</th>\n",
       "      <td>USERNAME_4 tells kikuyus activists that they a...</td>\n",
       "      <td>0</td>\n",
       "      <td>Neutral</td>\n",
       "    </tr>\n",
       "  </tbody>\n",
       "</table>\n",
       "</div>"
      ],
      "text/plain": [
       "                                               Tweet  Class    Label\n",
       "0  The political elite are in desperation. Ordina...      0  Neutral\n",
       "1  Am just curious the only people who are callin...      0  Neutral\n",
       "2  USERNAME_3 the area politicians are the one to...      0  Neutral\n",
       "3  War expected in Nakuru if something is not don...      0  Neutral\n",
       "4  USERNAME_4 tells kikuyus activists that they a...      0  Neutral"
      ]
     },
     "execution_count": 3,
     "metadata": {},
     "output_type": "execute_result"
    }
   ],
   "source": [
    "new_df = df[['Tweet', 'Class', 'Label']]\n",
    "new_df.head()"
   ]
  },
  {
   "cell_type": "markdown",
   "id": "6c979c58",
   "metadata": {},
   "source": [
    "### *Dataset Summary*"
   ]
  },
  {
   "cell_type": "code",
   "execution_count": 4,
   "id": "7baafa63",
   "metadata": {},
   "outputs": [
    {
     "name": "stdout",
     "output_type": "stream",
     "text": [
      "<class 'pandas.core.frame.DataFrame'>\n",
      "RangeIndex: 48076 entries, 0 to 48075\n",
      "Data columns (total 3 columns):\n",
      " #   Column  Non-Null Count  Dtype \n",
      "---  ------  --------------  ----- \n",
      " 0   Tweet   48076 non-null  object\n",
      " 1   Class   48076 non-null  int64 \n",
      " 2   Label   48076 non-null  object\n",
      "dtypes: int64(1), object(2)\n",
      "memory usage: 1.1+ MB\n"
     ]
    }
   ],
   "source": [
    "new_df.info()"
   ]
  },
  {
   "cell_type": "markdown",
   "id": "a7811ec6",
   "metadata": {},
   "source": [
    "From the summary above we find that our dataset is complete, with no missing values and with the correct data types."
   ]
  },
  {
   "cell_type": "markdown",
   "id": "521644bc",
   "metadata": {},
   "source": [
    "### *Checking for Duplicates*"
   ]
  },
  {
   "cell_type": "code",
   "execution_count": 5,
   "id": "ce4193f3",
   "metadata": {},
   "outputs": [
    {
     "data": {
      "text/plain": [
       "0"
      ]
     },
     "execution_count": 5,
     "metadata": {},
     "output_type": "execute_result"
    }
   ],
   "source": [
    "new_df.duplicated().sum()  # Check for duplicates (entire DataFrame)"
   ]
  },
  {
   "cell_type": "code",
   "execution_count": 6,
   "id": "1e7ca983",
   "metadata": {},
   "outputs": [],
   "source": [
    "new_df.drop_duplicates(inplace=True)  # Drop duplicates"
   ]
  },
  {
   "cell_type": "markdown",
   "id": "d5d773dc",
   "metadata": {},
   "source": [
    "We found that we have no duplicated values and its in a good condition for analytics since this will avoid bias during our model training, improve generalization and for the purpose of reducing computational costs. "
   ]
  },
  {
   "cell_type": "markdown",
   "id": "57007a48",
   "metadata": {},
   "source": [
    "### *Feature Engineering*"
   ]
  },
  {
   "cell_type": "markdown",
   "id": "75a04525",
   "metadata": {},
   "source": [
    "This will involves creating new features (columns) from raw data to improve machine learning model performance. Features like:\n",
    "\n",
    "Number of characters\n",
    "\n",
    "Number of sentences\n",
    "\n",
    "Number of words\n",
    "\n",
    "will help the model better understand text structure and linguistic patterns"
   ]
  },
  {
   "cell_type": "code",
   "execution_count": 7,
   "id": "0cfbad51",
   "metadata": {},
   "outputs": [
    {
     "data": {
      "text/html": [
       "<div>\n",
       "<style scoped>\n",
       "    .dataframe tbody tr th:only-of-type {\n",
       "        vertical-align: middle;\n",
       "    }\n",
       "\n",
       "    .dataframe tbody tr th {\n",
       "        vertical-align: top;\n",
       "    }\n",
       "\n",
       "    .dataframe thead th {\n",
       "        text-align: right;\n",
       "    }\n",
       "</style>\n",
       "<table border=\"1\" class=\"dataframe\">\n",
       "  <thead>\n",
       "    <tr style=\"text-align: right;\">\n",
       "      <th></th>\n",
       "      <th>Tweet</th>\n",
       "      <th>Class</th>\n",
       "      <th>Label</th>\n",
       "      <th>char</th>\n",
       "      <th>words</th>\n",
       "      <th>sentences</th>\n",
       "    </tr>\n",
       "  </thead>\n",
       "  <tbody>\n",
       "    <tr>\n",
       "      <th>31471</th>\n",
       "      <td>Why are you thick headed mr president your age...</td>\n",
       "      <td>1</td>\n",
       "      <td>Offensive</td>\n",
       "      <td>138</td>\n",
       "      <td>24</td>\n",
       "      <td>1</td>\n",
       "    </tr>\n",
       "    <tr>\n",
       "      <th>12864</th>\n",
       "      <td>Wish things worked out better in buffalo but g...</td>\n",
       "      <td>0</td>\n",
       "      <td>Neutral</td>\n",
       "      <td>72</td>\n",
       "      <td>14</td>\n",
       "      <td>1</td>\n",
       "    </tr>\n",
       "    <tr>\n",
       "      <th>33930</th>\n",
       "      <td>WAIT. We get to see Dr. FranXX in his youth? D...</td>\n",
       "      <td>0</td>\n",
       "      <td>Neutral</td>\n",
       "      <td>53</td>\n",
       "      <td>14</td>\n",
       "      <td>3</td>\n",
       "    </tr>\n",
       "    <tr>\n",
       "      <th>32704</th>\n",
       "      <td>This woman and her #HateSpeech is responsible ...</td>\n",
       "      <td>1</td>\n",
       "      <td>Offensive</td>\n",
       "      <td>243</td>\n",
       "      <td>49</td>\n",
       "      <td>3</td>\n",
       "    </tr>\n",
       "    <tr>\n",
       "      <th>2943</th>\n",
       "      <td>Well for once all the BNP supporters houses on...</td>\n",
       "      <td>0</td>\n",
       "      <td>Neutral</td>\n",
       "      <td>83</td>\n",
       "      <td>17</td>\n",
       "      <td>2</td>\n",
       "    </tr>\n",
       "    <tr>\n",
       "      <th>10281</th>\n",
       "      <td>You ve Been In A Coma Since 2003 It s Now 2018</td>\n",
       "      <td>0</td>\n",
       "      <td>Neutral</td>\n",
       "      <td>46</td>\n",
       "      <td>12</td>\n",
       "      <td>1</td>\n",
       "    </tr>\n",
       "    <tr>\n",
       "      <th>35061</th>\n",
       "      <td>We may #FagiaWote but for a people's governmen...</td>\n",
       "      <td>0</td>\n",
       "      <td>Neutral</td>\n",
       "      <td>107</td>\n",
       "      <td>22</td>\n",
       "      <td>1</td>\n",
       "    </tr>\n",
       "    <tr>\n",
       "      <th>33972</th>\n",
       "      <td>Uzuri wakikuyu tunajijua</td>\n",
       "      <td>0</td>\n",
       "      <td>Neutral</td>\n",
       "      <td>24</td>\n",
       "      <td>3</td>\n",
       "      <td>1</td>\n",
       "    </tr>\n",
       "    <tr>\n",
       "      <th>6371</th>\n",
       "      <td>Uhuru is more than 400 000 Votes above the 50%...</td>\n",
       "      <td>0</td>\n",
       "      <td>Neutral</td>\n",
       "      <td>154</td>\n",
       "      <td>29</td>\n",
       "      <td>3</td>\n",
       "    </tr>\n",
       "    <tr>\n",
       "      <th>38627</th>\n",
       "      <td>Kikuyus and kalenjins are two bulls . Lock the...</td>\n",
       "      <td>0</td>\n",
       "      <td>Neutral</td>\n",
       "      <td>92</td>\n",
       "      <td>18</td>\n",
       "      <td>2</td>\n",
       "    </tr>\n",
       "  </tbody>\n",
       "</table>\n",
       "</div>"
      ],
      "text/plain": [
       "                                                   Tweet  Class      Label  \\\n",
       "31471  Why are you thick headed mr president your age...      1  Offensive   \n",
       "12864  Wish things worked out better in buffalo but g...      0    Neutral   \n",
       "33930  WAIT. We get to see Dr. FranXX in his youth? D...      0    Neutral   \n",
       "32704  This woman and her #HateSpeech is responsible ...      1  Offensive   \n",
       "2943   Well for once all the BNP supporters houses on...      0    Neutral   \n",
       "10281     You ve Been In A Coma Since 2003 It s Now 2018      0    Neutral   \n",
       "35061  We may #FagiaWote but for a people's governmen...      0    Neutral   \n",
       "33972                           Uzuri wakikuyu tunajijua      0    Neutral   \n",
       "6371   Uhuru is more than 400 000 Votes above the 50%...      0    Neutral   \n",
       "38627  Kikuyus and kalenjins are two bulls . Lock the...      0    Neutral   \n",
       "\n",
       "       char  words  sentences  \n",
       "31471   138     24          1  \n",
       "12864    72     14          1  \n",
       "33930    53     14          3  \n",
       "32704   243     49          3  \n",
       "2943     83     17          2  \n",
       "10281    46     12          1  \n",
       "35061   107     22          1  \n",
       "33972    24      3          1  \n",
       "6371    154     29          3  \n",
       "38627    92     18          2  "
      ]
     },
     "execution_count": 7,
     "metadata": {},
     "output_type": "execute_result"
    }
   ],
   "source": [
    "# creating columns for number of characters, number of sentences and number of words\n",
    "new_df[\"char\"]=new_df[\"Tweet\"].apply(lambda x:len(x))\n",
    "new_df[\"words\"]=new_df[\"Tweet\"].apply(lambda x:nltk.word_tokenize(x)).apply(lambda x:len(x))\n",
    "new_df[\"sentences\"]=new_df[\"Tweet\"].apply(lambda x:nltk.sent_tokenize(x)).apply(lambda x:len(x))\n",
    "new_df.sample(10)"
   ]
  },
  {
   "cell_type": "markdown",
   "id": "e960315d",
   "metadata": {},
   "source": [
    "### *Summary Statistics*"
   ]
  },
  {
   "cell_type": "code",
   "execution_count": 8,
   "id": "4eea4870",
   "metadata": {},
   "outputs": [
    {
     "data": {
      "text/html": [
       "<div>\n",
       "<style scoped>\n",
       "    .dataframe tbody tr th:only-of-type {\n",
       "        vertical-align: middle;\n",
       "    }\n",
       "\n",
       "    .dataframe tbody tr th {\n",
       "        vertical-align: top;\n",
       "    }\n",
       "\n",
       "    .dataframe thead th {\n",
       "        text-align: right;\n",
       "    }\n",
       "</style>\n",
       "<table border=\"1\" class=\"dataframe\">\n",
       "  <thead>\n",
       "    <tr style=\"text-align: right;\">\n",
       "      <th></th>\n",
       "      <th>Class</th>\n",
       "      <th>char</th>\n",
       "      <th>words</th>\n",
       "      <th>sentences</th>\n",
       "    </tr>\n",
       "  </thead>\n",
       "  <tbody>\n",
       "    <tr>\n",
       "      <th>count</th>\n",
       "      <td>48076.000000</td>\n",
       "      <td>48076.000000</td>\n",
       "      <td>48076.000000</td>\n",
       "      <td>48076.000000</td>\n",
       "    </tr>\n",
       "    <tr>\n",
       "      <th>mean</th>\n",
       "      <td>0.310030</td>\n",
       "      <td>110.663637</td>\n",
       "      <td>20.334054</td>\n",
       "      <td>1.798174</td>\n",
       "    </tr>\n",
       "    <tr>\n",
       "      <th>std</th>\n",
       "      <td>0.588431</td>\n",
       "      <td>48.989947</td>\n",
       "      <td>9.505972</td>\n",
       "      <td>0.991620</td>\n",
       "    </tr>\n",
       "    <tr>\n",
       "      <th>min</th>\n",
       "      <td>0.000000</td>\n",
       "      <td>1.000000</td>\n",
       "      <td>1.000000</td>\n",
       "      <td>1.000000</td>\n",
       "    </tr>\n",
       "    <tr>\n",
       "      <th>25%</th>\n",
       "      <td>0.000000</td>\n",
       "      <td>79.000000</td>\n",
       "      <td>14.000000</td>\n",
       "      <td>1.000000</td>\n",
       "    </tr>\n",
       "    <tr>\n",
       "      <th>50%</th>\n",
       "      <td>0.000000</td>\n",
       "      <td>111.000000</td>\n",
       "      <td>20.000000</td>\n",
       "      <td>2.000000</td>\n",
       "    </tr>\n",
       "    <tr>\n",
       "      <th>75%</th>\n",
       "      <td>0.000000</td>\n",
       "      <td>135.000000</td>\n",
       "      <td>25.000000</td>\n",
       "      <td>2.000000</td>\n",
       "    </tr>\n",
       "    <tr>\n",
       "      <th>max</th>\n",
       "      <td>2.000000</td>\n",
       "      <td>327.000000</td>\n",
       "      <td>68.000000</td>\n",
       "      <td>14.000000</td>\n",
       "    </tr>\n",
       "  </tbody>\n",
       "</table>\n",
       "</div>"
      ],
      "text/plain": [
       "              Class          char         words     sentences\n",
       "count  48076.000000  48076.000000  48076.000000  48076.000000\n",
       "mean       0.310030    110.663637     20.334054      1.798174\n",
       "std        0.588431     48.989947      9.505972      0.991620\n",
       "min        0.000000      1.000000      1.000000      1.000000\n",
       "25%        0.000000     79.000000     14.000000      1.000000\n",
       "50%        0.000000    111.000000     20.000000      2.000000\n",
       "75%        0.000000    135.000000     25.000000      2.000000\n",
       "max        2.000000    327.000000     68.000000     14.000000"
      ]
     },
     "execution_count": 8,
     "metadata": {},
     "output_type": "execute_result"
    }
   ],
   "source": [
    "new_df.describe()"
   ]
  },
  {
   "cell_type": "markdown",
   "id": "f76dc162",
   "metadata": {},
   "source": [
    "### *Check Target Values*"
   ]
  },
  {
   "cell_type": "markdown",
   "id": "d494dd92",
   "metadata": {},
   "source": [
    "To make sure we have the 3 classes before we continue to our training"
   ]
  },
  {
   "cell_type": "code",
   "execution_count": 9,
   "id": "76d8c82f",
   "metadata": {},
   "outputs": [
    {
     "name": "stdout",
     "output_type": "stream",
     "text": [
      "Unique values in Class: [0 1 2]\n",
      "Unique values in Label: ['Neutral' 'Offensive' 'Hate Speech']\n"
     ]
    }
   ],
   "source": [
    "features = ['Class', 'Label']\n",
    "for feature in features:\n",
    "    print(f\"Unique values in {feature}: {new_df[feature].unique()}\")"
   ]
  },
  {
   "cell_type": "markdown",
   "id": "821a4b32",
   "metadata": {},
   "source": [
    "### *Text Cleaning*\n",
    "\n",
    "Raw tweets often contain noise such as:\n",
    "- URLs\n",
    "- Mentions\n",
    "- Hashtags\n",
    "- Emojis and non-alphanumeric characters\n",
    "\n",
    "We'll apply basic text preprocessing to clean the tweet data.\n"
   ]
  },
  {
   "cell_type": "code",
   "execution_count": 10,
   "id": "9c5750e5",
   "metadata": {},
   "outputs": [
    {
     "data": {
      "text/html": [
       "<div>\n",
       "<style scoped>\n",
       "    .dataframe tbody tr th:only-of-type {\n",
       "        vertical-align: middle;\n",
       "    }\n",
       "\n",
       "    .dataframe tbody tr th {\n",
       "        vertical-align: top;\n",
       "    }\n",
       "\n",
       "    .dataframe thead th {\n",
       "        text-align: right;\n",
       "    }\n",
       "</style>\n",
       "<table border=\"1\" class=\"dataframe\">\n",
       "  <thead>\n",
       "    <tr style=\"text-align: right;\">\n",
       "      <th></th>\n",
       "      <th>Tweet</th>\n",
       "      <th>Class</th>\n",
       "      <th>Label</th>\n",
       "      <th>char</th>\n",
       "      <th>words</th>\n",
       "      <th>sentences</th>\n",
       "      <th>Clean_Tweet</th>\n",
       "    </tr>\n",
       "  </thead>\n",
       "  <tbody>\n",
       "    <tr>\n",
       "      <th>0</th>\n",
       "      <td>The political elite are in desperation. Ordina...</td>\n",
       "      <td>0</td>\n",
       "      <td>Neutral</td>\n",
       "      <td>93</td>\n",
       "      <td>14</td>\n",
       "      <td>2</td>\n",
       "      <td>the political elite are in desperation ordinar...</td>\n",
       "    </tr>\n",
       "    <tr>\n",
       "      <th>1</th>\n",
       "      <td>Am just curious the only people who are callin...</td>\n",
       "      <td>0</td>\n",
       "      <td>Neutral</td>\n",
       "      <td>138</td>\n",
       "      <td>26</td>\n",
       "      <td>1</td>\n",
       "      <td>am just curious the only people who are callin...</td>\n",
       "    </tr>\n",
       "    <tr>\n",
       "      <th>2</th>\n",
       "      <td>USERNAME_3 the area politicians are the one to...</td>\n",
       "      <td>0</td>\n",
       "      <td>Neutral</td>\n",
       "      <td>132</td>\n",
       "      <td>22</td>\n",
       "      <td>1</td>\n",
       "      <td>username the area politicians are the one to b...</td>\n",
       "    </tr>\n",
       "    <tr>\n",
       "      <th>3</th>\n",
       "      <td>War expected in Nakuru if something is not don...</td>\n",
       "      <td>0</td>\n",
       "      <td>Neutral</td>\n",
       "      <td>112</td>\n",
       "      <td>23</td>\n",
       "      <td>3</td>\n",
       "      <td>war expected in nakuru if something is not don...</td>\n",
       "    </tr>\n",
       "    <tr>\n",
       "      <th>4</th>\n",
       "      <td>USERNAME_4 tells kikuyus activists that they a...</td>\n",
       "      <td>0</td>\n",
       "      <td>Neutral</td>\n",
       "      <td>120</td>\n",
       "      <td>21</td>\n",
       "      <td>3</td>\n",
       "      <td>username tells kikuyus activists that they are...</td>\n",
       "    </tr>\n",
       "  </tbody>\n",
       "</table>\n",
       "</div>"
      ],
      "text/plain": [
       "                                               Tweet  Class    Label  char  \\\n",
       "0  The political elite are in desperation. Ordina...      0  Neutral    93   \n",
       "1  Am just curious the only people who are callin...      0  Neutral   138   \n",
       "2  USERNAME_3 the area politicians are the one to...      0  Neutral   132   \n",
       "3  War expected in Nakuru if something is not don...      0  Neutral   112   \n",
       "4  USERNAME_4 tells kikuyus activists that they a...      0  Neutral   120   \n",
       "\n",
       "   words  sentences                                        Clean_Tweet  \n",
       "0     14          2  the political elite are in desperation ordinar...  \n",
       "1     26          1  am just curious the only people who are callin...  \n",
       "2     22          1  username the area politicians are the one to b...  \n",
       "3     23          3  war expected in nakuru if something is not don...  \n",
       "4     21          3  username tells kikuyus activists that they are...  "
      ]
     },
     "execution_count": 10,
     "metadata": {},
     "output_type": "execute_result"
    }
   ],
   "source": [
    "def clean_text(text):\n",
    "    text = re.sub(r'http\\S+', '', text)  # remove URLs\n",
    "    text = re.sub(r'\\@\\w+|\\#', '', text)  # Remove mentions and hashtags \n",
    "    text = re.sub(r'[^\\w\\s]', '', text)  # Remove punctuation\n",
    "    text = re.sub(r'[^a-zA-Z\\s]', '', text)  # remove non-alphabetic\n",
    "    text = text.lower().strip()             # convert to lowercase and strip whitespace\n",
    "    return text\n",
    "\n",
    "new_df['Clean_Tweet'] = new_df['Tweet'].apply(clean_text)\n",
    "new_df.head()"
   ]
  },
  {
   "cell_type": "markdown",
   "id": "d5a7046e",
   "metadata": {},
   "source": [
    "### EDA"
   ]
  },
  {
   "cell_type": "markdown",
   "id": "689dc03b",
   "metadata": {},
   "source": [
    "In this section, we will perform the following steps to better understand the structure and characteristics of our tweet dataset:\n",
    "\n",
    "- Visualize the **distribution of the target classes**\n",
    "- Analyze the **distribution of tweet lengths (in characters)** across different classes\n",
    "- Analyze the **distribution of tweet lengths (in words)** across different classes\n",
    "- Analyze the **distribution of the number of sentences per tweet** across different classes\n",
    "- Visualize the **most common words** across all tweets\n",
    "- Visualize the **top words specific to each class**"
   ]
  },
  {
   "cell_type": "code",
   "execution_count": 11,
   "id": "3118e0da",
   "metadata": {},
   "outputs": [
    {
     "data": {
      "image/png": "[encoded data removed]",
      "text/plain": [
       "<Figure size 432x288 with 1 Axes>"
      ]
     },
     "metadata": {},
     "output_type": "display_data"
    }
   ],
   "source": [
    "# Class distribution\n",
    "sns.countplot(data=new_df, x='Label')\n",
    "plt.title('Tweet Class Distribution')\n",
    "plt.show()\n"
   ]
  },
  {
   "cell_type": "markdown",
   "id": "8f06f1ad",
   "metadata": {},
   "source": [
    "The bar chart shows a clear class imbalance in the tweet dataset. The majority of tweets are labeled as Neutral, followed by a smaller number labeled as Offensive, and the fewest labeled as Hate Speech. This suggests that neutral content dominates the dataset, while harmful or aggressive language is much less frequent. Such imbalance may impact model training and should be addressed to ensure fair performance across all classes."
   ]
  },
  {
   "cell_type": "markdown",
   "id": "572e1635",
   "metadata": {},
   "source": [
    "### Box plot of the distribution of number of characters accross classes/label"
   ]
  },
  {
   "cell_type": "code",
   "execution_count": 12,
   "id": "daedbcf7",
   "metadata": {},
   "outputs": [
    {
     "data": {
      "image/png": "[encoded data removed]",
      "text/plain": [
       "<Figure size 720x432 with 1 Axes>"
      ]
     },
     "metadata": {},
     "output_type": "display_data"
    }
   ],
   "source": [
    "\n",
    "plt.figure(figsize=(10, 6))\n",
    "sns.boxplot(\n",
    "    data=new_df,\n",
    "    x='Label',               \n",
    "    y='char') \n",
    "            \n",
    "plt.title='Character Count Distribution by Label'\n",
    "plt.xlabel='Label',\n",
    "plt.ylabel='Number of Characters'\n",
    "plt.show()\n",
    "\n"
   ]
  },
  {
   "cell_type": "markdown",
   "id": "4866a0a8",
   "metadata": {},
   "source": [
    "Overall, the distributions are quite similar, with all three classes—Neutral, Offensive, and Hate Speech—showing a median length slightly above 100 characters. The interquartile ranges are also comparable, though Hate Speech tweets appear slightly shorter on average. All classes contain a large number of outliers above 200 characters, indicating some very long tweets in each category. This suggests that tweet length alone may not strongly differentiate between sentiment classes."
   ]
  },
  {
   "cell_type": "markdown",
   "id": "264204e6",
   "metadata": {},
   "source": [
    "### Box plot of the distribution of number of words accross classes/label"
   ]
  },
  {
   "cell_type": "code",
   "execution_count": 13,
   "id": "e1ff64a0",
   "metadata": {},
   "outputs": [
    {
     "data": {
      "image/png": "[encoded data removed]",
      "text/plain": [
       "<Figure size 720x432 with 1 Axes>"
      ]
     },
     "metadata": {},
     "output_type": "display_data"
    }
   ],
   "source": [
    "plt.figure(figsize=(10, 6))\n",
    "sns.boxplot(\n",
    "    data=new_df,\n",
    "    x='Label',               \n",
    "    y='words') \n",
    "            \n",
    "plt.title='Character Count Distribution by Label'\n",
    "plt.xlabel='Label',\n",
    "plt.ylabel='Number of Words'\n",
    "plt.show()"
   ]
  },
  {
   "cell_type": "markdown",
   "id": "68f6feb8",
   "metadata": {},
   "source": [
    "The boxplot displays the distribution of tweet lengths (in words) across the three sentiment categories. All three classes—Neutral, Offensive, and Hate Speech—have fairly similar distributions, with median word counts around 20. The interquartile ranges also overlap significantly, suggesting that tweet length by word count does not strongly differentiate between the sentiment classes. However, all categories show a wide range of outliers, indicating that some tweets are much longer than average, especially in the Neutral and Offensive categories."
   ]
  },
  {
   "cell_type": "markdown",
   "id": "5d06bdee",
   "metadata": {},
   "source": [
    "### Box plot of the distribution of number of sentences accross classes/label"
   ]
  },
  {
   "cell_type": "code",
   "execution_count": 14,
   "id": "438b9901",
   "metadata": {},
   "outputs": [
    {
     "data": {
      "image/png": "[encoded data removed]",
      "text/plain": [
       "<Figure size 720x432 with 1 Axes>"
      ]
     },
     "metadata": {},
     "output_type": "display_data"
    }
   ],
   "source": [
    "plt.figure(figsize=(10, 6))\n",
    "sns.boxplot(\n",
    "    data=new_df,\n",
    "    x='Label',               \n",
    "    y='sentences') \n",
    "            \n",
    "plt.title='Character Count Distribution by Label'\n",
    "plt.xlabel='Label',\n",
    "plt.ylabel='Number of Sentences'\n",
    "plt.show()"
   ]
  },
  {
   "cell_type": "markdown",
   "id": "4ca77156",
   "metadata": {},
   "source": [
    "All three classes generally contain short tweets, mostly between 1 and 3 sentences. The median sentence count is consistent across categories at around 2, with very similar interquartile ranges, suggesting uniform tweet length regardless of sentiment. However, Neutral tweets exhibit more extreme outliers, with some reaching up to 14 sentences, indicating occasional long-form content. Offensive and Hate Speech tweets also show outliers but to a lesser extent. This implies that while most tweets are brief, Neutral tweets are more likely to include longer discourse."
   ]
  },
  {
   "cell_type": "markdown",
   "id": "8d443ba9",
   "metadata": {},
   "source": [
    "### Text preprocessing\n",
    "Tokenizzing , selecting words with 3 or more characters, removing stop words\n",
    "\n",
    "We will introduce list of english stopwords, Swahili and Sheng(a common street language in Kenya) stop words\n",
    "\n",
    "We will also initialize WordNetLemmatizer class  responsible for lemmatizing  the tokenned words"
   ]
  },
  {
   "cell_type": "code",
   "execution_count": 15,
   "id": "88c43225",
   "metadata": {},
   "outputs": [],
   "source": [
    "# Tokenizer that uses a regex pattern to select words with three or more characters\n",
    "tokenizer = RegexpTokenizer(r\"(?u)\\w{3,}\")\n",
    "\n",
    "# List of stopwords in English\n",
    "english_stopwords = stopwords.words('english')\n",
    "swahili_stopwords = [\n",
    "    \"a\", \"na\", \"ya\", \"kwa\", \"wa\", \"ni\", \"la\", \"ili\", \"katika\", \"juu\", \"chini\", \"kama\", \"pia\", \"hadi\", \"toka\",\n",
    "    \"lakini\", \"kwamba\", \"hata\", \"bado\", \"baada\", \"mbele\", \"nyuma\", \"tu\", \"tena\", \"sana\", \"zote\", \"wote\", \"sisi\",\n",
    "    \"wao\", \"wewe\", \"mimi\", \"yeye\", \"huu\", \"hii\", \"hawa\", \"hao\", \"hizo\", \"wale\", \"wetu\", \"wako\", \"wangu\", \"hivyo\",\n",
    "    \"au\", \"kuwa\", \"ame\", \"alikuwa\", \"walikuwa\", \"si\", \"ha\", \"ambapo\", \"kwani\", \"ndio\", \"bila\", \"kila\", \"baadhi\",\n",
    "    \"mara\", \"zaidi\", \"kati\", \"kupitia\"]\n",
    "\n",
    "sheng_stopwords = [\n",
    "    \"ati\", \"ajee\", \"aje\", \"manze\", \"yani\", \"venye\", \"vile\", \"niko\", \"uko\", \"ako\", \"nko\", \"si\", \"ni\", \"kaa\",\n",
    "    \"hivo\", \"ivo\", \"ngori\", \"ebu\", \"ah\", \"lo\", \"aa\", \"maze\", \"fiti\", \"dem\", \"boyie\", \"wasee\", \"mabeshte\", \"buda\",\n",
    "    \"brathe\", \"msee\", \"mresh\", \"jamaa\", \"bro\", \"sis\", \"sanaa\", \"kweli\", \"freshi\", \"mbogi\", \"hadi\", \"balaa\",\n",
    "    \"noma\", \"walai\", \"ju\", \"ama\", \"bado\", \"mbaya\", \"vile\", \"nani\", \"kitu\", \"place\", \"hio\", \"hiyo\", \"hii\", \"ile\",\n",
    "    \"nyinyi\", \"sisi\", \"mimi\", \"wewe\", \"wao\", \"yeye\"\n",
    "]\n",
    "\n",
    "# Combine all stopwords list\n",
    "stopwords_list = set(english_stopwords + swahili_stopwords + sheng_stopwords)\n",
    "\n",
    "# Use Lemmatizer\n",
    "lemmatizer = WordNetLemmatizer()"
   ]
  },
  {
   "cell_type": "code",
   "execution_count": 16,
   "id": "2115f0e3",
   "metadata": {},
   "outputs": [],
   "source": [
    "def preprocess_text(text, tokenizer, stopwords_list, lemmatizer):\n",
    "    text = text.lower()\n",
    "    tokens = tokenizer.tokenize(text)\n",
    "    words = [word for word in tokens if word not in stopwords_list]\n",
    "    lemmatized_words = [lemmatizer.lemmatize(word) for word in words]\n",
    "    return lemmatized_words"
   ]
  },
  {
   "cell_type": "markdown",
   "id": "3d2324f1",
   "metadata": {},
   "source": [
    "### Performing preprocessing on the clean tweet feature\n"
   ]
  },
  {
   "cell_type": "code",
   "execution_count": 17,
   "id": "b97380a7",
   "metadata": {},
   "outputs": [
    {
     "data": {
      "text/plain": [
       "48071    [exactly, moses, kuria, ilk, say, negative, et...\n",
       "48072    [exactly, kenyan, going, thank, god, time, ric...\n",
       "48073    [exactly, wrong, country, kikuyus, cant, stand...\n",
       "48074    [exactly, thing, well, difference, kilifi, the...\n",
       "48075    [exactly, luo, feel, country, like, moses, kur...\n",
       "Name: Clean_Tweet, dtype: object"
      ]
     },
     "execution_count": 17,
     "metadata": {},
     "output_type": "execute_result"
    }
   ],
   "source": [
    "text_data = new_df['Clean_Tweet'].apply(lambda x: preprocess_text(x, tokenizer, stopwords_list, lemmatizer))\n",
    "text_data.tail()"
   ]
  },
  {
   "cell_type": "markdown",
   "id": "4f506b4d",
   "metadata": {},
   "source": [
    "### Adding preprocessed tweet as a column"
   ]
  },
  {
   "cell_type": "code",
   "execution_count": 18,
   "id": "6105625b",
   "metadata": {},
   "outputs": [
    {
     "data": {
      "text/plain": [
       "0        the political elite are in desperation ordinar...\n",
       "1        am just curious the only people who are callin...\n",
       "2        username the area politicians are the one to b...\n",
       "3        war expected in nakuru if something is not don...\n",
       "4        username tells kikuyus activists that they are...\n",
       "                               ...                        \n",
       "48071    this is exactly what moses kuria  ilk are doin...\n",
       "48072    this is exactly what kenyans are going through...\n",
       "48073    this is exactly what is wrong with this countr...\n",
       "48074    this is exactly the same thing well the only d...\n",
       "48075    this is exactly how luos feel in this country ...\n",
       "Name: Clean_Tweet, Length: 48076, dtype: object"
      ]
     },
     "execution_count": 18,
     "metadata": {},
     "output_type": "execute_result"
    }
   ],
   "source": [
    "new_df[\"Preprocessed_Tweet\"] = text_data\n",
    "new_df[\"Clean_Tweet\"]"
   ]
  },
  {
   "cell_type": "markdown",
   "id": "23736645",
   "metadata": {},
   "source": [
    "### Frequency Dist Of Preprocessed Words"
   ]
  },
  {
   "cell_type": "code",
   "execution_count": 19,
   "id": "87529ef9",
   "metadata": {},
   "outputs": [
    {
     "data": {
      "text/plain": [
       "FreqDist({'username': 15521, 'kikuyus': 7361, 'luo': 5223, 'noreformsnoelections': 4032, 'nyakundi': 2932, 'kenya': 2855, 'people': 2673, 'kenyan': 2530, 'like': 2358, 'one': 2125, ...})"
      ]
     },
     "execution_count": 19,
     "metadata": {},
     "output_type": "execute_result"
    }
   ],
   "source": [
    "frequency_dist = FreqDist(new_df['Preprocessed_Tweet'].explode())\n",
    "frequency_dist"
   ]
  },
  {
   "cell_type": "markdown",
   "id": "9b9aeb9f",
   "metadata": {},
   "source": [
    "### Distribution of top 20 words "
   ]
  },
  {
   "cell_type": "code",
   "execution_count": 20,
   "id": "b27a9bad",
   "metadata": {},
   "outputs": [
    {
     "data": {
      "image/png": "[encoded data removed]",
      "text/plain": [
       "<Figure size 864x432 with 1 Axes>"
      ]
     },
     "metadata": {},
     "output_type": "display_data"
    }
   ],
   "source": [
    "\n",
    "# Sort the dictionary by value (descending)\n",
    "sorted_dict = dict(sorted(frequency_dist.items(), key=lambda x: x[1], reverse=True))\n",
    "\n",
    "# Take the top 20 Words\n",
    "top_20 = dict(list(sorted_dict.items())[:20])\n",
    "\n",
    "keys = [str(k) for k in top_20.keys()]\n",
    "values =  list( top_20.values())\n",
    "\n",
    "plt.figure(figsize=(12, 6))\n",
    "plt.bar(top_20.keys(), top_20.values())\n",
    "plt.title=(\"Distribution of top 20 Words in Tweets\")\n",
    "plt.xlabel=(\"Words\")\n",
    "plt.ylabel=(\"Count\")\n",
    "plt.xticks(rotation=45)  \n",
    "\n",
    "plt.tight_layout()  \n",
    "plt.show()\n",
    "\n",
    "## Word Cloud PLot\n",
    "# from wordcloud import WordCloud"
   ]
  },
  {
   "cell_type": "markdown",
   "id": "724ed13d",
   "metadata": {},
   "source": [
    "#### Word Cloud"
   ]
  },
  {
   "cell_type": "code",
   "execution_count": 21,
   "id": "ddbcafdc",
   "metadata": {},
   "outputs": [],
   "source": [
    "#pip install wordcloud"
   ]
  },
  {
   "cell_type": "code",
   "execution_count": 22,
   "id": "09e065c3",
   "metadata": {},
   "outputs": [
    {
     "data": {
      "image/png": "[encoded data removed]",
      "text/plain": [
       "<Figure size 864x432 with 1 Axes>"
      ]
     },
     "metadata": {},
     "output_type": "display_data"
    }
   ],
   "source": [
    "from wordcloud import WordCloud\n",
    "import matplotlib.pyplot as plt\n",
    "\n",
    "# Sort the dictionary by value (descending)\n",
    "sorted_dict = dict(sorted(frequency_dist.items(), key=lambda x: x[1], reverse=True))\n",
    "\n",
    "# Take the top 20 Words\n",
    "top_20 = dict(list(sorted_dict.items())[:20])\n",
    "\n",
    "keys = [str(k) for k in top_20.keys()]\n",
    "values =  list( top_20.values())\n",
    "\n",
    "# Generate word cloud from the top 20 words\n",
    "wordcloud = WordCloud(\n",
    "    width=800,\n",
    "    height=400,\n",
    "    background_color='white',\n",
    "    colormap='viridis'\n",
    ").generate_from_frequencies(top_20)\n",
    "\n",
    "# Plot the word cloud\n",
    "plt.figure(figsize=(12, 6))\n",
    "plt.imshow(wordcloud, interpolation='bilinear')\n",
    "plt.axis('off')\n",
    "plt.title=\"Word Cloud of Top 20 Words in Tweets\"\n",
    "plt.tight_layout()\n",
    "plt.show()\n"
   ]
  },
  {
   "cell_type": "markdown",
   "id": "30a43e5e",
   "metadata": {},
   "source": [
    "The word cloud highlights the most frequently used terms across tweets, with larger font sizes indicating higher word frequency. Prominent words like \"kikuyus\", \"noreformsnoelections\", \"luo\", \"kenya\", and \"hate\" suggest a strong emphasis on ethnic identity, political slogans, and polarizing language. Terms such as \"kill\", \"know\", and \"dont\" also appear, indicating some aggressive or opinionated tone in the discourse. The presence of multiple ethnic group names — including \"kalenjins\", \"luhyas\", and \"nyakundi\" — reinforces the role of tribal identity in the conversation. Overall, the word cloud reflects a politically and ethnically charged atmosphere within the dataset."
   ]
  },
  {
   "cell_type": "markdown",
   "id": "ae1ae4fe",
   "metadata": {},
   "source": [
    "### Getting rid of the word \"username\""
   ]
  },
  {
   "cell_type": "code",
   "execution_count": 23,
   "id": "40bf4582",
   "metadata": {},
   "outputs": [],
   "source": [
    "new_df[\"Clean_Tweet\"] = new_df[\"Clean_Tweet\"].str.replace(\"username\", \"\", regex=False).str.strip()\n",
    "  "
   ]
  },
  {
   "cell_type": "code",
   "execution_count": 24,
   "id": "474296c6",
   "metadata": {},
   "outputs": [
    {
     "data": {
      "text/html": [
       "<div>\n",
       "<style scoped>\n",
       "    .dataframe tbody tr th:only-of-type {\n",
       "        vertical-align: middle;\n",
       "    }\n",
       "\n",
       "    .dataframe tbody tr th {\n",
       "        vertical-align: top;\n",
       "    }\n",
       "\n",
       "    .dataframe thead th {\n",
       "        text-align: right;\n",
       "    }\n",
       "</style>\n",
       "<table border=\"1\" class=\"dataframe\">\n",
       "  <thead>\n",
       "    <tr style=\"text-align: right;\">\n",
       "      <th></th>\n",
       "      <th>Tweet</th>\n",
       "      <th>Class</th>\n",
       "      <th>Label</th>\n",
       "      <th>char</th>\n",
       "      <th>words</th>\n",
       "      <th>sentences</th>\n",
       "      <th>Clean_Tweet</th>\n",
       "      <th>Preprocessed_Tweet</th>\n",
       "    </tr>\n",
       "  </thead>\n",
       "  <tbody>\n",
       "    <tr>\n",
       "      <th>0</th>\n",
       "      <td>The political elite are in desperation. Ordina...</td>\n",
       "      <td>0</td>\n",
       "      <td>Neutral</td>\n",
       "      <td>93</td>\n",
       "      <td>14</td>\n",
       "      <td>2</td>\n",
       "      <td>the political elite are in desperation ordinar...</td>\n",
       "      <td>[political, elite, desperation, ordinary, kale...</td>\n",
       "    </tr>\n",
       "    <tr>\n",
       "      <th>1</th>\n",
       "      <td>Am just curious the only people who are callin...</td>\n",
       "      <td>0</td>\n",
       "      <td>Neutral</td>\n",
       "      <td>138</td>\n",
       "      <td>26</td>\n",
       "      <td>1</td>\n",
       "      <td>am just curious the only people who are callin...</td>\n",
       "      <td>[curious, people, calling, old, mad, kikuyus, ...</td>\n",
       "    </tr>\n",
       "    <tr>\n",
       "      <th>2</th>\n",
       "      <td>USERNAME_3 the area politicians are the one to...</td>\n",
       "      <td>0</td>\n",
       "      <td>Neutral</td>\n",
       "      <td>132</td>\n",
       "      <td>22</td>\n",
       "      <td>1</td>\n",
       "      <td>the area politicians are the one to blame coz ...</td>\n",
       "      <td>[area, politician, one, blame, coz, insiting, ...</td>\n",
       "    </tr>\n",
       "    <tr>\n",
       "      <th>3</th>\n",
       "      <td>War expected in Nakuru if something is not don...</td>\n",
       "      <td>0</td>\n",
       "      <td>Neutral</td>\n",
       "      <td>112</td>\n",
       "      <td>23</td>\n",
       "      <td>3</td>\n",
       "      <td>war expected in nakuru if something is not don...</td>\n",
       "      <td>[war, expected, nakuru, something, done, luo, ...</td>\n",
       "    </tr>\n",
       "    <tr>\n",
       "      <th>4</th>\n",
       "      <td>USERNAME_4 tells kikuyus activists that they a...</td>\n",
       "      <td>0</td>\n",
       "      <td>Neutral</td>\n",
       "      <td>120</td>\n",
       "      <td>21</td>\n",
       "      <td>3</td>\n",
       "      <td>tells kikuyus activists that they are being ta...</td>\n",
       "      <td>[tell, kikuyus, activist, targeted, targetted,...</td>\n",
       "    </tr>\n",
       "  </tbody>\n",
       "</table>\n",
       "</div>"
      ],
      "text/plain": [
       "                                               Tweet  Class    Label  char  \\\n",
       "0  The political elite are in desperation. Ordina...      0  Neutral    93   \n",
       "1  Am just curious the only people who are callin...      0  Neutral   138   \n",
       "2  USERNAME_3 the area politicians are the one to...      0  Neutral   132   \n",
       "3  War expected in Nakuru if something is not don...      0  Neutral   112   \n",
       "4  USERNAME_4 tells kikuyus activists that they a...      0  Neutral   120   \n",
       "\n",
       "   words  sentences                                        Clean_Tweet  \\\n",
       "0     14          2  the political elite are in desperation ordinar...   \n",
       "1     26          1  am just curious the only people who are callin...   \n",
       "2     22          1  the area politicians are the one to blame coz ...   \n",
       "3     23          3  war expected in nakuru if something is not don...   \n",
       "4     21          3  tells kikuyus activists that they are being ta...   \n",
       "\n",
       "                                  Preprocessed_Tweet  \n",
       "0  [political, elite, desperation, ordinary, kale...  \n",
       "1  [curious, people, calling, old, mad, kikuyus, ...  \n",
       "2  [area, politician, one, blame, coz, insiting, ...  \n",
       "3  [war, expected, nakuru, something, done, luo, ...  \n",
       "4  [tell, kikuyus, activist, targeted, targetted,...  "
      ]
     },
     "execution_count": 24,
     "metadata": {},
     "output_type": "execute_result"
    }
   ],
   "source": [
    "text_data = new_df['Clean_Tweet'].apply(lambda x: preprocess_text(x, tokenizer, stopwords_list, lemmatizer))\n",
    "new_df[\"Preprocessed_Tweet\"] = text_data\n",
    "new_df.head()"
   ]
  },
  {
   "cell_type": "markdown",
   "id": "b24705f7",
   "metadata": {},
   "source": [
    "### Distribution of Words by LABEL/CLASS"
   ]
  },
  {
   "cell_type": "code",
   "execution_count": 25,
   "id": "e01ac9e5",
   "metadata": {},
   "outputs": [
    {
     "data": {
      "image/png": "[encoded data removed]",
      "text/plain": [
       "<Figure size 864x864 with 3 Axes>"
      ]
     },
     "metadata": {},
     "output_type": "display_data"
    }
   ],
   "source": [
    "fig, axes = plt.subplots(nrows=3, figsize=(12, 12))\n",
    "color_palette = sns.color_palette('cividis')  # Unlimited colors from palette\n",
    "\n",
    "for idx, label_df in enumerate(new_df.groupby('Label')):\n",
    "    label_name, group_data = label_df\n",
    "    all_words = group_data['Preprocessed_Tweet'].explode()\n",
    "    top_20 = all_words.value_counts().nlargest(20)\n",
    "    \n",
    "    # Plot with automatic color cycling\n",
    "    ax = axes[idx]\n",
    "    top_20.plot.bar(ax=ax, color=color_palette)\n",
    "    ax.set_title(label_name.title())\n",
    "    ax.set_xticklabels(top_20.index, rotation=45, ha='right')\n",
    "    ax.set_ylabel('Word Count')\n",
    "\n",
    "fig.tight_layout()\n",
    "plt.show()"
   ]
  },
  {
   "cell_type": "markdown",
   "id": "4e1c5296",
   "metadata": {},
   "source": [
    " Words like kikuyus, luo, kalenjins, and kenya are dominant in all three categories, highlighting the focus on Kenyan ethnic groups and politics. Hate speech tweets prominently feature tribal identifiers and words associated with violence or negativity, such as kill and hate, indicating targeted hostility. Neutral tweets, in contrast, also center around ethnic groups but with additional election-related terms like morefromselections and election, suggesting a broader, less aggressive discourse. Offensive tweets show a mix of slurs, ethnic mentions, and aggression-related words, though with less concentration on elections compared to neutral tweets. Overall, these visualizations underline the central role of ethnicity and politics in shaping online discourse across all sentiments."
   ]
  },
  {
   "cell_type": "markdown",
   "id": "29973809",
   "metadata": {},
   "source": [
    "### *Removing Outliers*"
   ]
  },
  {
   "cell_type": "code",
   "execution_count": 26,
   "id": "89f3f21c",
   "metadata": {},
   "outputs": [
    {
     "data": {
      "text/plain": [
       "45232"
      ]
     },
     "execution_count": 26,
     "metadata": {},
     "output_type": "execute_result"
    }
   ],
   "source": [
    "new_df=new_df[new_df[\"sentences\"]<4]\n",
    "len(new_df)"
   ]
  },
  {
   "cell_type": "markdown",
   "id": "1fb04c37",
   "metadata": {},
   "source": [
    "## **4. Modelling**"
   ]
  },
  {
   "cell_type": "markdown",
   "id": "8dcd9cd1",
   "metadata": {},
   "source": [
    "In this section, we will follow a structured approach to build and evaluate classification models for tweet analysis:\n",
    "\n",
    "- Fit **baseline models**(Logistic Regression) using two types of text representations:\n",
    "  - **TF-IDF vectorized tweets**\n",
    "  - **BERT-based word embeddings**  \n",
    "  This helps assess initial model performance using both traditional and contextual features.\n",
    "\n",
    "- Perform **cross-validation** using the following classifiers to identify top-performing models based on the **F1 score**:\n",
    "  - Logistic Regression  \n",
    "  - Naive Bayes (TF-IDF only)  \n",
    "  - Random Forest  \n",
    "  - XGBoost  \n",
    "\n",
    "- Address **class imbalance** in the top two models selected from cross-validation using the following resampling techniques:\n",
    "  - **SMOTE** (Synthetic Minority Oversampling Technique)  \n",
    "  - **Random undersampling** of the majority class  \n",
    "  - **Hybrid approach** combining both oversampling and undersampling\n",
    "\n",
    "- Evaluate the **final performance** of the selected models after applying class imbalance strategies on a held-out test set\n",
    "\n"
   ]
  },
  {
   "cell_type": "markdown",
   "id": "583ae7d5",
   "metadata": {},
   "source": [
    "### *Undersampling Majority Classes*"
   ]
  },
  {
   "cell_type": "code",
   "execution_count": 27,
   "id": "b5d9eb03",
   "metadata": {},
   "outputs": [
    {
     "data": {
      "text/plain": [
       "0    34232\n",
       "1     7989\n",
       "2     3011\n",
       "Name: Class, dtype: int64"
      ]
     },
     "execution_count": 27,
     "metadata": {},
     "output_type": "execute_result"
    }
   ],
   "source": [
    "new_df[\"Class\"].value_counts()"
   ]
  },
  {
   "cell_type": "code",
   "execution_count": 28,
   "id": "7115ad35",
   "metadata": {},
   "outputs": [
    {
     "name": "stdout",
     "output_type": "stream",
     "text": [
      "0    5000\n",
      "1    5000\n",
      "2    3011\n",
      "Name: Class, dtype: int64\n"
     ]
    }
   ],
   "source": [
    "\n",
    "\n",
    "# Assuming your dataframe is df and the column is 'label'\n",
    "df_balanced = pd.concat([\n",
    "    new_df[new_df['Class'] == 0].sample(n=5000, random_state=42),\n",
    "    new_df[new_df['Class'] == 1].sample(n=5000, random_state=42),\n",
    "    new_df[new_df['Class'] == 2]  # keep all since it's < 5000\n",
    "])\n",
    "\n",
    "# Shuffle the dataset after undersampling\n",
    "df_balanced = df_balanced.sample(frac=1, random_state=42).reset_index(drop=True)\n",
    "\n",
    "print(df_balanced['Class'].value_counts())\n"
   ]
  },
  {
   "cell_type": "code",
   "execution_count": 29,
   "id": "5ea6f846",
   "metadata": {},
   "outputs": [],
   "source": [
    "#defining x and y\n",
    "X=df_balanced[\"Preprocessed_Tweet\"]\n",
    "y=df_balanced[\"Class\"]"
   ]
  },
  {
   "cell_type": "code",
   "execution_count": 30,
   "id": "44d84a22",
   "metadata": {},
   "outputs": [],
   "source": [
    "#train test split \n",
    "X_train,X_test,y_train,y_test=train_test_split(X,y,stratify=y,test_size=0.2,random_state=42)"
   ]
  },
  {
   "cell_type": "code",
   "execution_count": 31,
   "id": "a1a53e49",
   "metadata": {},
   "outputs": [],
   "source": [
    "X_train = X_train.apply(lambda x: \" \".join(x) if isinstance(x, list) else x)\n",
    "X_test = X_test.apply(lambda x: \" \".join(x) if isinstance(x, list) else x)\n"
   ]
  },
  {
   "cell_type": "markdown",
   "id": "78497037",
   "metadata": {},
   "source": [
    "### *Baseline Model With TF-IDF*"
   ]
  },
  {
   "cell_type": "code",
   "execution_count": 32,
   "id": "97e88024",
   "metadata": {},
   "outputs": [
    {
     "name": "stdout",
     "output_type": "stream",
     "text": [
      "              precision    recall  f1-score   support\n",
      "\n",
      "           0       0.58      0.57      0.57      1000\n",
      "           1       0.49      0.52      0.50      1000\n",
      "           2       0.52      0.50      0.51       603\n",
      "\n",
      "    accuracy                           0.53      2603\n",
      "   macro avg       0.53      0.53      0.53      2603\n",
      "weighted avg       0.53      0.53      0.53      2603\n",
      "\n"
     ]
    }
   ],
   "source": [
    "from sklearn.pipeline import Pipeline\n",
    "\n",
    "from sklearn.naive_bayes import MultinomialNB\n",
    "pipeMNB=Pipeline([(\"vect\",TfidfVectorizer()),\n",
    "    (\"clf\",LogisticRegression())\n",
    "            ])\n",
    "pipeMNB.fit(X_train,y_train)\n",
    "pred=pipeMNB.predict(X_test)\n",
    "print(classification_report(y_test,pred))"
   ]
  },
  {
   "cell_type": "markdown",
   "id": "11c8a31d",
   "metadata": {},
   "source": [
    "The model performs well on class 0, with high precision (0.78), recall (0.97), and F1-score (0.86), indicating that it is strongly biased toward the majority class. However, it performs poorly on classes 1 and 2, with very low recall (0.11 for both) and low F1-scores (0.17), suggesting it fails to correctly identify most instances of the minority classes. While the overall accuracy is 76%, the macro average F1-score is only 0.40, highlighting poor performance across classes and the presence of severe class imbalance."
   ]
  },
  {
   "cell_type": "markdown",
   "id": "5f63ef5d",
   "metadata": {},
   "source": [
    "### *Grid Search*"
   ]
  },
  {
   "cell_type": "markdown",
   "id": "cda2a4ba",
   "metadata": {},
   "source": [
    "#### *1. Logistic regression*"
   ]
  },
  {
   "cell_type": "code",
   "execution_count": 34,
   "id": "663a8edd",
   "metadata": {},
   "outputs": [
    {
     "name": "stdout",
     "output_type": "stream",
     "text": [
      "Fitting 2 folds for each of 48 candidates, totalling 96 fits\n",
      "Best parameters: {'logreg__C': 1, 'logreg__class_weight': 'balanced', 'logreg__penalty': 'l2', 'tfidf__max_features': 10000, 'tfidf__ngram_range': (1, 2)}\n",
      "              precision    recall  f1-score   support\n",
      "\n",
      "           0      0.607     0.560     0.583      1000\n",
      "           1      0.529     0.435     0.477      1000\n",
      "           2      0.480     0.683     0.564       603\n",
      "\n",
      "    accuracy                          0.541      2603\n",
      "   macro avg      0.539     0.559     0.541      2603\n",
      "weighted avg      0.548     0.541     0.538      2603\n",
      "\n"
     ]
    }
   ],
   "source": [
    "from sklearn.pipeline import Pipeline\n",
    "from sklearn.model_selection import GridSearchCV\n",
    "from sklearn.feature_extraction.text import TfidfVectorizer\n",
    "from sklearn.linear_model import LogisticRegression\n",
    "from sklearn.metrics import classification_report\n",
    "\n",
    "# Define pipeline\n",
    "pipeline = Pipeline([\n",
    "    ('tfidf', TfidfVectorizer()),\n",
    "    ('logreg', LogisticRegression(\n",
    "        multi_class='multinomial',\n",
    "        solver='saga',  # saga works with L1 & L2 and multinomial\n",
    "        max_iter=5000,\n",
    "        random_state=42\n",
    "    ))\n",
    "])\n",
    "\n",
    "# Expanded parameter grid\n",
    "param_grid = {\n",
    "    # TF-IDF vectorization params\n",
    "    'tfidf__max_features': [5000, 10000],\n",
    "    'tfidf__ngram_range': [(1, 1), (1, 2)],\n",
    "\n",
    "    # Logistic Regression params\n",
    "    'logreg__C': [0.01, 1, 10], \n",
    "    'logreg__penalty': ['l1', 'l2'],  \n",
    "    'logreg__class_weight': [None, 'balanced']\n",
    "}\n",
    "\n",
    "# Grid search\n",
    "grid_search = GridSearchCV(\n",
    "    estimator=pipeline,\n",
    "    param_grid=param_grid,\n",
    "    scoring='f1_macro',  # Macro F1 for balanced class performance\n",
    "    cv=2,\n",
    "    verbose=2,\n",
    "    n_jobs=-1\n",
    ")\n",
    "\n",
    "# Fit\n",
    "grid_search.fit(X_train, y_train)\n",
    "\n",
    "# Best parameters\n",
    "print(\"Best parameters:\", grid_search.best_params_)\n",
    "\n",
    "# Predictions & report\n",
    "best_model_lr = grid_search.best_estimator_\n",
    "y_pred_lr = best_model_lr.predict(X_test)\n",
    "print(classification_report(y_test, y_pred_lr, digits=3))\n"
   ]
  },
  {
   "cell_type": "markdown",
   "id": "803d6cf5",
   "metadata": {},
   "source": [
    "#### *2. Random Forest*"
   ]
  },
  {
   "cell_type": "code",
   "execution_count": 36,
   "id": "bf2466a6",
   "metadata": {},
   "outputs": [
    {
     "name": "stdout",
     "output_type": "stream",
     "text": [
      "Fitting 2 folds for each of 128 candidates, totalling 256 fits\n",
      "Best parameters: {'rf__class_weight': None, 'rf__max_depth': None, 'rf__max_features': 'sqrt', 'rf__min_samples_split': 5, 'rf__n_estimators': 400, 'tfidf__max_features': 10000, 'tfidf__ngram_range': (1, 1)}\n",
      "              precision    recall  f1-score   support\n",
      "\n",
      "           0       0.62      0.62      0.62      1000\n",
      "           1       0.53      0.43      0.48      1000\n",
      "           2       0.49      0.64      0.55       603\n",
      "\n",
      "    accuracy                           0.55      2603\n",
      "   macro avg       0.55      0.56      0.55      2603\n",
      "weighted avg       0.55      0.55      0.55      2603\n",
      "\n"
     ]
    }
   ],
   "source": [
    "pipeline = Pipeline([\n",
    "    ('tfidf', TfidfVectorizer()),\n",
    "    ('rf', RandomForestClassifier(random_state=42, n_jobs=-1))\n",
    "])\n",
    "\n",
    "#Parameter grid (with class_weight)\n",
    "param_grid = {\n",
    "    'tfidf__max_features': [5000, 10000],\n",
    "    'tfidf__ngram_range': [(1, 1), (1, 2)],\n",
    "\n",
    "'rf__n_estimators': [200, 400],\n",
    "'rf__max_depth': [None, 40],\n",
    "'rf__min_samples_split': [2, 5],\n",
    "'rf__max_features': ['sqrt', 'log2'],\n",
    "'rf__class_weight': [None, 'balanced']  # add imbalance handling\n",
    "}\n",
    "\n",
    "#Grid search\n",
    "grid_search = GridSearchCV(\n",
    "    estimator=pipeline,\n",
    "    param_grid=param_grid,\n",
    "    scoring='f1_macro',\n",
    "    cv=2,\n",
    "    verbose=2,\n",
    "    n_jobs=-1\n",
    ")\n",
    "\n",
    "grid_search.fit(X_train, y_train)\n",
    "\n",
    "print(\"Best parameters:\", grid_search.best_params_)\n",
    "best_model = grid_search.best_estimator_\n",
    "y_pred = best_model.predict(X_test)\n",
    "print(classification_report(y_test, y_pred))\n",
    "\n"
   ]
  },
  {
   "cell_type": "markdown",
   "id": "4a2cfa33",
   "metadata": {},
   "source": [
    "#### *3. Naive Bayes*\n",
    "#### *3.1 Multinomial Naive Bayes*"
   ]
  },
  {
   "cell_type": "code",
   "execution_count": null,
   "id": "5927d26d",
   "metadata": {},
   "outputs": [],
   "source": [
    "pipeMNB=Pipeline([(\"vect\",TfidfVectorizer()),\n",
    "    (\"clf\",MultinomialNB())\n",
    "            ])\n",
    "pipeMNB.fit(X_train,y_train)\n",
    "pred=pipeMNB.predict(X_test)\n",
    "print(classification_report(y_test,pred))   "
   ]
  },
  {
   "cell_type": "code",
   "execution_count": null,
   "id": "1b49db27",
   "metadata": {},
   "outputs": [],
   "source": [
    "# Parameter grid for ONLY the classifier\n",
    "from sklearn.model_selection import GridSearchCV\n",
    "params = {\n",
    "    'clf__alpha': [0.01, 0.1, 0.5, 1.0],  # Key smoothing parameter\n",
    "    'clf__fit_prior': [True, False],            # Whether to learn class priors\n",
    "    'clf__class_prior': [None, [0.3, 0.5, 0.7, 0.9]]      # Optional: Manual priors if imbalanced\n",
    "}\n",
    "\n",
    "# Grid search setup (focus only on classifier)\n",
    "grid = GridSearchCV(\n",
    "    pipeMNB,\n",
    "    param_grid=params,\n",
    "    cv=5,                       # 5-fold cross-validation\n",
    "    scoring='f1_weighted',       # Or 'accuracy', 'recall', etc.\n",
    "    n_jobs=-1,                  # Use all CPU cores\n",
    "    verbose=1                   # Show progress\n",
    ")\n",
    "\n",
    "# Fit ONLY on training data\n",
    "grid.fit(X_train, y_train)\n",
    "\n",
    "# Best model evaluation\n",
    "best_model = grid.best_estimator_\n",
    "pred = best_model.predict(X_test)\n",
    "print(classification_report(y_test, pred))\n",
    "print(\"\\nBest parameters:\", grid.best_params_)"
   ]
  },
  {
   "cell_type": "code",
   "execution_count": null,
   "id": "e1c911f6",
   "metadata": {},
   "outputs": [],
   "source": [
    "# Plot confusion matrix for MNB classification\n",
    "\n",
    "sns.heatmap(confusion_matrix(y_test, pred), annot=True, fmt='d', cmap='Blues')"
   ]
  },
  {
   "cell_type": "markdown",
   "id": "06fbd9b5",
   "metadata": {},
   "source": [
    "\n",
    "#### *3.1 Complement Naive Bayes*"
   ]
  },
  {
   "cell_type": "code",
   "execution_count": null,
   "id": "ffda7b26",
   "metadata": {},
   "outputs": [],
   "source": [
    "from imblearn.pipeline import Pipeline\n",
    "from sklearn.naive_bayes import ComplementNB\n",
    "pipeCNB = Pipeline([\n",
    "    ('vect', TfidfVectorizer()),\n",
    "    ('clf', ComplementNB())\n",
    "])      # Better for imbalanced data than MultinomialNB\n",
    "pipeCNB.fit(X_train, y_train)\n",
    "pred = pipeCNB.predict(X_test)\n",
    "print(classification_report(y_test, pred))"
   ]
  },
  {
   "cell_type": "code",
   "execution_count": null,
   "id": "f20535e4",
   "metadata": {},
   "outputs": [],
   "source": [
    "# Parameter grid for ONLY the classifier\n",
    "params = {\n",
    "    'clf__alpha': [0.01, 0.1, 0.5, 1.0],  # Smoothing parameter\n",
    "    'clf__norm': [True, False],             # Whether to normalize weights\n",
    "    'clf__fit_prior': [True, False]         # Whether to learn class priors\n",
    "}\n",
    "\n",
    "# Grid search setup\n",
    "grid = GridSearchCV(\n",
    "    pipeCNB,\n",
    "    param_grid=params,\n",
    "    cv=5,                       # 5-fold CV\n",
    "    scoring='f1_weighted',      # Or 'accuracy', 'recall_macro' etc.\n",
    "    n_jobs=-1,                  # Use all cores\n",
    "    verbose=1                   # Show progress\n",
    ")\n",
    "\n",
    "# Execute search (on training data only)\n",
    "grid.fit(X_train, y_train)\n",
    "\n",
    "# Best model evaluation\n",
    "best_model = grid.best_estimator_\n",
    "pred = best_model.predict(X_test)\n",
    "print(classification_report(y_test, pred))\n",
    "print(\"\\nBest parameters:\", grid.best_params_)"
   ]
  },
  {
   "cell_type": "code",
   "execution_count": null,
   "id": "e76a253c",
   "metadata": {},
   "outputs": [],
   "source": [
    "# Plot confusion matrix for CNB classification\n",
    "\n",
    "sns.heatmap(confusion_matrix(y_test, pred), annot=True, fmt='d', cmap='Blues')"
   ]
  },
  {
   "cell_type": "markdown",
   "id": "4c68dd5f",
   "metadata": {},
   "source": [
    "#### *4. XGboost*"
   ]
  },
  {
   "cell_type": "code",
   "execution_count": null,
   "id": "b65d0d4b",
   "metadata": {},
   "outputs": [],
   "source": [
    "\n",
    "from sklearn.model_selection import GridSearchCV\n",
    "\n",
    "\n",
    "# Define pipeline\n",
    "pipeline = Pipeline([\n",
    "    ('tfidf', TfidfVectorizer()),\n",
    "    ('xgb', XGBClassifier(\n",
    "        objective='multi:softmax',\n",
    "        num_class=3,               # number of classes\n",
    "        eval_metric='mlogloss',\n",
    "        use_label_encoder=False,\n",
    "        random_state=42\n",
    "    ))\n",
    "])\n",
    "\n",
    "# Parameter grid (with TF-IDF & XGBoost hyperparams)\n",
    "param_grid = {\n",
    "    'tfidf__max_features': [5000, 10000],\n",
    "    'tfidf__ngram_range': [(1, 1), (1, 2)],\n",
    "    'xgb__max_depth': [3, 5],\n",
    "    'xgb__learning_rate': [0.1, 0.2],\n",
    "    'xgb__n_estimators': [100, 200],\n",
    "    'xgb__subsample': [0.8, 1.0],\n",
    "    'xgb__colsample_bytree': [0.8, 1.0]\n",
    "}\n",
    "\n",
    "# Grid search\n",
    "grid_search = GridSearchCV(\n",
    "    estimator=pipeline,\n",
    "    param_grid=param_grid,\n",
    "    scoring='f1_weighted',  # could also use 'accuracy'\n",
    "    cv=3,\n",
    "    verbose=2,\n",
    "    n_jobs=-1\n",
    ")\n",
    "\n",
    "# Fit\n",
    "grid_search.fit(X_train, y_train)\n",
    "\n",
    "# Results\n",
    "print(\"Best parameters:\", grid_search.best_params_)\n",
    "best_model = grid_search.best_estimator_\n",
    "y_pred = best_model.predict(X_test)\n",
    "print(classification_report(y_test, y_pred))\n"
   ]
  },
  {
   "cell_type": "code",
   "execution_count": null,
   "id": "ff273df4",
   "metadata": {},
   "outputs": [],
   "source": [
    "import re\n",
    "\n",
    "def clean_text(text):\n",
    "    text = re.sub(r'http\\S+', '', text)  # remove URLs\n",
    "    text = re.sub(r'@\\w+', '', text)     # remove mentions\n",
    "    text = re.sub(r'#', '', text)        # remove hashtag symbol but keep the word\n",
    "    text = re.sub(r'[^A-Za-z0-9\\s]', '', text)  # remove punctuation/special chars\n",
    "    text = text.lower().strip()          # lowercase and trim spaces\n",
    "    return text\n",
    "\n",
    "df_balanced['clean_tweet'] = df_balanced['Tweet'].astype(str).apply(clean_text)"
   ]
  },
  {
   "cell_type": "code",
   "execution_count": null,
   "id": "119bf996",
   "metadata": {},
   "outputs": [],
   "source": [
    "import pandas as pd\n",
    "from sklearn.model_selection import train_test_split\n",
    "from datasets import Dataset\n",
    "from transformers import AutoTokenizer, RobertaForSequenceClassification, Trainer\n",
    "from sklearn.metrics import classification_report\n",
    "import torch\n",
    "\n",
    "# ✅ Load your dataframe\n",
    "df = df_balanced.copy()\n",
    "df['clean_tweet'] = df['clean_tweet'].astype(str)\n",
    "\n",
    "# ✅ Encode labels exactly the same way\n",
    "label2id = {label: i for i, label in enumerate(sorted(df['Label'].unique()))}\n",
    "id2label = {v: k for k, v in label2id.items()}\n",
    "df['label'] = df['Label'].map(label2id)\n",
    "\n",
    "# ✅ Split exactly like before\n",
    "train_texts, test_texts, train_labels, test_labels = train_test_split(\n",
    "    df['clean_tweet'], df['label'], test_size=0.2, random_state=42\n",
    ")\n",
    "\n",
    "# ✅ Load tokenizer and model from saved files\n",
    "tokenizer = AutoTokenizer.from_pretrained(\"roberta_model\", use_fast=True)\n",
    "model = RobertaForSequenceClassification.from_pretrained(\"roberta_model\")\n",
    "\n",
    "# ✅ Tokenization\n",
    "def tokenize(batch):\n",
    "    return tokenizer(batch[\"text\"], padding=\"max_length\", truncation=True)\n",
    "\n",
    "train_dataset = Dataset.from_dict({\"text\": train_texts.tolist(), \"label\": train_labels.tolist()})\n",
    "test_dataset = Dataset.from_dict({\"text\": test_texts.tolist(), \"label\": test_labels.tolist()})\n",
    "\n",
    "train_dataset = train_dataset.map(tokenize, batched=True)\n",
    "test_dataset = test_dataset.map(tokenize, batched=True)\n",
    "\n",
    "# ✅ Evaluate\n",
    "trainer = Trainer(model=model, tokenizer=tokenizer)\n",
    "train_preds = trainer.predict(train_dataset)\n",
    "test_preds = trainer.predict(test_dataset)\n",
    "\n",
    "print(\"\\nTrain Classification Report:\")\n",
    "print(classification_report(train_dataset[\"label\"], train_preds.predictions.argmax(-1), target_names=label2id.keys()))\n",
    "\n",
    "print(\"\\nTest Classification Report:\")\n",
    "print(classification_report(test_dataset[\"label\"], test_preds.predictions.argmax(-1), target_names=label2id.keys()))\n"
   ]
  },
  {
   "cell_type": "markdown",
   "id": "4ec7f93a",
   "metadata": {},
   "source": [
    "### Hybrid method"
   ]
  }
 ],
 "metadata": {
  "kernelspec": {
   "display_name": "Python (learn-env)",
   "language": "python",
   "name": "learn-env"
  }
 },
 "nbformat": 4,
 "nbformat_minor": 5
}
