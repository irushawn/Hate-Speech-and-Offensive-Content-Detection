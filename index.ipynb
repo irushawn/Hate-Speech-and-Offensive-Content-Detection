{
 "cells": [
  {
   "cell_type": "markdown",
   "id": "c7713434",
   "metadata": {},
   "source": [
    "# **Hate Speech and Offensive Content Detection**\n",
    "\n",
    "## **1. Business Understanding**\n",
    "### *Overview*\n",
    "In Kenya's digital landscape, Twitter plays a critical role in shaping public discourse, especially during election seasons and politically charged events. While it provides a platform for civic engagement, it also facilitates the spread of hate speech, tribalism, and inciting language. This content can escalate tensions and contribute to real-world conflict if left unchecked.\n",
    "### *Challenges*\n",
    "Manually moderating large volumes of tweets is inefficient and prone to bias. Current moderation systems struggle to scale and often miss localized forms of hate speech, particularly those specific to Kenyan cultural and political contexts. There is also a lack of automated tools specifically designed to detect offensive content within Kenyan tweets.\n",
    "### *Proposed Solution*\n",
    "Develop a machine learning model that can automatically categorize tweets into three classes: hate speech, offensive content, or neither. The model will serve as a content flagging tool for:\n",
    "Early detection of harmful tweets during elections or national events.\n",
    "Support for content moderation teams at media outlets, regulatory bodies, and social platforms.\n",
    "Enhancing digital safety by tracking the evolution and spread of dangerous speech trends.\n",
    "\n",
    "\n",
    "An effective classification model tailored to the Kenyan context can reduce the spread of inciting content and improve the quality of online public discourse. This system would be vital in promoting peace, especially during sensitive periods like elections.\n",
    "\n",
    "### *Problem Statement*\n",
    "There is an urgent need for a localized and scalable hate speech detection system to flag inciting and offensive tweets in Kenya, particularly during political periods where online speech can incite real-world unrest.\n",
    "\n",
    "### *Objectives*\n",
    "- To evaluate the most common terms or phrases used in inciting tweets.\n",
    "- To build a multi-class classification model that labels tweets as hate speech, offensive, or neither.\n",
    "- To evaluate model performance across different algorithms using accuracy.\n",
    "- To Deploy the best performing model using Streamlit\n",
    "\n",
    "## **2 Data Understanding**\n",
    "The dataset used in this project, HateSpeech_Kenya.csv, was sourced from Kaggle, a well-known platform for sharing datasets and machine learning challenges. It contains approximately 48,000 tweets labeled for sentiment and hate speech, specifically focused on the Kenyan social and political context.\n",
    "Key Features of the Data:\n",
    "`tweet`: The raw text of the tweet . this forms the primary input for natural language processing and classification tasks.\n",
    "`label`: The target variable, where 0 represents neutral content and 1 represents offensive content and 2 represent hate speech.\n",
    "\n",
    "This dataset is directly aligned with the project goal of developing a machine learning model to detect and categorize hate speech in Kenyan tweets. The inclusion of localized language, real-world offensive content, and metadata allows the model to learn patterns specific to the Kenyan context.\n"
   ]
  },
  {
   "cell_type": "markdown",
   "id": "865dc7e5",
   "metadata": {},
   "source": [
    "### *Importing Dependencies*"
   ]
  },
  {
   "cell_type": "code",
   "execution_count": 16,
   "id": "202a23a9",
   "metadata": {},
   "outputs": [
    {
     "name": "stderr",
     "output_type": "stream",
     "text": [
      "[nltk_data] Downloading package wordnet to\n",
      "[nltk_data]     C:\\Users\\HomePC\\AppData\\Roaming\\nltk_data...\n",
      "[nltk_data]   Package wordnet is already up-to-date!\n"
     ]
    }
   ],
   "source": [
    "# Data Manipulation\n",
    "import pandas as pd\n",
    "import numpy as np\n",
    "\n",
    "# Text Preprocessing\n",
    "import re\n",
    "import string\n",
    "\n",
    "# Visualization\n",
    "import matplotlib.pyplot as plt\n",
    "import seaborn as sns\n",
    "\n",
    "# NLP Utilities\n",
    "import nltk\n",
    "from nltk.corpus import stopwords\n",
    "from nltk.stem.wordnet import WordNetLemmatizer\n",
    "from nltk import word_tokenize\n",
    "from nltk import FreqDist\n",
    "nltk.download('wordnet')\n",
    "from nltk.tokenize import RegexpTokenizer\n",
    "from nltk.stem import PorterStemmer\n",
    "\n",
    "# Feature Extraction\n",
    "from sklearn.feature_extraction.text import TfidfVectorizer\n",
    "\n",
    "# Machine Learning Models\n",
    "from sklearn.model_selection import train_test_split\n",
    "from sklearn.linear_model import LogisticRegression\n",
    "from sklearn.ensemble import RandomForestClassifier\n",
    "from xgboost import XGBClassifier\n",
    "from sklearn.metrics import classification_report, confusion_matrix, accuracy_score\n",
    "\n",
    "# Filter Warnings\n",
    "import warnings\n",
    "warnings.filterwarnings(\"ignore\")\n",
    "%matplotlib inline\n"
   ]
  },
  {
   "cell_type": "markdown",
   "id": "f690bde6",
   "metadata": {},
   "source": [
    "## **3 Data Preparation**\n"
   ]
  },
  {
   "cell_type": "code",
   "execution_count": 17,
   "id": "1c776a3d",
   "metadata": {},
   "outputs": [
    {
     "data": {
      "application/vnd.microsoft.datawrangler.viewer.v0+json": {
       "columns": [
        {
         "name": "index",
         "rawType": "int64",
         "type": "integer"
        },
        {
         "name": "hate_speech",
         "rawType": "int64",
         "type": "integer"
        },
        {
         "name": "offensive_language",
         "rawType": "int64",
         "type": "integer"
        },
        {
         "name": "neither",
         "rawType": "int64",
         "type": "integer"
        },
        {
         "name": "Class",
         "rawType": "int64",
         "type": "integer"
        },
        {
         "name": "Tweet",
         "rawType": "object",
         "type": "string"
        },
        {
         "name": "Label",
         "rawType": "object",
         "type": "string"
        }
       ],
       "ref": "fd30b025-44a9-4403-82c4-4c9867d14766",
       "rows": [
        [
         "48071",
         "0",
         "0",
         "2",
         "0",
         "This is exactly what Moses Kuria & ilk are doing. Say No to Negative Ethnicity & Hate Speech! #RailaTheWardogSince82 pic.twitter.com/Z9hG54kUUT",
         "Neutral"
        ],
        [
         "48072",
         "0",
         "0",
         "2",
         "0",
         "This is exactly what Kenyans are going through Thank God this time its both the Rich&the poor USERNAME_952 USERNAME_934 USERNAME_1175 pic.twitter.com/4CFwviyDmr",
         "Neutral"
        ],
        [
         "48073",
         "0",
         "0",
         "2",
         "0",
         "This is exactly what is wrong with this country. If kikuyus can't stand us live with our last names ..why should we continue living together",
         "Neutral"
        ],
        [
         "48074",
         "1",
         "0",
         "2",
         "0",
         "This is exactly the same thing. Well the only difference is that in Kilifi they're merely pushing for it in Kiambu it is already a LAW. Yet USERNAME_406 decided that one will be tribal laws & the other will be just a ban. In other words Kikuyus have rights others wish they did. pic.twitter.com/aHHt3Dfl2k",
         "Neutral"
        ],
        [
         "48075",
         "0",
         "1",
         "2",
         "0",
         "This is exactly how Luos feel in this country with the likes of Moses Kuria spewing hate against them.",
         "Neutral"
        ]
       ],
       "shape": {
        "columns": 6,
        "rows": 5
       }
      },
      "text/html": [
       "<div>\n",
       "<style scoped>\n",
       "    .dataframe tbody tr th:only-of-type {\n",
       "        vertical-align: middle;\n",
       "    }\n",
       "\n",
       "    .dataframe tbody tr th {\n",
       "        vertical-align: top;\n",
       "    }\n",
       "\n",
       "    .dataframe thead th {\n",
       "        text-align: right;\n",
       "    }\n",
       "</style>\n",
       "<table border=\"1\" class=\"dataframe\">\n",
       "  <thead>\n",
       "    <tr style=\"text-align: right;\">\n",
       "      <th></th>\n",
       "      <th>hate_speech</th>\n",
       "      <th>offensive_language</th>\n",
       "      <th>neither</th>\n",
       "      <th>Class</th>\n",
       "      <th>Tweet</th>\n",
       "      <th>Label</th>\n",
       "    </tr>\n",
       "  </thead>\n",
       "  <tbody>\n",
       "    <tr>\n",
       "      <th>48071</th>\n",
       "      <td>0</td>\n",
       "      <td>0</td>\n",
       "      <td>2</td>\n",
       "      <td>0</td>\n",
       "      <td>This is exactly what Moses Kuria &amp; ilk are doi...</td>\n",
       "      <td>Neutral</td>\n",
       "    </tr>\n",
       "    <tr>\n",
       "      <th>48072</th>\n",
       "      <td>0</td>\n",
       "      <td>0</td>\n",
       "      <td>2</td>\n",
       "      <td>0</td>\n",
       "      <td>This is exactly what Kenyans are going through...</td>\n",
       "      <td>Neutral</td>\n",
       "    </tr>\n",
       "    <tr>\n",
       "      <th>48073</th>\n",
       "      <td>0</td>\n",
       "      <td>0</td>\n",
       "      <td>2</td>\n",
       "      <td>0</td>\n",
       "      <td>This is exactly what is wrong with this countr...</td>\n",
       "      <td>Neutral</td>\n",
       "    </tr>\n",
       "    <tr>\n",
       "      <th>48074</th>\n",
       "      <td>1</td>\n",
       "      <td>0</td>\n",
       "      <td>2</td>\n",
       "      <td>0</td>\n",
       "      <td>This is exactly the same thing. Well the only ...</td>\n",
       "      <td>Neutral</td>\n",
       "    </tr>\n",
       "    <tr>\n",
       "      <th>48075</th>\n",
       "      <td>0</td>\n",
       "      <td>1</td>\n",
       "      <td>2</td>\n",
       "      <td>0</td>\n",
       "      <td>This is exactly how Luos feel in this country ...</td>\n",
       "      <td>Neutral</td>\n",
       "    </tr>\n",
       "  </tbody>\n",
       "</table>\n",
       "</div>"
      ],
      "text/plain": [
       "       hate_speech  offensive_language  neither  Class  \\\n",
       "48071            0                   0        2      0   \n",
       "48072            0                   0        2      0   \n",
       "48073            0                   0        2      0   \n",
       "48074            1                   0        2      0   \n",
       "48075            0                   1        2      0   \n",
       "\n",
       "                                                   Tweet    Label  \n",
       "48071  This is exactly what Moses Kuria & ilk are doi...  Neutral  \n",
       "48072  This is exactly what Kenyans are going through...  Neutral  \n",
       "48073  This is exactly what is wrong with this countr...  Neutral  \n",
       "48074  This is exactly the same thing. Well the only ...  Neutral  \n",
       "48075  This is exactly how Luos feel in this country ...  Neutral  "
      ]
     },
     "execution_count": 17,
     "metadata": {},
     "output_type": "execute_result"
    }
   ],
   "source": [
    "# Loading the dataset, Mapping Class with respective Labels\n",
    "df = pd.read_csv('HateSpeech_Kenya.csv')\n",
    "df['Tweet'] = df['Tweet'].apply(lambda x: ' '.join(eval(x)) if isinstance(x, str) else x)\n",
    "label_map = {0: 'Neutral', 1: 'Offensive', 2: 'Hate Speech'}\n",
    "df['Label'] = df['Class'].map(label_map)\n",
    "df.tail()\n"
   ]
  },
  {
   "cell_type": "markdown",
   "id": "997b2b8d",
   "metadata": {},
   "source": [
    "### *Extracting the Relevant Columns*"
   ]
  },
  {
   "cell_type": "code",
   "execution_count": 18,
   "id": "9b02d57f",
   "metadata": {},
   "outputs": [
    {
     "data": {
      "application/vnd.microsoft.datawrangler.viewer.v0+json": {
       "columns": [
        {
         "name": "index",
         "rawType": "int64",
         "type": "integer"
        },
        {
         "name": "Tweet",
         "rawType": "object",
         "type": "string"
        },
        {
         "name": "Class",
         "rawType": "int64",
         "type": "integer"
        },
        {
         "name": "Label",
         "rawType": "object",
         "type": "string"
        }
       ],
       "ref": "5cbff851-bcfa-4165-a4a7-cca22a9cff21",
       "rows": [
        [
         "0",
         "The political elite are in desperation. Ordinary kalenjins are suspicious of kikuyu community",
         "0",
         "Neutral"
        ],
        [
         "1",
         "Am just curious the only people who are calling him old and mad are Kikuyus and not Kalenjins and that's a good sign USERNAME_1 USERNAME_2",
         "0",
         "Neutral"
        ],
        [
         "2",
         "USERNAME_3 the area politicians are the one to blame coz they r insiting local students n villagers to attack non kalenjins students",
         "0",
         "Neutral"
        ],
        [
         "3",
         "War expected in Nakuru if something is not done . All Luos given Seven days to leave. Why are Kenyans Killing...",
         "0",
         "Neutral"
        ],
        [
         "4",
         "USERNAME_4 tells kikuyus activists that they are being targeted. They have targetted USERNAME_5 . They want to kill him.",
         "0",
         "Neutral"
        ]
       ],
       "shape": {
        "columns": 3,
        "rows": 5
       }
      },
      "text/html": [
       "<div>\n",
       "<style scoped>\n",
       "    .dataframe tbody tr th:only-of-type {\n",
       "        vertical-align: middle;\n",
       "    }\n",
       "\n",
       "    .dataframe tbody tr th {\n",
       "        vertical-align: top;\n",
       "    }\n",
       "\n",
       "    .dataframe thead th {\n",
       "        text-align: right;\n",
       "    }\n",
       "</style>\n",
       "<table border=\"1\" class=\"dataframe\">\n",
       "  <thead>\n",
       "    <tr style=\"text-align: right;\">\n",
       "      <th></th>\n",
       "      <th>Tweet</th>\n",
       "      <th>Class</th>\n",
       "      <th>Label</th>\n",
       "    </tr>\n",
       "  </thead>\n",
       "  <tbody>\n",
       "    <tr>\n",
       "      <th>0</th>\n",
       "      <td>The political elite are in desperation. Ordina...</td>\n",
       "      <td>0</td>\n",
       "      <td>Neutral</td>\n",
       "    </tr>\n",
       "    <tr>\n",
       "      <th>1</th>\n",
       "      <td>Am just curious the only people who are callin...</td>\n",
       "      <td>0</td>\n",
       "      <td>Neutral</td>\n",
       "    </tr>\n",
       "    <tr>\n",
       "      <th>2</th>\n",
       "      <td>USERNAME_3 the area politicians are the one to...</td>\n",
       "      <td>0</td>\n",
       "      <td>Neutral</td>\n",
       "    </tr>\n",
       "    <tr>\n",
       "      <th>3</th>\n",
       "      <td>War expected in Nakuru if something is not don...</td>\n",
       "      <td>0</td>\n",
       "      <td>Neutral</td>\n",
       "    </tr>\n",
       "    <tr>\n",
       "      <th>4</th>\n",
       "      <td>USERNAME_4 tells kikuyus activists that they a...</td>\n",
       "      <td>0</td>\n",
       "      <td>Neutral</td>\n",
       "    </tr>\n",
       "  </tbody>\n",
       "</table>\n",
       "</div>"
      ],
      "text/plain": [
       "                                               Tweet  Class    Label\n",
       "0  The political elite are in desperation. Ordina...      0  Neutral\n",
       "1  Am just curious the only people who are callin...      0  Neutral\n",
       "2  USERNAME_3 the area politicians are the one to...      0  Neutral\n",
       "3  War expected in Nakuru if something is not don...      0  Neutral\n",
       "4  USERNAME_4 tells kikuyus activists that they a...      0  Neutral"
      ]
     },
     "execution_count": 18,
     "metadata": {},
     "output_type": "execute_result"
    }
   ],
   "source": [
    "new_df = df[['Tweet', 'Class', 'Label']]\n",
    "new_df.head()"
   ]
  },
  {
   "cell_type": "markdown",
   "id": "455fe431",
   "metadata": {},
   "source": [
    "### *Dataset Summary*"
   ]
  },
  {
   "cell_type": "code",
   "execution_count": 19,
   "id": "440ab77b",
   "metadata": {},
   "outputs": [
    {
     "name": "stdout",
     "output_type": "stream",
     "text": [
      "<class 'pandas.core.frame.DataFrame'>\n",
      "RangeIndex: 48076 entries, 0 to 48075\n",
      "Data columns (total 3 columns):\n",
      " #   Column  Non-Null Count  Dtype \n",
      "---  ------  --------------  ----- \n",
      " 0   Tweet   48076 non-null  object\n",
      " 1   Class   48076 non-null  int64 \n",
      " 2   Label   48076 non-null  object\n",
      "dtypes: int64(1), object(2)\n",
      "memory usage: 1.1+ MB\n"
     ]
    }
   ],
   "source": [
    "new_df.info()"
   ]
  },
  {
   "cell_type": "markdown",
   "id": "89aa0bc9",
   "metadata": {},
   "source": [
    "### *Checking for Duplicates*"
   ]
  },
  {
   "cell_type": "code",
   "execution_count": 20,
   "id": "39853fae",
   "metadata": {},
   "outputs": [
    {
     "data": {
      "text/plain": [
       "0"
      ]
     },
     "execution_count": 20,
     "metadata": {},
     "output_type": "execute_result"
    }
   ],
   "source": [
    "new_df.duplicated().sum()  # Check for duplicates (entire DataFrame)"
   ]
  },
  {
   "cell_type": "code",
   "execution_count": 21,
   "id": "2cd429fd",
   "metadata": {},
   "outputs": [],
   "source": [
    "new_df.drop_duplicates(inplace=True)  # Drop duplicates"
   ]
  },
  {
   "cell_type": "markdown",
   "id": "df0e2fac",
   "metadata": {},
   "source": [
    "### *Feature Engineering*"
   ]
  },
  {
   "cell_type": "code",
   "execution_count": 22,
   "id": "88efa9f9",
   "metadata": {},
   "outputs": [
    {
     "data": {
      "application/vnd.microsoft.datawrangler.viewer.v0+json": {
       "columns": [
        {
         "name": "index",
         "rawType": "int64",
         "type": "integer"
        },
        {
         "name": "Tweet",
         "rawType": "object",
         "type": "string"
        },
        {
         "name": "Class",
         "rawType": "int64",
         "type": "integer"
        },
        {
         "name": "Label",
         "rawType": "object",
         "type": "string"
        },
        {
         "name": "char",
         "rawType": "int64",
         "type": "integer"
        },
        {
         "name": "words",
         "rawType": "int64",
         "type": "integer"
        },
        {
         "name": "sentences",
         "rawType": "int64",
         "type": "integer"
        }
       ],
       "ref": "e1a36ce4-5676-4d6f-b63f-67b894d44b49",
       "rows": [
        [
         "48017",
         "This is not #HateSpeech for #Libtards . Shame on #KarnatakaGovt .",
         "0",
         "Neutral",
         "65",
         "14",
         "2"
        ],
        [
         "15355",
         "When Kenyan wildlife try to cross into Tanzania #OperationTimua pic.twitter.com/RyN8lbdvGD",
         "0",
         "Neutral",
         "90",
         "11",
         "1"
        ],
        [
         "30106",
         "Better to be #RailatheTribalChief than to be #UhuruPrinceOfLooting",
         "1",
         "Offensive",
         "66",
         "10",
         "1"
        ],
        [
         "44023",
         "Whether William Ruto warns Cabinet or not I will still access confidential GoK documents. The gov't belongs to us.",
         "0",
         "Neutral",
         "114",
         "21",
         "2"
        ],
        [
         "42944",
         "Why is this and others like it for sale at your convention? Seams your organization is advocating violence against those who don t agree with you! #HateSpeech pic.twitter.com/89ebRkdDPM",
         "0",
         "Neutral",
         "185",
         "31",
         "3"
        ],
        [
         "35677",
         "We are acting on our businesses and our jobs. Kuria does not speak for all Kikuyus he speaks for himself and for a few who support him",
         "0",
         "Neutral",
         "134",
         "28",
         "2"
        ],
        [
         "23656",
         "#WakiReport Uhuru Kenyatta and his power brokers are only keen to create animosity between Luos and Kalenjins . Nothing else",
         "2",
         "Hate Speech",
         "124",
         "21",
         "2"
        ],
        [
         "42590",
         "Wise men change their minds. Kudos Jeff. Today all Kenyan remotes are locked on citizen TV watching the main man USERNAME_1622 smoookin.",
         "0",
         "Neutral",
         "136",
         "25",
         "3"
        ],
        [
         "30333",
         "All Luos are successful RT USERNAME_3544: But it's the Unsuccessful Luos who hide behind the successful ones' names...",
         "1",
         "Offensive",
         "118",
         "22",
         "1"
        ],
        [
         "8067",
         "Hawa watu achana nao USERNAME_1655 : Waarabu jo. USERNAME_1656 : Mshai jiuliza mbona walalo huwa na cheda ivo",
         "0",
         "Neutral",
         "109",
         "19",
         "2"
        ]
       ],
       "shape": {
        "columns": 6,
        "rows": 10
       }
      },
      "text/html": [
       "<div>\n",
       "<style scoped>\n",
       "    .dataframe tbody tr th:only-of-type {\n",
       "        vertical-align: middle;\n",
       "    }\n",
       "\n",
       "    .dataframe tbody tr th {\n",
       "        vertical-align: top;\n",
       "    }\n",
       "\n",
       "    .dataframe thead th {\n",
       "        text-align: right;\n",
       "    }\n",
       "</style>\n",
       "<table border=\"1\" class=\"dataframe\">\n",
       "  <thead>\n",
       "    <tr style=\"text-align: right;\">\n",
       "      <th></th>\n",
       "      <th>Tweet</th>\n",
       "      <th>Class</th>\n",
       "      <th>Label</th>\n",
       "      <th>char</th>\n",
       "      <th>words</th>\n",
       "      <th>sentences</th>\n",
       "    </tr>\n",
       "  </thead>\n",
       "  <tbody>\n",
       "    <tr>\n",
       "      <th>48017</th>\n",
       "      <td>This is not #HateSpeech for #Libtards . Shame ...</td>\n",
       "      <td>0</td>\n",
       "      <td>Neutral</td>\n",
       "      <td>65</td>\n",
       "      <td>14</td>\n",
       "      <td>2</td>\n",
       "    </tr>\n",
       "    <tr>\n",
       "      <th>15355</th>\n",
       "      <td>When Kenyan wildlife try to cross into Tanzani...</td>\n",
       "      <td>0</td>\n",
       "      <td>Neutral</td>\n",
       "      <td>90</td>\n",
       "      <td>11</td>\n",
       "      <td>1</td>\n",
       "    </tr>\n",
       "    <tr>\n",
       "      <th>30106</th>\n",
       "      <td>Better to be #RailatheTribalChief than to be #...</td>\n",
       "      <td>1</td>\n",
       "      <td>Offensive</td>\n",
       "      <td>66</td>\n",
       "      <td>10</td>\n",
       "      <td>1</td>\n",
       "    </tr>\n",
       "    <tr>\n",
       "      <th>44023</th>\n",
       "      <td>Whether William Ruto warns Cabinet or not I wi...</td>\n",
       "      <td>0</td>\n",
       "      <td>Neutral</td>\n",
       "      <td>114</td>\n",
       "      <td>21</td>\n",
       "      <td>2</td>\n",
       "    </tr>\n",
       "    <tr>\n",
       "      <th>42944</th>\n",
       "      <td>Why is this and others like it for sale at you...</td>\n",
       "      <td>0</td>\n",
       "      <td>Neutral</td>\n",
       "      <td>185</td>\n",
       "      <td>31</td>\n",
       "      <td>3</td>\n",
       "    </tr>\n",
       "    <tr>\n",
       "      <th>35677</th>\n",
       "      <td>We are acting on our businesses and our jobs. ...</td>\n",
       "      <td>0</td>\n",
       "      <td>Neutral</td>\n",
       "      <td>134</td>\n",
       "      <td>28</td>\n",
       "      <td>2</td>\n",
       "    </tr>\n",
       "    <tr>\n",
       "      <th>23656</th>\n",
       "      <td>#WakiReport Uhuru Kenyatta and his power broke...</td>\n",
       "      <td>2</td>\n",
       "      <td>Hate Speech</td>\n",
       "      <td>124</td>\n",
       "      <td>21</td>\n",
       "      <td>2</td>\n",
       "    </tr>\n",
       "    <tr>\n",
       "      <th>42590</th>\n",
       "      <td>Wise men change their minds. Kudos Jeff. Today...</td>\n",
       "      <td>0</td>\n",
       "      <td>Neutral</td>\n",
       "      <td>136</td>\n",
       "      <td>25</td>\n",
       "      <td>3</td>\n",
       "    </tr>\n",
       "    <tr>\n",
       "      <th>30333</th>\n",
       "      <td>All Luos are successful RT USERNAME_3544: But ...</td>\n",
       "      <td>1</td>\n",
       "      <td>Offensive</td>\n",
       "      <td>118</td>\n",
       "      <td>22</td>\n",
       "      <td>1</td>\n",
       "    </tr>\n",
       "    <tr>\n",
       "      <th>8067</th>\n",
       "      <td>Hawa watu achana nao USERNAME_1655 : Waarabu j...</td>\n",
       "      <td>0</td>\n",
       "      <td>Neutral</td>\n",
       "      <td>109</td>\n",
       "      <td>19</td>\n",
       "      <td>2</td>\n",
       "    </tr>\n",
       "  </tbody>\n",
       "</table>\n",
       "</div>"
      ],
      "text/plain": [
       "                                                   Tweet  Class        Label  \\\n",
       "48017  This is not #HateSpeech for #Libtards . Shame ...      0      Neutral   \n",
       "15355  When Kenyan wildlife try to cross into Tanzani...      0      Neutral   \n",
       "30106  Better to be #RailatheTribalChief than to be #...      1    Offensive   \n",
       "44023  Whether William Ruto warns Cabinet or not I wi...      0      Neutral   \n",
       "42944  Why is this and others like it for sale at you...      0      Neutral   \n",
       "35677  We are acting on our businesses and our jobs. ...      0      Neutral   \n",
       "23656  #WakiReport Uhuru Kenyatta and his power broke...      2  Hate Speech   \n",
       "42590  Wise men change their minds. Kudos Jeff. Today...      0      Neutral   \n",
       "30333  All Luos are successful RT USERNAME_3544: But ...      1    Offensive   \n",
       "8067   Hawa watu achana nao USERNAME_1655 : Waarabu j...      0      Neutral   \n",
       "\n",
       "       char  words  sentences  \n",
       "48017    65     14          2  \n",
       "15355    90     11          1  \n",
       "30106    66     10          1  \n",
       "44023   114     21          2  \n",
       "42944   185     31          3  \n",
       "35677   134     28          2  \n",
       "23656   124     21          2  \n",
       "42590   136     25          3  \n",
       "30333   118     22          1  \n",
       "8067    109     19          2  "
      ]
     },
     "execution_count": 22,
     "metadata": {},
     "output_type": "execute_result"
    }
   ],
   "source": [
    "# creating columns for number of characters, number of sentences and number of words\n",
    "new_df[\"char\"]=new_df[\"Tweet\"].apply(lambda x:len(x))\n",
    "new_df[\"words\"]=new_df[\"Tweet\"].apply(lambda x:nltk.word_tokenize(x)).apply(lambda x:len(x))\n",
    "new_df[\"sentences\"]=new_df[\"Tweet\"].apply(lambda x:nltk.sent_tokenize(x)).apply(lambda x:len(x))\n",
    "new_df.sample(10)"
   ]
  },
  {
   "cell_type": "markdown",
   "id": "23124e29",
   "metadata": {},
   "source": [
    "### *Summary Statistics*"
   ]
  },
  {
   "cell_type": "code",
   "execution_count": 23,
   "id": "e4632197",
   "metadata": {},
   "outputs": [
    {
     "data": {
      "application/vnd.microsoft.datawrangler.viewer.v0+json": {
       "columns": [
        {
         "name": "index",
         "rawType": "object",
         "type": "string"
        },
        {
         "name": "Class",
         "rawType": "float64",
         "type": "float"
        },
        {
         "name": "char",
         "rawType": "float64",
         "type": "float"
        },
        {
         "name": "words",
         "rawType": "float64",
         "type": "float"
        },
        {
         "name": "sentences",
         "rawType": "float64",
         "type": "float"
        }
       ],
       "ref": "419f0eb0-82a7-4c2c-a7ea-a12e3ac2de8b",
       "rows": [
        [
         "count",
         "48076.0",
         "48076.0",
         "48076.0",
         "48076.0"
        ],
        [
         "mean",
         "0.3100299525750894",
         "110.66363674182544",
         "20.334075214244113",
         "1.8071594974623513"
        ],
        [
         "std",
         "0.5884307300028828",
         "48.98994721499426",
         "9.506031058182673",
         "1.0059746189527938"
        ],
        [
         "min",
         "0.0",
         "1.0",
         "1.0",
         "1.0"
        ],
        [
         "25%",
         "0.0",
         "79.0",
         "14.0",
         "1.0"
        ],
        [
         "50%",
         "0.0",
         "111.0",
         "20.0",
         "2.0"
        ],
        [
         "75%",
         "0.0",
         "135.0",
         "25.0",
         "2.0"
        ],
        [
         "max",
         "2.0",
         "327.0",
         "68.0",
         "14.0"
        ]
       ],
       "shape": {
        "columns": 4,
        "rows": 8
       }
      },
      "text/html": [
       "<div>\n",
       "<style scoped>\n",
       "    .dataframe tbody tr th:only-of-type {\n",
       "        vertical-align: middle;\n",
       "    }\n",
       "\n",
       "    .dataframe tbody tr th {\n",
       "        vertical-align: top;\n",
       "    }\n",
       "\n",
       "    .dataframe thead th {\n",
       "        text-align: right;\n",
       "    }\n",
       "</style>\n",
       "<table border=\"1\" class=\"dataframe\">\n",
       "  <thead>\n",
       "    <tr style=\"text-align: right;\">\n",
       "      <th></th>\n",
       "      <th>Class</th>\n",
       "      <th>char</th>\n",
       "      <th>words</th>\n",
       "      <th>sentences</th>\n",
       "    </tr>\n",
       "  </thead>\n",
       "  <tbody>\n",
       "    <tr>\n",
       "      <th>count</th>\n",
       "      <td>48076.000000</td>\n",
       "      <td>48076.000000</td>\n",
       "      <td>48076.000000</td>\n",
       "      <td>48076.000000</td>\n",
       "    </tr>\n",
       "    <tr>\n",
       "      <th>mean</th>\n",
       "      <td>0.310030</td>\n",
       "      <td>110.663637</td>\n",
       "      <td>20.334075</td>\n",
       "      <td>1.807159</td>\n",
       "    </tr>\n",
       "    <tr>\n",
       "      <th>std</th>\n",
       "      <td>0.588431</td>\n",
       "      <td>48.989947</td>\n",
       "      <td>9.506031</td>\n",
       "      <td>1.005975</td>\n",
       "    </tr>\n",
       "    <tr>\n",
       "      <th>min</th>\n",
       "      <td>0.000000</td>\n",
       "      <td>1.000000</td>\n",
       "      <td>1.000000</td>\n",
       "      <td>1.000000</td>\n",
       "    </tr>\n",
       "    <tr>\n",
       "      <th>25%</th>\n",
       "      <td>0.000000</td>\n",
       "      <td>79.000000</td>\n",
       "      <td>14.000000</td>\n",
       "      <td>1.000000</td>\n",
       "    </tr>\n",
       "    <tr>\n",
       "      <th>50%</th>\n",
       "      <td>0.000000</td>\n",
       "      <td>111.000000</td>\n",
       "      <td>20.000000</td>\n",
       "      <td>2.000000</td>\n",
       "    </tr>\n",
       "    <tr>\n",
       "      <th>75%</th>\n",
       "      <td>0.000000</td>\n",
       "      <td>135.000000</td>\n",
       "      <td>25.000000</td>\n",
       "      <td>2.000000</td>\n",
       "    </tr>\n",
       "    <tr>\n",
       "      <th>max</th>\n",
       "      <td>2.000000</td>\n",
       "      <td>327.000000</td>\n",
       "      <td>68.000000</td>\n",
       "      <td>14.000000</td>\n",
       "    </tr>\n",
       "  </tbody>\n",
       "</table>\n",
       "</div>"
      ],
      "text/plain": [
       "              Class          char         words     sentences\n",
       "count  48076.000000  48076.000000  48076.000000  48076.000000\n",
       "mean       0.310030    110.663637     20.334075      1.807159\n",
       "std        0.588431     48.989947      9.506031      1.005975\n",
       "min        0.000000      1.000000      1.000000      1.000000\n",
       "25%        0.000000     79.000000     14.000000      1.000000\n",
       "50%        0.000000    111.000000     20.000000      2.000000\n",
       "75%        0.000000    135.000000     25.000000      2.000000\n",
       "max        2.000000    327.000000     68.000000     14.000000"
      ]
     },
     "execution_count": 23,
     "metadata": {},
     "output_type": "execute_result"
    }
   ],
   "source": [
    "new_df.describe()"
   ]
  },
  {
   "cell_type": "markdown",
   "id": "0d2d5de3",
   "metadata": {},
   "source": [
    "### *Check Target Values*"
   ]
  },
  {
   "cell_type": "code",
   "execution_count": 24,
   "id": "c8afd25d",
   "metadata": {},
   "outputs": [
    {
     "name": "stdout",
     "output_type": "stream",
     "text": [
      "Unique values in Class: [0 1 2]\n",
      "Unique values in Label: ['Neutral' 'Offensive' 'Hate Speech']\n"
     ]
    }
   ],
   "source": [
    "features = ['Class', 'Label']\n",
    "for feature in features:\n",
    "    print(f\"Unique values in {feature}: {new_df[feature].unique()}\")"
   ]
  },
  {
   "cell_type": "markdown",
   "id": "9997ca9f",
   "metadata": {},
   "source": [
    "### *Text Cleaning*\n",
    "\n",
    "Raw tweets often contain noise such as:\n",
    "- URLs\n",
    "- Mentions\n",
    "- Hashtags\n",
    "- Emojis and non-alphanumeric characters\n",
    "\n",
    "We'll apply basic text preprocessing to clean the tweet data.\n"
   ]
  },
  {
   "cell_type": "code",
   "execution_count": 25,
   "id": "8ca5a6f4",
   "metadata": {},
   "outputs": [
    {
     "data": {
      "application/vnd.microsoft.datawrangler.viewer.v0+json": {
       "columns": [
        {
         "name": "index",
         "rawType": "int64",
         "type": "integer"
        },
        {
         "name": "Tweet",
         "rawType": "object",
         "type": "string"
        },
        {
         "name": "Class",
         "rawType": "int64",
         "type": "integer"
        },
        {
         "name": "Label",
         "rawType": "object",
         "type": "string"
        },
        {
         "name": "char",
         "rawType": "int64",
         "type": "integer"
        },
        {
         "name": "words",
         "rawType": "int64",
         "type": "integer"
        },
        {
         "name": "sentences",
         "rawType": "int64",
         "type": "integer"
        },
        {
         "name": "Clean_Tweet",
         "rawType": "object",
         "type": "string"
        }
       ],
       "ref": "103590db-c5d2-40fb-bad5-bbe52541094a",
       "rows": [
        [
         "0",
         "The political elite are in desperation. Ordinary kalenjins are suspicious of kikuyu community",
         "0",
         "Neutral",
         "93",
         "14",
         "2",
         "the political elite are in desperation ordinary kalenjins are suspicious of kikuyu community"
        ],
        [
         "1",
         "Am just curious the only people who are calling him old and mad are Kikuyus and not Kalenjins and that's a good sign USERNAME_1 USERNAME_2",
         "0",
         "Neutral",
         "138",
         "26",
         "1",
         "am just curious the only people who are calling him old and mad are kikuyus and not kalenjins and thats a good sign username username"
        ],
        [
         "2",
         "USERNAME_3 the area politicians are the one to blame coz they r insiting local students n villagers to attack non kalenjins students",
         "0",
         "Neutral",
         "132",
         "22",
         "1",
         "username the area politicians are the one to blame coz they r insiting local students n villagers to attack non kalenjins students"
        ],
        [
         "3",
         "War expected in Nakuru if something is not done . All Luos given Seven days to leave. Why are Kenyans Killing...",
         "0",
         "Neutral",
         "112",
         "23",
         "3",
         "war expected in nakuru if something is not done  all luos given seven days to leave why are kenyans killing"
        ],
        [
         "4",
         "USERNAME_4 tells kikuyus activists that they are being targeted. They have targetted USERNAME_5 . They want to kill him.",
         "0",
         "Neutral",
         "120",
         "21",
         "3",
         "username tells kikuyus activists that they are being targeted they have targetted username  they want to kill him"
        ]
       ],
       "shape": {
        "columns": 7,
        "rows": 5
       }
      },
      "text/html": [
       "<div>\n",
       "<style scoped>\n",
       "    .dataframe tbody tr th:only-of-type {\n",
       "        vertical-align: middle;\n",
       "    }\n",
       "\n",
       "    .dataframe tbody tr th {\n",
       "        vertical-align: top;\n",
       "    }\n",
       "\n",
       "    .dataframe thead th {\n",
       "        text-align: right;\n",
       "    }\n",
       "</style>\n",
       "<table border=\"1\" class=\"dataframe\">\n",
       "  <thead>\n",
       "    <tr style=\"text-align: right;\">\n",
       "      <th></th>\n",
       "      <th>Tweet</th>\n",
       "      <th>Class</th>\n",
       "      <th>Label</th>\n",
       "      <th>char</th>\n",
       "      <th>words</th>\n",
       "      <th>sentences</th>\n",
       "      <th>Clean_Tweet</th>\n",
       "    </tr>\n",
       "  </thead>\n",
       "  <tbody>\n",
       "    <tr>\n",
       "      <th>0</th>\n",
       "      <td>The political elite are in desperation. Ordina...</td>\n",
       "      <td>0</td>\n",
       "      <td>Neutral</td>\n",
       "      <td>93</td>\n",
       "      <td>14</td>\n",
       "      <td>2</td>\n",
       "      <td>the political elite are in desperation ordinar...</td>\n",
       "    </tr>\n",
       "    <tr>\n",
       "      <th>1</th>\n",
       "      <td>Am just curious the only people who are callin...</td>\n",
       "      <td>0</td>\n",
       "      <td>Neutral</td>\n",
       "      <td>138</td>\n",
       "      <td>26</td>\n",
       "      <td>1</td>\n",
       "      <td>am just curious the only people who are callin...</td>\n",
       "    </tr>\n",
       "    <tr>\n",
       "      <th>2</th>\n",
       "      <td>USERNAME_3 the area politicians are the one to...</td>\n",
       "      <td>0</td>\n",
       "      <td>Neutral</td>\n",
       "      <td>132</td>\n",
       "      <td>22</td>\n",
       "      <td>1</td>\n",
       "      <td>username the area politicians are the one to b...</td>\n",
       "    </tr>\n",
       "    <tr>\n",
       "      <th>3</th>\n",
       "      <td>War expected in Nakuru if something is not don...</td>\n",
       "      <td>0</td>\n",
       "      <td>Neutral</td>\n",
       "      <td>112</td>\n",
       "      <td>23</td>\n",
       "      <td>3</td>\n",
       "      <td>war expected in nakuru if something is not don...</td>\n",
       "    </tr>\n",
       "    <tr>\n",
       "      <th>4</th>\n",
       "      <td>USERNAME_4 tells kikuyus activists that they a...</td>\n",
       "      <td>0</td>\n",
       "      <td>Neutral</td>\n",
       "      <td>120</td>\n",
       "      <td>21</td>\n",
       "      <td>3</td>\n",
       "      <td>username tells kikuyus activists that they are...</td>\n",
       "    </tr>\n",
       "  </tbody>\n",
       "</table>\n",
       "</div>"
      ],
      "text/plain": [
       "                                               Tweet  Class    Label  char  \\\n",
       "0  The political elite are in desperation. Ordina...      0  Neutral    93   \n",
       "1  Am just curious the only people who are callin...      0  Neutral   138   \n",
       "2  USERNAME_3 the area politicians are the one to...      0  Neutral   132   \n",
       "3  War expected in Nakuru if something is not don...      0  Neutral   112   \n",
       "4  USERNAME_4 tells kikuyus activists that they a...      0  Neutral   120   \n",
       "\n",
       "   words  sentences                                        Clean_Tweet  \n",
       "0     14          2  the political elite are in desperation ordinar...  \n",
       "1     26          1  am just curious the only people who are callin...  \n",
       "2     22          1  username the area politicians are the one to b...  \n",
       "3     23          3  war expected in nakuru if something is not don...  \n",
       "4     21          3  username tells kikuyus activists that they are...  "
      ]
     },
     "execution_count": 25,
     "metadata": {},
     "output_type": "execute_result"
    }
   ],
   "source": [
    "def clean_text(text):\n",
    "    text = re.sub(r'http\\S+', '', text)  # remove URLs\n",
    "    item = re.sub(r'\\@\\w+|\\#', '', text)  # Remove mentions and hashtags \n",
    "    item = re.sub(r'[^\\w\\s]', '', text)  # Remove punctuation\n",
    "    text = re.sub(r'[^a-zA-Z\\s]', '', text)  # remove non-alphabetic\n",
    "    text = text.lower().strip()             # convert to lowercase and strip whitespace\n",
    "    return text\n",
    "\n",
    "new_df['Clean_Tweet'] = new_df['Tweet'].apply(clean_text)\n",
    "new_df.head()"
   ]
  },
  {
   "cell_type": "markdown",
   "id": "6ae26569",
   "metadata": {},
   "source": [
    "### EDA"
   ]
  },
  {
   "cell_type": "markdown",
   "id": "c6111978",
   "metadata": {},
   "source": [
    "We'll visualize class distribution, tweet lengths, and word frequencies to better understand the dataset."
   ]
  },
  {
   "cell_type": "code",
   "execution_count": 26,
   "id": "6d5eec27",
   "metadata": {},
   "outputs": [
    {
     "data": {
      "image/png": "[encoded data removed]",
      "text/plain": [
       "<Figure size 640x480 with 1 Axes>"
      ]
     },
     "metadata": {},
     "output_type": "display_data"
    }
   ],
   "source": [
    "# Class distribution\n",
    "sns.countplot(data=new_df, x='Label')\n",
    "plt.title('Tweet Class Distribution')\n",
    "plt.show()\n"
   ]
  },
  {
   "cell_type": "code",
   "execution_count": 27,
   "id": "2ec73de4",
   "metadata": {},
   "outputs": [],
   "source": [
    "## Box Plot number of characters, sentence, words in each label\n"
   ]
  },
  {
   "cell_type": "markdown",
   "id": "987dbdfa",
   "metadata": {},
   "source": [
    "### Text preprocessing\n",
    "tokenizzing , selecting words with 3 or more characters, removing stop words"
   ]
  },
  {
   "cell_type": "code",
   "execution_count": 28,
   "id": "19551ec0",
   "metadata": {},
   "outputs": [],
   "source": [
    "# Tokenizer that uses a regex pattern to select words with three or more characters\n",
    "tokenizer = RegexpTokenizer(r\"(?u)\\w{3,}\")\n",
    "\n",
    "# List of stopwords in English\n",
    "stopwords_list = stopwords.words('english')\n",
    "kisw = ['na', 'ya', 'wa', 'ni', 'la', 'ka', 'ma', 'tu', 'wao', 'hii', 'hapo', 'hapo', 'hapo']\n",
    "sheng = ['kazi', 'msee', 'msee', 'kazi', 'kazi', 'kazi', 'kazi', 'kazi', 'kazi', 'kazi', 'kazi']\n",
    "# Combine all stopwords\n",
    "stopwords_combined = set(stopwords_list + kisw + sheng)\n",
    "\n",
    "# Stemmer using PorterStemmer Class\n",
    "stemmer = PorterStemmer() \n",
    "\n",
    "# use lemmatizer"
   ]
  },
  {
   "cell_type": "code",
   "execution_count": 29,
   "metadata": {},
   "outputs": [],
   "source": [
    "def preprocess_text(text, tokenizer, stopwords_list, stemmer):\n",
    "    text = text.lower()\n",
    "    tokens = tokenizer.tokenize(text)\n",
    "    words = [word for word in tokens if word not in stopwords_list]\n",
    "    stemmed_words = [stemmer.stem(word) for word in words]\n",
    "    return stemmed_words"
   ]
  },
  {
   "cell_type": "markdown",
   "id": "a1efa7bb",
   "metadata": {},
   "source": [
    "### performing preprocessing on the clean tweet feature"
   ]
  },
  {
   "cell_type": "code",
   "execution_count": 30,
   "id": "724acc10",
   "metadata": {},
   "outputs": [
    {
     "data": {
      "application/vnd.microsoft.datawrangler.viewer.v0+json": {
       "columns": [
        {
         "name": "index",
         "rawType": "int64",
         "type": "integer"
        },
        {
         "name": "Clean_Tweet",
         "rawType": "object",
         "type": "unknown"
        }
       ],
       "ref": "f28d0bc6-6e24-4753-9b1e-118e78c7b676",
       "rows": [
        [
         "48071",
         "['exactli', 'mose', 'kuria', 'ilk', 'say', 'neg', 'ethnic', 'hate', 'speech', 'railathewardogsinc', 'pictwittercomzhgkuut']"
        ],
        [
         "48072",
         "['exactli', 'kenyan', 'go', 'thank', 'god', 'time', 'richth', 'poor', 'usernam', 'usernam', 'usernam', 'pictwittercomcfwviydmr']"
        ],
        [
         "48073",
         "['exactli', 'wrong', 'countri', 'kikuyu', 'cant', 'stand', 'live', 'last', 'name', 'continu', 'live', 'togeth']"
        ],
        [
         "48074",
         "['exactli', 'thing', 'well', 'differ', 'kilifi', 'theyr', 'mere', 'push', 'kiambu', 'alreadi', 'law', 'yet', 'usernam', 'decid', 'one', 'tribal', 'law', 'ban', 'word', 'kikuyu', 'right', 'other', 'wish', 'pictwittercomahhtdflk']"
        ],
        [
         "48075",
         "['exactli', 'luo', 'feel', 'countri', 'like', 'mose', 'kuria', 'spew', 'hate']"
        ]
       ],
       "shape": {
        "columns": 1,
        "rows": 5
       }
      },
      "text/plain": [
       "48071    [exactli, mose, kuria, ilk, say, neg, ethnic, ...\n",
       "48072    [exactli, kenyan, go, thank, god, time, richth...\n",
       "48073    [exactli, wrong, countri, kikuyu, cant, stand,...\n",
       "48074    [exactli, thing, well, differ, kilifi, theyr, ...\n",
       "48075    [exactli, luo, feel, countri, like, mose, kuri...\n",
       "Name: Clean_Tweet, dtype: object"
      ]
     },
     "execution_count": 30,
     "metadata": {},
     "output_type": "execute_result"
    }
   ],
   "source": [
    "text_data = new_df['Clean_Tweet'].apply(lambda x: preprocess_text(x, tokenizer, stopwords_list, stemmer))\n",
    "text_data.tail()"
   ]
  },
  {
   "cell_type": "markdown",
   "metadata": {},
   "source": [
    "### Adding preprocessed tweet as a column"
   ]
  },
  {
   "cell_type": "code",
   "execution_count": 31,
   "id": "ff72ae1e",
   "metadata": {},
   "outputs": [
    {
     "data": {
      "application/vnd.microsoft.datawrangler.viewer.v0+json": {
       "columns": [
        {
         "name": "index",
         "rawType": "int64",
         "type": "integer"
        },
        {
         "name": "Tweet",
         "rawType": "object",
         "type": "string"
        },
        {
         "name": "Class",
         "rawType": "int64",
         "type": "integer"
        },
        {
         "name": "Label",
         "rawType": "object",
         "type": "string"
        },
        {
         "name": "char",
         "rawType": "int64",
         "type": "integer"
        },
        {
         "name": "words",
         "rawType": "int64",
         "type": "integer"
        },
        {
         "name": "sentences",
         "rawType": "int64",
         "type": "integer"
        },
        {
         "name": "Clean_Tweet",
         "rawType": "object",
         "type": "string"
        },
        {
         "name": "Preprocessed_Tweet",
         "rawType": "object",
         "type": "unknown"
        }
       ],
       "ref": "e0766c5e-47b2-4c71-b5bf-bc25222350ca",
       "rows": [
        [
         "0",
         "The political elite are in desperation. Ordinary kalenjins are suspicious of kikuyu community",
         "0",
         "Neutral",
         "93",
         "14",
         "2",
         "the political elite are in desperation ordinary kalenjins are suspicious of kikuyu community",
         "['polit', 'elit', 'desper', 'ordinari', 'kalenjin', 'suspici', 'kikuyu', 'commun']"
        ],
        [
         "1",
         "Am just curious the only people who are calling him old and mad are Kikuyus and not Kalenjins and that's a good sign USERNAME_1 USERNAME_2",
         "0",
         "Neutral",
         "138",
         "26",
         "1",
         "am just curious the only people who are calling him old and mad are kikuyus and not kalenjins and thats a good sign username username",
         "['curiou', 'peopl', 'call', 'old', 'mad', 'kikuyu', 'kalenjin', 'that', 'good', 'sign', 'usernam', 'usernam']"
        ],
        [
         "2",
         "USERNAME_3 the area politicians are the one to blame coz they r insiting local students n villagers to attack non kalenjins students",
         "0",
         "Neutral",
         "132",
         "22",
         "1",
         "username the area politicians are the one to blame coz they r insiting local students n villagers to attack non kalenjins students",
         "['usernam', 'area', 'politician', 'one', 'blame', 'coz', 'insit', 'local', 'student', 'villag', 'attack', 'non', 'kalenjin', 'student']"
        ],
        [
         "3",
         "War expected in Nakuru if something is not done . All Luos given Seven days to leave. Why are Kenyans Killing...",
         "0",
         "Neutral",
         "112",
         "23",
         "3",
         "war expected in nakuru if something is not done  all luos given seven days to leave why are kenyans killing",
         "['war', 'expect', 'nakuru', 'someth', 'done', 'luo', 'given', 'seven', 'day', 'leav', 'kenyan', 'kill']"
        ],
        [
         "4",
         "USERNAME_4 tells kikuyus activists that they are being targeted. They have targetted USERNAME_5 . They want to kill him.",
         "0",
         "Neutral",
         "120",
         "21",
         "3",
         "username tells kikuyus activists that they are being targeted they have targetted username  they want to kill him",
         "['usernam', 'tell', 'kikuyu', 'activist', 'target', 'target', 'usernam', 'want', 'kill']"
        ]
       ],
       "shape": {
        "columns": 8,
        "rows": 5
       }
      },
      "text/html": [
       "<div>\n",
       "<style scoped>\n",
       "    .dataframe tbody tr th:only-of-type {\n",
       "        vertical-align: middle;\n",
       "    }\n",
       "\n",
       "    .dataframe tbody tr th {\n",
       "        vertical-align: top;\n",
       "    }\n",
       "\n",
       "    .dataframe thead th {\n",
       "        text-align: right;\n",
       "    }\n",
       "</style>\n",
       "<table border=\"1\" class=\"dataframe\">\n",
       "  <thead>\n",
       "    <tr style=\"text-align: right;\">\n",
       "      <th></th>\n",
       "      <th>Tweet</th>\n",
       "      <th>Class</th>\n",
       "      <th>Label</th>\n",
       "      <th>char</th>\n",
       "      <th>words</th>\n",
       "      <th>sentences</th>\n",
       "      <th>Clean_Tweet</th>\n",
       "      <th>Preprocessed_Tweet</th>\n",
       "    </tr>\n",
       "  </thead>\n",
       "  <tbody>\n",
       "    <tr>\n",
       "      <th>0</th>\n",
       "      <td>The political elite are in desperation. Ordina...</td>\n",
       "      <td>0</td>\n",
       "      <td>Neutral</td>\n",
       "      <td>93</td>\n",
       "      <td>14</td>\n",
       "      <td>2</td>\n",
       "      <td>the political elite are in desperation ordinar...</td>\n",
       "      <td>[polit, elit, desper, ordinari, kalenjin, susp...</td>\n",
       "    </tr>\n",
       "    <tr>\n",
       "      <th>1</th>\n",
       "      <td>Am just curious the only people who are callin...</td>\n",
       "      <td>0</td>\n",
       "      <td>Neutral</td>\n",
       "      <td>138</td>\n",
       "      <td>26</td>\n",
       "      <td>1</td>\n",
       "      <td>am just curious the only people who are callin...</td>\n",
       "      <td>[curiou, peopl, call, old, mad, kikuyu, kalenj...</td>\n",
       "    </tr>\n",
       "    <tr>\n",
       "      <th>2</th>\n",
       "      <td>USERNAME_3 the area politicians are the one to...</td>\n",
       "      <td>0</td>\n",
       "      <td>Neutral</td>\n",
       "      <td>132</td>\n",
       "      <td>22</td>\n",
       "      <td>1</td>\n",
       "      <td>username the area politicians are the one to b...</td>\n",
       "      <td>[usernam, area, politician, one, blame, coz, i...</td>\n",
       "    </tr>\n",
       "    <tr>\n",
       "      <th>3</th>\n",
       "      <td>War expected in Nakuru if something is not don...</td>\n",
       "      <td>0</td>\n",
       "      <td>Neutral</td>\n",
       "      <td>112</td>\n",
       "      <td>23</td>\n",
       "      <td>3</td>\n",
       "      <td>war expected in nakuru if something is not don...</td>\n",
       "      <td>[war, expect, nakuru, someth, done, luo, given...</td>\n",
       "    </tr>\n",
       "    <tr>\n",
       "      <th>4</th>\n",
       "      <td>USERNAME_4 tells kikuyus activists that they a...</td>\n",
       "      <td>0</td>\n",
       "      <td>Neutral</td>\n",
       "      <td>120</td>\n",
       "      <td>21</td>\n",
       "      <td>3</td>\n",
       "      <td>username tells kikuyus activists that they are...</td>\n",
       "      <td>[usernam, tell, kikuyu, activist, target, targ...</td>\n",
       "    </tr>\n",
       "  </tbody>\n",
       "</table>\n",
       "</div>"
      ],
      "text/plain": [
       "                                               Tweet  Class    Label  char  \\\n",
       "0  The political elite are in desperation. Ordina...      0  Neutral    93   \n",
       "1  Am just curious the only people who are callin...      0  Neutral   138   \n",
       "2  USERNAME_3 the area politicians are the one to...      0  Neutral   132   \n",
       "3  War expected in Nakuru if something is not don...      0  Neutral   112   \n",
       "4  USERNAME_4 tells kikuyus activists that they a...      0  Neutral   120   \n",
       "\n",
       "   words  sentences                                        Clean_Tweet  \\\n",
       "0     14          2  the political elite are in desperation ordinar...   \n",
       "1     26          1  am just curious the only people who are callin...   \n",
       "2     22          1  username the area politicians are the one to b...   \n",
       "3     23          3  war expected in nakuru if something is not don...   \n",
       "4     21          3  username tells kikuyus activists that they are...   \n",
       "\n",
       "                                  Preprocessed_Tweet  \n",
       "0  [polit, elit, desper, ordinari, kalenjin, susp...  \n",
       "1  [curiou, peopl, call, old, mad, kikuyu, kalenj...  \n",
       "2  [usernam, area, politician, one, blame, coz, i...  \n",
       "3  [war, expect, nakuru, someth, done, luo, given...  \n",
       "4  [usernam, tell, kikuyu, activist, target, targ...  "
      ]
     },
     "execution_count": 31,
     "metadata": {},
     "output_type": "execute_result"
    }
   ],
   "source": [
    "new_df[\"Preprocessed_Tweet\"] = text_data\n",
    "new_df.head()"
   ]
  },
  {
   "cell_type": "markdown",
   "id": "fcbe4c92",
   "metadata": {},
   "source": [
    "### Frequency Dist Of Preprocessed Words"
   ]
  },
  {
   "cell_type": "code",
   "execution_count": 32,
   "id": "c3471349",
   "metadata": {},
   "outputs": [
    {
     "data": {
      "text/plain": [
       "FreqDist({'usernam': 15524, 'kikuyu': 8245, 'luo': 5223, 'noreformsnoelect': 4044, 'nyakundi': 2934, 'kenya': 2855, 'peopl': 2672, 'kenyan': 2532, 'kill': 2440, 'like': 2416, ...})"
      ]
     },
     "execution_count": 32,
     "metadata": {},
     "output_type": "execute_result"
    }
   ],
   "source": [
    "frequency_dist = FreqDist(new_df['Preprocessed_Tweet'].explode())\n",
    "frequency_dist"
   ]
  },
  {
   "cell_type": "code",
   "execution_count": 33,
   "id": "4a58eb34",
   "metadata": {},
   "outputs": [
    {
     "data": {
      "image/png": "[encoded data removed]",
      "text/plain": [
       "<Figure size 1200x600 with 1 Axes>"
      ]
     },
     "metadata": {},
     "output_type": "display_data"
    }
   ],
   "source": [
    "\n",
    "# Sort the dictionary by value (descending)\n",
    "sorted_dict = dict(sorted(frequency_dist.items(), key=lambda x: x[1], reverse=True))\n",
    "\n",
    "# Take the top 20 Words\n",
    "top_20 = dict(list(sorted_dict.items())[:20])\n",
    "\n",
    "keys = [str(k) for k in top_20.keys()]\n",
    "values =  list( top_20.values())\n",
    "\n",
    "plt.figure(figsize=(12, 6))\n",
    "plt.bar(top_20.keys(), top_20.values())\n",
    "plt.title(\"Distribution of Words in Tweets\")\n",
    "plt.xlabel(\"Words\")\n",
    "plt.ylabel(\"Count\")\n",
    "plt.xticks(rotation=45)  \n",
    "\n",
    "plt.tight_layout()  \n",
    "plt.show()\n",
    "\n",
    "## Word Cloud PLot\n",
    "from wordcloud import WordCloud"
   ]
  },
  {
   "cell_type": "markdown",
   "id": "af29fa2a",
   "metadata": {},
   "source": [
    "### Distribution of Words by LABEL/CLASS"
   ]
  },
  {
   "cell_type": "code",
   "execution_count": 34,
   "id": "193426c6",
   "metadata": {},
   "outputs": [
    {
     "ename": "NameError",
     "evalue": "name 'top_10' is not defined",
     "output_type": "error",
     "traceback": [
      "\u001b[1;31m---------------------------------------------------------------------------\u001b[0m",
      "\u001b[1;31mNameError\u001b[0m                                 Traceback (most recent call last)",
      "Cell \u001b[1;32mIn[34], line 15\u001b[0m\n\u001b[0;32m     11\u001b[0m top_20 \u001b[38;5;241m=\u001b[39m all_words_in_label\u001b[38;5;241m.\u001b[39mvalue_counts()[:\u001b[38;5;241m20\u001b[39m]\n\u001b[0;32m     14\u001b[0m colors \u001b[38;5;241m=\u001b[39m []\n\u001b[1;32m---> 15\u001b[0m \u001b[38;5;28;01mfor\u001b[39;00m word \u001b[38;5;129;01min\u001b[39;00m top_10\u001b[38;5;241m.\u001b[39mindex:\n\u001b[0;32m     16\u001b[0m     \u001b[38;5;28;01mif\u001b[39;00m word \u001b[38;5;129;01mnot\u001b[39;00m \u001b[38;5;129;01min\u001b[39;00m plotted_words_and_colors:\n\u001b[0;32m     17\u001b[0m         new_color \u001b[38;5;241m=\u001b[39m color_palette\u001b[38;5;241m.\u001b[39mpop(\u001b[38;5;241m0\u001b[39m)\n",
      "\u001b[1;31mNameError\u001b[0m: name 'top_10' is not defined"
     ]
    },
    {
     "data": {
      "image/png": "[encoded data removed]",
      "text/plain": [
       "<Figure size 1200x1200 with 3 Axes>"
      ]
     },
     "metadata": {},
     "output_type": "display_data"
    }
   ],
   "source": [
    "\n",
    "fig, axes = plt.subplots(nrows=3, figsize=(12, 12))\n",
    "\n",
    "plotted_words_and_colors = {}\n",
    "\n",
    "color_palette = sns.color_palette('cividis', n_colors=20)\n",
    "\n",
    "data_by_label = [y for _, y in new_df.groupby('Label', as_index=False)]\n",
    "for idx, label in enumerate(data_by_label):\n",
    "    \n",
    "    all_words_in_label = new_df.Preprocessed_Tweet.explode()\n",
    "    top_20 = all_words_in_label.value_counts()[:20]\n",
    "    \n",
    "\n",
    "    colors = []\n",
    "    for word in top_10.index:\n",
    "        if word not in plotted_words_and_colors:\n",
    "            new_color = color_palette.pop(0)\n",
    "            plotted_words_and_colors[word] = new_color\n",
    "        colors.append(plotted_words_and_colors[word])\n",
    "    \n",
    "    \n",
    "    ax = axes[idx]\n",
    "    ax.bar(top_20.index, top_20.values, color=colors)\n",
    "    ax.set_title(new_df.iloc[0].Label.title())\n",
    "    \n",
    "fig.tight_layout()"
   ]
  },
  {
   "cell_type": "code",
   "execution_count": null,
   "id": "bd95a280",
   "metadata": {},
   "outputs": [],
   "source": []
  },
  {
   "cell_type": "code",
   "execution_count": null,
   "id": "d3bf6265",
   "metadata": {},
   "outputs": [],
   "source": []
  }
 ],
 "metadata": {
  "kernelspec": {
   "display_name": "Python (learn-env)",
   "language": "python",
   "name": "learn-env"
  },
  "language_info": {
   "codemirror_mode": {
    "name": "ipython",
    "version": 3
   },
   "file_extension": ".py",
   "mimetype": "text/x-python",
   "name": "python",
   "nbconvert_exporter": "python",
   "pygments_lexer": "ipython3",
   "version": "3.11.7"
  }
 },
 "nbformat": 4,
 "nbformat_minor": 5
}
