{
 "cells": [
  {
   "cell_type": "markdown",
   "id": "c7713434",
   "metadata": {},
   "source": [
    "# **Hate Speech and Offensive Content Detection**\n",
    "\n",
    "## **1. Business Understanding**\n",
    "### *Overview*\n",
    "In Kenya's digital landscape, Twitter plays a critical role in shaping public discourse, especially during election seasons and politically charged events. While it provides a platform for civic engagement, it also facilitates the spread of hate speech, tribalism, and inciting language. This content can escalate tensions and contribute to real-world conflict if left unchecked.\n",
    "### *Challenges*\n",
    "Manually moderating large volumes of tweets is inefficient and prone to bias. Current moderation systems struggle to scale and often miss localized forms of hate speech, particularly those specific to Kenyan cultural and political contexts. There is also a lack of automated tools specifically designed to detect offensive content within Kenyan tweets.\n",
    "### *Proposed Solution*\n",
    "Develop a machine learning model that can automatically categorize tweets into three classes: hate speech, offensive content, or neither. The model will serve as a content flagging tool for:\n",
    "Early detection of harmful tweets during elections or national events.\n",
    "Support for content moderation teams at media outlets, regulatory bodies, and social platforms.\n",
    "Enhancing digital safety by tracking the evolution and spread of dangerous speech trends.\n",
    "\n",
    "\n",
    "An effective classification model tailored to the Kenyan context can reduce the spread of inciting content and improve the quality of online public discourse. This system would be vital in promoting peace, especially during sensitive periods like elections.\n",
    "\n",
    "### *Problem Statement*\n",
    "There is an urgent need for a localized and scalable hate speech detection system to flag inciting and offensive tweets in Kenya, particularly during political periods where online speech can incite real-world unrest.\n",
    "\n",
    "### *Objectives*\n",
    "- To evaluate the most common terms or phrases used in inciting tweets.\n",
    "- To build a multi-class classification model that labels tweets as hate speech, offensive, or neither.\n",
    "- To evaluate model performance across different algorithms using accuracy.\n",
    "- To Deploy the best performing model using Streamlit\n",
    "\n",
    "## **2 Data Understanding**\n",
    "The dataset used in this project, HateSpeech_Kenya.csv, was sourced from Kaggle, a well-known platform for sharing datasets and machine learning challenges. It contains approximately 48,000 tweets labeled for sentiment and hate speech, specifically focused on the Kenyan social and political context.\n",
    "Key Features of the Data:\n",
    "`tweet`: The raw text of the tweet . this forms the primary input for natural language processing and classification tasks.\n",
    "`label`: The target variable, where 0 represents neutral content and 1 represents offensive content and 2 represent hate speech.\n",
    "\n",
    "This dataset is directly aligned with the project goal of developing a machine learning model to detect and categorize hate speech in Kenyan tweets. The inclusion of localized language, real-world offensive content, and metadata allows the model to learn patterns specific to the Kenyan context.\n"
   ]
  },
  {
   "cell_type": "markdown",
   "id": "865dc7e5",
   "metadata": {},
   "source": [
    "### *Importing Dependencies*"
   ]
  },
  {
   "cell_type": "code",
   "execution_count": 79,
   "id": "202a23a9",
   "metadata": {},
   "outputs": [
    {
     "name": "stderr",
     "output_type": "stream",
     "text": [
      "[nltk_data] Downloading package wordnet to\n",
      "[nltk_data]     C:\\Users\\HomePC\\AppData\\Roaming\\nltk_data...\n",
      "[nltk_data]   Package wordnet is already up-to-date!\n"
     ]
    }
   ],
   "source": [
    "# Data Manipulation\n",
    "import pandas as pd\n",
    "import numpy as np\n",
    "\n",
    "# Text Preprocessing\n",
    "import re\n",
    "import string\n",
    "\n",
    "# Visualization\n",
    "import matplotlib.pyplot as plt\n",
    "import seaborn as sns\n",
    "\n",
    "# NLP Utilities\n",
    "import nltk\n",
    "from nltk.corpus import stopwords\n",
    "from nltk.stem.wordnet import WordNetLemmatizer\n",
    "from nltk import word_tokenize\n",
    "from nltk import FreqDist\n",
    "nltk.download('wordnet')\n",
    "from nltk.tokenize import RegexpTokenizer\n",
    "from nltk.stem import PorterStemmer\n",
    "\n",
    "# Feature Extraction\n",
    "from sklearn.feature_extraction.text import TfidfVectorizer\n",
    "\n",
    "# Machine Learning Models\n",
    "from sklearn.model_selection import train_test_split\n",
    "from sklearn.linear_model import LogisticRegression\n",
    "from sklearn.ensemble import RandomForestClassifier\n",
    "from xgboost import XGBClassifier\n",
    "from sklearn.metrics import classification_report, confusion_matrix, accuracy_score\n",
    "\n",
    "# Filter Warnings\n",
    "import warnings\n",
    "warnings.filterwarnings(\"ignore\")\n",
    "%matplotlib inline\n"
   ]
  },
  {
   "cell_type": "markdown",
   "id": "f690bde6",
   "metadata": {},
   "source": [
    "## **3 Data Preparation**\n"
   ]
  },
  {
   "cell_type": "markdown",
   "id": "e04b7899",
   "metadata": {},
   "source": [
    "Using Pandas Library we load our CSV file 'HateSpeech_Kenya.csv' into a Pandas DataFrame (df).\n",
    "\n",
    "The dataset likely contains tweets along with labels indicating whether they are neutral, offensive, or hate speech. Our dataset has 6 columns, hatespeech, offensive language, neither are columns used to classify our tweet. Class column is the label of our tweet while our tweet column contains the initial tweet post/message.\n",
    "\n",
    "We mapped our classes to their respective category under the new column named Label"
   ]
  },
  {
   "cell_type": "code",
   "execution_count": 80,
   "id": "1c776a3d",
   "metadata": {},
   "outputs": [
    {
     "data": {
      "application/vnd.microsoft.datawrangler.viewer.v0+json": {
       "columns": [
        {
         "name": "index",
         "rawType": "int64",
         "type": "integer"
        },
        {
         "name": "hate_speech",
         "rawType": "int64",
         "type": "integer"
        },
        {
         "name": "offensive_language",
         "rawType": "int64",
         "type": "integer"
        },
        {
         "name": "neither",
         "rawType": "int64",
         "type": "integer"
        },
        {
         "name": "Class",
         "rawType": "int64",
         "type": "integer"
        },
        {
         "name": "Tweet",
         "rawType": "object",
         "type": "string"
        },
        {
         "name": "Label",
         "rawType": "object",
         "type": "string"
        }
       ],
       "ref": "f50952c8-8afc-4ada-b9f6-64e527ad8a30",
       "rows": [
        [
         "48071",
         "0",
         "0",
         "2",
         "0",
         "This is exactly what Moses Kuria & ilk are doing. Say No to Negative Ethnicity & Hate Speech! #RailaTheWardogSince82 pic.twitter.com/Z9hG54kUUT",
         "Neutral"
        ],
        [
         "48072",
         "0",
         "0",
         "2",
         "0",
         "This is exactly what Kenyans are going through Thank God this time its both the Rich&the poor USERNAME_952 USERNAME_934 USERNAME_1175 pic.twitter.com/4CFwviyDmr",
         "Neutral"
        ],
        [
         "48073",
         "0",
         "0",
         "2",
         "0",
         "This is exactly what is wrong with this country. If kikuyus can't stand us live with our last names ..why should we continue living together",
         "Neutral"
        ],
        [
         "48074",
         "1",
         "0",
         "2",
         "0",
         "This is exactly the same thing. Well the only difference is that in Kilifi they're merely pushing for it in Kiambu it is already a LAW. Yet USERNAME_406 decided that one will be tribal laws & the other will be just a ban. In other words Kikuyus have rights others wish they did. pic.twitter.com/aHHt3Dfl2k",
         "Neutral"
        ],
        [
         "48075",
         "0",
         "1",
         "2",
         "0",
         "This is exactly how Luos feel in this country with the likes of Moses Kuria spewing hate against them.",
         "Neutral"
        ]
       ],
       "shape": {
        "columns": 6,
        "rows": 5
       }
      },
      "text/html": [
       "<div>\n",
       "<style scoped>\n",
       "    .dataframe tbody tr th:only-of-type {\n",
       "        vertical-align: middle;\n",
       "    }\n",
       "\n",
       "    .dataframe tbody tr th {\n",
       "        vertical-align: top;\n",
       "    }\n",
       "\n",
       "    .dataframe thead th {\n",
       "        text-align: right;\n",
       "    }\n",
       "</style>\n",
       "<table border=\"1\" class=\"dataframe\">\n",
       "  <thead>\n",
       "    <tr style=\"text-align: right;\">\n",
       "      <th></th>\n",
       "      <th>hate_speech</th>\n",
       "      <th>offensive_language</th>\n",
       "      <th>neither</th>\n",
       "      <th>Class</th>\n",
       "      <th>Tweet</th>\n",
       "      <th>Label</th>\n",
       "    </tr>\n",
       "  </thead>\n",
       "  <tbody>\n",
       "    <tr>\n",
       "      <th>48071</th>\n",
       "      <td>0</td>\n",
       "      <td>0</td>\n",
       "      <td>2</td>\n",
       "      <td>0</td>\n",
       "      <td>This is exactly what Moses Kuria &amp; ilk are doi...</td>\n",
       "      <td>Neutral</td>\n",
       "    </tr>\n",
       "    <tr>\n",
       "      <th>48072</th>\n",
       "      <td>0</td>\n",
       "      <td>0</td>\n",
       "      <td>2</td>\n",
       "      <td>0</td>\n",
       "      <td>This is exactly what Kenyans are going through...</td>\n",
       "      <td>Neutral</td>\n",
       "    </tr>\n",
       "    <tr>\n",
       "      <th>48073</th>\n",
       "      <td>0</td>\n",
       "      <td>0</td>\n",
       "      <td>2</td>\n",
       "      <td>0</td>\n",
       "      <td>This is exactly what is wrong with this countr...</td>\n",
       "      <td>Neutral</td>\n",
       "    </tr>\n",
       "    <tr>\n",
       "      <th>48074</th>\n",
       "      <td>1</td>\n",
       "      <td>0</td>\n",
       "      <td>2</td>\n",
       "      <td>0</td>\n",
       "      <td>This is exactly the same thing. Well the only ...</td>\n",
       "      <td>Neutral</td>\n",
       "    </tr>\n",
       "    <tr>\n",
       "      <th>48075</th>\n",
       "      <td>0</td>\n",
       "      <td>1</td>\n",
       "      <td>2</td>\n",
       "      <td>0</td>\n",
       "      <td>This is exactly how Luos feel in this country ...</td>\n",
       "      <td>Neutral</td>\n",
       "    </tr>\n",
       "  </tbody>\n",
       "</table>\n",
       "</div>"
      ],
      "text/plain": [
       "       hate_speech  offensive_language  neither  Class  \\\n",
       "48071            0                   0        2      0   \n",
       "48072            0                   0        2      0   \n",
       "48073            0                   0        2      0   \n",
       "48074            1                   0        2      0   \n",
       "48075            0                   1        2      0   \n",
       "\n",
       "                                                   Tweet    Label  \n",
       "48071  This is exactly what Moses Kuria & ilk are doi...  Neutral  \n",
       "48072  This is exactly what Kenyans are going through...  Neutral  \n",
       "48073  This is exactly what is wrong with this countr...  Neutral  \n",
       "48074  This is exactly the same thing. Well the only ...  Neutral  \n",
       "48075  This is exactly how Luos feel in this country ...  Neutral  "
      ]
     },
     "execution_count": 80,
     "metadata": {},
     "output_type": "execute_result"
    }
   ],
   "source": [
    "# Loading the dataset, Mapping Class with respective Labels\n",
    "df = pd.read_csv('HateSpeech_Kenya.csv')\n",
    "df['Tweet'] = df['Tweet'].apply(lambda x: ' '.join(eval(x)) if isinstance(x, str) else x)\n",
    "label_map = {0: 'Neutral', 1: 'Offensive', 2: 'Hate Speech'}\n",
    "df['Label'] = df['Class'].map(label_map)\n",
    "df.tail()\n"
   ]
  },
  {
   "cell_type": "markdown",
   "id": "997b2b8d",
   "metadata": {},
   "source": [
    "### *Extracting the Relevant Columns*"
   ]
  },
  {
   "cell_type": "markdown",
   "id": "2eeb9f2a",
   "metadata": {},
   "source": [
    "From our Dataframe we are going to extract meaningful columns for this analysis: Tweet and the Label/Class Column are our columns of interests for this predictive task"
   ]
  },
  {
   "cell_type": "code",
   "execution_count": 81,
   "id": "9b02d57f",
   "metadata": {},
   "outputs": [
    {
     "data": {
      "application/vnd.microsoft.datawrangler.viewer.v0+json": {
       "columns": [
        {
         "name": "index",
         "rawType": "int64",
         "type": "integer"
        },
        {
         "name": "Tweet",
         "rawType": "object",
         "type": "string"
        },
        {
         "name": "Class",
         "rawType": "int64",
         "type": "integer"
        },
        {
         "name": "Label",
         "rawType": "object",
         "type": "string"
        }
       ],
       "ref": "8e41ae98-5945-4707-b4bb-58ff9cc1d2a4",
       "rows": [
        [
         "0",
         "The political elite are in desperation. Ordinary kalenjins are suspicious of kikuyu community",
         "0",
         "Neutral"
        ],
        [
         "1",
         "Am just curious the only people who are calling him old and mad are Kikuyus and not Kalenjins and that's a good sign USERNAME_1 USERNAME_2",
         "0",
         "Neutral"
        ],
        [
         "2",
         "USERNAME_3 the area politicians are the one to blame coz they r insiting local students n villagers to attack non kalenjins students",
         "0",
         "Neutral"
        ],
        [
         "3",
         "War expected in Nakuru if something is not done . All Luos given Seven days to leave. Why are Kenyans Killing...",
         "0",
         "Neutral"
        ],
        [
         "4",
         "USERNAME_4 tells kikuyus activists that they are being targeted. They have targetted USERNAME_5 . They want to kill him.",
         "0",
         "Neutral"
        ]
       ],
       "shape": {
        "columns": 3,
        "rows": 5
       }
      },
      "text/html": [
       "<div>\n",
       "<style scoped>\n",
       "    .dataframe tbody tr th:only-of-type {\n",
       "        vertical-align: middle;\n",
       "    }\n",
       "\n",
       "    .dataframe tbody tr th {\n",
       "        vertical-align: top;\n",
       "    }\n",
       "\n",
       "    .dataframe thead th {\n",
       "        text-align: right;\n",
       "    }\n",
       "</style>\n",
       "<table border=\"1\" class=\"dataframe\">\n",
       "  <thead>\n",
       "    <tr style=\"text-align: right;\">\n",
       "      <th></th>\n",
       "      <th>Tweet</th>\n",
       "      <th>Class</th>\n",
       "      <th>Label</th>\n",
       "    </tr>\n",
       "  </thead>\n",
       "  <tbody>\n",
       "    <tr>\n",
       "      <th>0</th>\n",
       "      <td>The political elite are in desperation. Ordina...</td>\n",
       "      <td>0</td>\n",
       "      <td>Neutral</td>\n",
       "    </tr>\n",
       "    <tr>\n",
       "      <th>1</th>\n",
       "      <td>Am just curious the only people who are callin...</td>\n",
       "      <td>0</td>\n",
       "      <td>Neutral</td>\n",
       "    </tr>\n",
       "    <tr>\n",
       "      <th>2</th>\n",
       "      <td>USERNAME_3 the area politicians are the one to...</td>\n",
       "      <td>0</td>\n",
       "      <td>Neutral</td>\n",
       "    </tr>\n",
       "    <tr>\n",
       "      <th>3</th>\n",
       "      <td>War expected in Nakuru if something is not don...</td>\n",
       "      <td>0</td>\n",
       "      <td>Neutral</td>\n",
       "    </tr>\n",
       "    <tr>\n",
       "      <th>4</th>\n",
       "      <td>USERNAME_4 tells kikuyus activists that they a...</td>\n",
       "      <td>0</td>\n",
       "      <td>Neutral</td>\n",
       "    </tr>\n",
       "  </tbody>\n",
       "</table>\n",
       "</div>"
      ],
      "text/plain": [
       "                                               Tweet  Class    Label\n",
       "0  The political elite are in desperation. Ordina...      0  Neutral\n",
       "1  Am just curious the only people who are callin...      0  Neutral\n",
       "2  USERNAME_3 the area politicians are the one to...      0  Neutral\n",
       "3  War expected in Nakuru if something is not don...      0  Neutral\n",
       "4  USERNAME_4 tells kikuyus activists that they a...      0  Neutral"
      ]
     },
     "execution_count": 81,
     "metadata": {},
     "output_type": "execute_result"
    }
   ],
   "source": [
    "new_df = df[['Tweet', 'Class', 'Label']]\n",
    "new_df.head()"
   ]
  },
  {
   "cell_type": "markdown",
   "id": "455fe431",
   "metadata": {},
   "source": [
    "### *Dataset Summary*"
   ]
  },
  {
   "cell_type": "code",
   "execution_count": 82,
   "id": "440ab77b",
   "metadata": {},
   "outputs": [
    {
     "name": "stdout",
     "output_type": "stream",
     "text": [
      "<class 'pandas.core.frame.DataFrame'>\n",
      "RangeIndex: 48076 entries, 0 to 48075\n",
      "Data columns (total 3 columns):\n",
      " #   Column  Non-Null Count  Dtype \n",
      "---  ------  --------------  ----- \n",
      " 0   Tweet   48076 non-null  object\n",
      " 1   Class   48076 non-null  int64 \n",
      " 2   Label   48076 non-null  object\n",
      "dtypes: int64(1), object(2)\n",
      "memory usage: 1.1+ MB\n"
     ]
    }
   ],
   "source": [
    "new_df.info()"
   ]
  },
  {
   "cell_type": "markdown",
   "id": "fce7c13a",
   "metadata": {},
   "source": [
    "From the summary above we find that our dataset is complete, with no missing values and with the correct data types."
   ]
  },
  {
   "cell_type": "markdown",
   "id": "89aa0bc9",
   "metadata": {},
   "source": [
    "### *Checking for Duplicates*"
   ]
  },
  {
   "cell_type": "code",
   "execution_count": 83,
   "id": "39853fae",
   "metadata": {},
   "outputs": [
    {
     "data": {
      "text/plain": [
       "0"
      ]
     },
     "execution_count": 83,
     "metadata": {},
     "output_type": "execute_result"
    }
   ],
   "source": [
    "new_df.duplicated().sum()  # Check for duplicates (entire DataFrame)"
   ]
  },
  {
   "cell_type": "code",
   "execution_count": 84,
   "id": "2cd429fd",
   "metadata": {},
   "outputs": [],
   "source": [
    "new_df.drop_duplicates(inplace=True)  # Drop duplicates"
   ]
  },
  {
   "cell_type": "markdown",
   "id": "a7478be8",
   "metadata": {},
   "source": [
    "We found that we have no duplicated values and its in a good condition for analytics since this will avoid bias during our model training, improve generalization and for the purpose of reducing computational costs. "
   ]
  },
  {
   "cell_type": "markdown",
   "id": "df0e2fac",
   "metadata": {},
   "source": [
    "### *Feature Engineering*"
   ]
  },
  {
   "cell_type": "markdown",
   "id": "bc760b5b",
   "metadata": {},
   "source": [
    "This will involves creating new features (columns) from raw data to improve machine learning model performance. Features like:\n",
    "\n",
    "Number of characters\n",
    "\n",
    "Number of sentences\n",
    "\n",
    "Number of words\n",
    "\n",
    "will help the model better understand text structure and linguistic patterns"
   ]
  },
  {
   "cell_type": "code",
   "execution_count": 85,
   "id": "88efa9f9",
   "metadata": {},
   "outputs": [
    {
     "data": {
      "application/vnd.microsoft.datawrangler.viewer.v0+json": {
       "columns": [
        {
         "name": "index",
         "rawType": "int64",
         "type": "integer"
        },
        {
         "name": "Tweet",
         "rawType": "object",
         "type": "string"
        },
        {
         "name": "Class",
         "rawType": "int64",
         "type": "integer"
        },
        {
         "name": "Label",
         "rawType": "object",
         "type": "string"
        },
        {
         "name": "char",
         "rawType": "int64",
         "type": "integer"
        },
        {
         "name": "words",
         "rawType": "int64",
         "type": "integer"
        },
        {
         "name": "sentences",
         "rawType": "int64",
         "type": "integer"
        }
       ],
       "ref": "25e4b54b-33b5-4723-9fba-63304a4fba15",
       "rows": [
        [
         "465",
         "USERNAME_417 on something about religion and not jokes",
         "0",
         "Neutral",
         "54",
         "8",
         "1"
        ],
        [
         "22169",
         "Kenya belongs to Kikuyus & Kalenjins all others are slaves only Kikuyus are allowed to rule- Uhuru Kenyatta.",
         "1",
         "Offensive",
         "108",
         "19",
         "1"
        ],
        [
         "20879",
         "This is one of my fav weddings even though it's straight. They are both photographers that photograph the Masai in Kenya.",
         "0",
         "Neutral",
         "121",
         "24",
         "2"
        ],
        [
         "26268",
         "who are those colourful white luos ....?!!!",
         "1",
         "Offensive",
         "43",
         "11",
         "2"
        ],
        [
         "2875",
         "Well well well chinese say #GenghisKhan is chinese. So it was chinese ruling chinese.",
         "0",
         "Neutral",
         "85",
         "17",
         "2"
        ],
        [
         "41461",
         "Yo'll rejoin mungiki to kill luos coz politician tell u so? sad! You're a slave to them",
         "0",
         "Neutral",
         "87",
         "21",
         "3"
        ],
        [
         "3986",
         "We have a duty not to soil other people's reputation however it's if they have one to protect. #HateSpeechKE #ShuleYangu #CorruptionKE",
         "0",
         "Neutral",
         "134",
         "27",
         "2"
        ],
        [
         "8844",
         "Beautiful! RT USERNAME_1815 : The Maasai Giraffe are just beautiful. lazoo #DisneynatureBears #CaptainAmericaEvent",
         "0",
         "Neutral",
         "114",
         "17",
         "3"
        ],
        [
         "10989",
         "You have criticized him and Mr. Modi all the time haven t you? And your leftist friends in Jpn do so all the time. Are you going turn your head the other way around if the leftist in Jpn do so praising them of doing a good job? What s your stance? pic.twitter.com/nJvM2DPLah",
         "0",
         "Neutral",
         "274",
         "57",
         "5"
        ],
        [
         "25375",
         "You can only mislead a few Kikuyus sir you messed the 08/08 elections that's a whole 50billion down the drain blame your thieving",
         "2",
         "Hate Speech",
         "129",
         "24",
         "1"
        ]
       ],
       "shape": {
        "columns": 6,
        "rows": 10
       }
      },
      "text/html": [
       "<div>\n",
       "<style scoped>\n",
       "    .dataframe tbody tr th:only-of-type {\n",
       "        vertical-align: middle;\n",
       "    }\n",
       "\n",
       "    .dataframe tbody tr th {\n",
       "        vertical-align: top;\n",
       "    }\n",
       "\n",
       "    .dataframe thead th {\n",
       "        text-align: right;\n",
       "    }\n",
       "</style>\n",
       "<table border=\"1\" class=\"dataframe\">\n",
       "  <thead>\n",
       "    <tr style=\"text-align: right;\">\n",
       "      <th></th>\n",
       "      <th>Tweet</th>\n",
       "      <th>Class</th>\n",
       "      <th>Label</th>\n",
       "      <th>char</th>\n",
       "      <th>words</th>\n",
       "      <th>sentences</th>\n",
       "    </tr>\n",
       "  </thead>\n",
       "  <tbody>\n",
       "    <tr>\n",
       "      <th>465</th>\n",
       "      <td>USERNAME_417 on something about religion and n...</td>\n",
       "      <td>0</td>\n",
       "      <td>Neutral</td>\n",
       "      <td>54</td>\n",
       "      <td>8</td>\n",
       "      <td>1</td>\n",
       "    </tr>\n",
       "    <tr>\n",
       "      <th>22169</th>\n",
       "      <td>Kenya belongs to Kikuyus &amp; Kalenjins all other...</td>\n",
       "      <td>1</td>\n",
       "      <td>Offensive</td>\n",
       "      <td>108</td>\n",
       "      <td>19</td>\n",
       "      <td>1</td>\n",
       "    </tr>\n",
       "    <tr>\n",
       "      <th>20879</th>\n",
       "      <td>This is one of my fav weddings even though it'...</td>\n",
       "      <td>0</td>\n",
       "      <td>Neutral</td>\n",
       "      <td>121</td>\n",
       "      <td>24</td>\n",
       "      <td>2</td>\n",
       "    </tr>\n",
       "    <tr>\n",
       "      <th>26268</th>\n",
       "      <td>who are those colourful white luos ....?!!!</td>\n",
       "      <td>1</td>\n",
       "      <td>Offensive</td>\n",
       "      <td>43</td>\n",
       "      <td>11</td>\n",
       "      <td>2</td>\n",
       "    </tr>\n",
       "    <tr>\n",
       "      <th>2875</th>\n",
       "      <td>Well well well chinese say #GenghisKhan is chi...</td>\n",
       "      <td>0</td>\n",
       "      <td>Neutral</td>\n",
       "      <td>85</td>\n",
       "      <td>17</td>\n",
       "      <td>2</td>\n",
       "    </tr>\n",
       "    <tr>\n",
       "      <th>41461</th>\n",
       "      <td>Yo'll rejoin mungiki to kill luos coz politici...</td>\n",
       "      <td>0</td>\n",
       "      <td>Neutral</td>\n",
       "      <td>87</td>\n",
       "      <td>21</td>\n",
       "      <td>3</td>\n",
       "    </tr>\n",
       "    <tr>\n",
       "      <th>3986</th>\n",
       "      <td>We have a duty not to soil other people's repu...</td>\n",
       "      <td>0</td>\n",
       "      <td>Neutral</td>\n",
       "      <td>134</td>\n",
       "      <td>27</td>\n",
       "      <td>2</td>\n",
       "    </tr>\n",
       "    <tr>\n",
       "      <th>8844</th>\n",
       "      <td>Beautiful! RT USERNAME_1815 : The Maasai Giraf...</td>\n",
       "      <td>0</td>\n",
       "      <td>Neutral</td>\n",
       "      <td>114</td>\n",
       "      <td>17</td>\n",
       "      <td>3</td>\n",
       "    </tr>\n",
       "    <tr>\n",
       "      <th>10989</th>\n",
       "      <td>You have criticized him and Mr. Modi all the t...</td>\n",
       "      <td>0</td>\n",
       "      <td>Neutral</td>\n",
       "      <td>274</td>\n",
       "      <td>57</td>\n",
       "      <td>5</td>\n",
       "    </tr>\n",
       "    <tr>\n",
       "      <th>25375</th>\n",
       "      <td>You can only mislead a few Kikuyus sir you mes...</td>\n",
       "      <td>2</td>\n",
       "      <td>Hate Speech</td>\n",
       "      <td>129</td>\n",
       "      <td>24</td>\n",
       "      <td>1</td>\n",
       "    </tr>\n",
       "  </tbody>\n",
       "</table>\n",
       "</div>"
      ],
      "text/plain": [
       "                                                   Tweet  Class        Label  \\\n",
       "465    USERNAME_417 on something about religion and n...      0      Neutral   \n",
       "22169  Kenya belongs to Kikuyus & Kalenjins all other...      1    Offensive   \n",
       "20879  This is one of my fav weddings even though it'...      0      Neutral   \n",
       "26268        who are those colourful white luos ....?!!!      1    Offensive   \n",
       "2875   Well well well chinese say #GenghisKhan is chi...      0      Neutral   \n",
       "41461  Yo'll rejoin mungiki to kill luos coz politici...      0      Neutral   \n",
       "3986   We have a duty not to soil other people's repu...      0      Neutral   \n",
       "8844   Beautiful! RT USERNAME_1815 : The Maasai Giraf...      0      Neutral   \n",
       "10989  You have criticized him and Mr. Modi all the t...      0      Neutral   \n",
       "25375  You can only mislead a few Kikuyus sir you mes...      2  Hate Speech   \n",
       "\n",
       "       char  words  sentences  \n",
       "465      54      8          1  \n",
       "22169   108     19          1  \n",
       "20879   121     24          2  \n",
       "26268    43     11          2  \n",
       "2875     85     17          2  \n",
       "41461    87     21          3  \n",
       "3986    134     27          2  \n",
       "8844    114     17          3  \n",
       "10989   274     57          5  \n",
       "25375   129     24          1  "
      ]
     },
     "execution_count": 85,
     "metadata": {},
     "output_type": "execute_result"
    }
   ],
   "source": [
    "# creating columns for number of characters, number of sentences and number of words\n",
    "new_df[\"char\"]=new_df[\"Tweet\"].apply(lambda x:len(x))\n",
    "new_df[\"words\"]=new_df[\"Tweet\"].apply(lambda x:nltk.word_tokenize(x)).apply(lambda x:len(x))\n",
    "new_df[\"sentences\"]=new_df[\"Tweet\"].apply(lambda x:nltk.sent_tokenize(x)).apply(lambda x:len(x))\n",
    "new_df.sample(10)"
   ]
  },
  {
   "cell_type": "markdown",
   "id": "23124e29",
   "metadata": {},
   "source": [
    "### *Summary Statistics*"
   ]
  },
  {
   "cell_type": "code",
   "execution_count": 86,
   "id": "e4632197",
   "metadata": {},
   "outputs": [
    {
     "data": {
      "application/vnd.microsoft.datawrangler.viewer.v0+json": {
       "columns": [
        {
         "name": "index",
         "rawType": "object",
         "type": "string"
        },
        {
         "name": "Class",
         "rawType": "float64",
         "type": "float"
        },
        {
         "name": "char",
         "rawType": "float64",
         "type": "float"
        },
        {
         "name": "words",
         "rawType": "float64",
         "type": "float"
        },
        {
         "name": "sentences",
         "rawType": "float64",
         "type": "float"
        }
       ],
       "ref": "086cc405-873c-4465-94f5-c27ea82c5741",
       "rows": [
        [
         "count",
         "48076.0",
         "48076.0",
         "48076.0",
         "48076.0"
        ],
        [
         "mean",
         "0.3100299525750894",
         "110.66363674182544",
         "20.334075214244113",
         "1.8071594974623513"
        ],
        [
         "std",
         "0.5884307300028828",
         "48.98994721499426",
         "9.506031058182673",
         "1.0059746189527938"
        ],
        [
         "min",
         "0.0",
         "1.0",
         "1.0",
         "1.0"
        ],
        [
         "25%",
         "0.0",
         "79.0",
         "14.0",
         "1.0"
        ],
        [
         "50%",
         "0.0",
         "111.0",
         "20.0",
         "2.0"
        ],
        [
         "75%",
         "0.0",
         "135.0",
         "25.0",
         "2.0"
        ],
        [
         "max",
         "2.0",
         "327.0",
         "68.0",
         "14.0"
        ]
       ],
       "shape": {
        "columns": 4,
        "rows": 8
       }
      },
      "text/html": [
       "<div>\n",
       "<style scoped>\n",
       "    .dataframe tbody tr th:only-of-type {\n",
       "        vertical-align: middle;\n",
       "    }\n",
       "\n",
       "    .dataframe tbody tr th {\n",
       "        vertical-align: top;\n",
       "    }\n",
       "\n",
       "    .dataframe thead th {\n",
       "        text-align: right;\n",
       "    }\n",
       "</style>\n",
       "<table border=\"1\" class=\"dataframe\">\n",
       "  <thead>\n",
       "    <tr style=\"text-align: right;\">\n",
       "      <th></th>\n",
       "      <th>Class</th>\n",
       "      <th>char</th>\n",
       "      <th>words</th>\n",
       "      <th>sentences</th>\n",
       "    </tr>\n",
       "  </thead>\n",
       "  <tbody>\n",
       "    <tr>\n",
       "      <th>count</th>\n",
       "      <td>48076.000000</td>\n",
       "      <td>48076.000000</td>\n",
       "      <td>48076.000000</td>\n",
       "      <td>48076.000000</td>\n",
       "    </tr>\n",
       "    <tr>\n",
       "      <th>mean</th>\n",
       "      <td>0.310030</td>\n",
       "      <td>110.663637</td>\n",
       "      <td>20.334075</td>\n",
       "      <td>1.807159</td>\n",
       "    </tr>\n",
       "    <tr>\n",
       "      <th>std</th>\n",
       "      <td>0.588431</td>\n",
       "      <td>48.989947</td>\n",
       "      <td>9.506031</td>\n",
       "      <td>1.005975</td>\n",
       "    </tr>\n",
       "    <tr>\n",
       "      <th>min</th>\n",
       "      <td>0.000000</td>\n",
       "      <td>1.000000</td>\n",
       "      <td>1.000000</td>\n",
       "      <td>1.000000</td>\n",
       "    </tr>\n",
       "    <tr>\n",
       "      <th>25%</th>\n",
       "      <td>0.000000</td>\n",
       "      <td>79.000000</td>\n",
       "      <td>14.000000</td>\n",
       "      <td>1.000000</td>\n",
       "    </tr>\n",
       "    <tr>\n",
       "      <th>50%</th>\n",
       "      <td>0.000000</td>\n",
       "      <td>111.000000</td>\n",
       "      <td>20.000000</td>\n",
       "      <td>2.000000</td>\n",
       "    </tr>\n",
       "    <tr>\n",
       "      <th>75%</th>\n",
       "      <td>0.000000</td>\n",
       "      <td>135.000000</td>\n",
       "      <td>25.000000</td>\n",
       "      <td>2.000000</td>\n",
       "    </tr>\n",
       "    <tr>\n",
       "      <th>max</th>\n",
       "      <td>2.000000</td>\n",
       "      <td>327.000000</td>\n",
       "      <td>68.000000</td>\n",
       "      <td>14.000000</td>\n",
       "    </tr>\n",
       "  </tbody>\n",
       "</table>\n",
       "</div>"
      ],
      "text/plain": [
       "              Class          char         words     sentences\n",
       "count  48076.000000  48076.000000  48076.000000  48076.000000\n",
       "mean       0.310030    110.663637     20.334075      1.807159\n",
       "std        0.588431     48.989947      9.506031      1.005975\n",
       "min        0.000000      1.000000      1.000000      1.000000\n",
       "25%        0.000000     79.000000     14.000000      1.000000\n",
       "50%        0.000000    111.000000     20.000000      2.000000\n",
       "75%        0.000000    135.000000     25.000000      2.000000\n",
       "max        2.000000    327.000000     68.000000     14.000000"
      ]
     },
     "execution_count": 86,
     "metadata": {},
     "output_type": "execute_result"
    }
   ],
   "source": [
    "new_df.describe()"
   ]
  },
  {
   "cell_type": "markdown",
   "id": "0d2d5de3",
   "metadata": {},
   "source": [
    "### *Check Target Values*"
   ]
  },
  {
   "cell_type": "markdown",
   "id": "abd94433",
   "metadata": {},
   "source": [
    "To make sure we have the 3 classes before we continue to our training"
   ]
  },
  {
   "cell_type": "code",
   "execution_count": 87,
   "id": "c8afd25d",
   "metadata": {},
   "outputs": [
    {
     "name": "stdout",
     "output_type": "stream",
     "text": [
      "Unique values in Class: [0 1 2]\n",
      "Unique values in Label: ['Neutral' 'Offensive' 'Hate Speech']\n"
     ]
    }
   ],
   "source": [
    "features = ['Class', 'Label']\n",
    "for feature in features:\n",
    "    print(f\"Unique values in {feature}: {new_df[feature].unique()}\")"
   ]
  },
  {
   "cell_type": "markdown",
   "id": "9997ca9f",
   "metadata": {},
   "source": [
    "### *Text Cleaning*\n",
    "\n",
    "Raw tweets often contain noise such as:\n",
    "- URLs\n",
    "- Mentions\n",
    "- Hashtags\n",
    "- Emojis and non-alphanumeric characters\n",
    "\n",
    "We'll apply basic text preprocessing to clean the tweet data.\n"
   ]
  },
  {
   "cell_type": "code",
   "execution_count": 88,
   "id": "8ca5a6f4",
   "metadata": {},
   "outputs": [
    {
     "data": {
      "application/vnd.microsoft.datawrangler.viewer.v0+json": {
       "columns": [
        {
         "name": "index",
         "rawType": "int64",
         "type": "integer"
        },
        {
         "name": "Tweet",
         "rawType": "object",
         "type": "string"
        },
        {
         "name": "Class",
         "rawType": "int64",
         "type": "integer"
        },
        {
         "name": "Label",
         "rawType": "object",
         "type": "string"
        },
        {
         "name": "char",
         "rawType": "int64",
         "type": "integer"
        },
        {
         "name": "words",
         "rawType": "int64",
         "type": "integer"
        },
        {
         "name": "sentences",
         "rawType": "int64",
         "type": "integer"
        },
        {
         "name": "Clean_Tweet",
         "rawType": "object",
         "type": "string"
        }
       ],
       "ref": "a68e2bde-9912-4fd6-93e7-2064e8caeaba",
       "rows": [
        [
         "0",
         "The political elite are in desperation. Ordinary kalenjins are suspicious of kikuyu community",
         "0",
         "Neutral",
         "93",
         "14",
         "2",
         "the political elite are in desperation ordinary kalenjins are suspicious of kikuyu community"
        ],
        [
         "1",
         "Am just curious the only people who are calling him old and mad are Kikuyus and not Kalenjins and that's a good sign USERNAME_1 USERNAME_2",
         "0",
         "Neutral",
         "138",
         "26",
         "1",
         "am just curious the only people who are calling him old and mad are kikuyus and not kalenjins and thats a good sign username username"
        ],
        [
         "2",
         "USERNAME_3 the area politicians are the one to blame coz they r insiting local students n villagers to attack non kalenjins students",
         "0",
         "Neutral",
         "132",
         "22",
         "1",
         "username the area politicians are the one to blame coz they r insiting local students n villagers to attack non kalenjins students"
        ],
        [
         "3",
         "War expected in Nakuru if something is not done . All Luos given Seven days to leave. Why are Kenyans Killing...",
         "0",
         "Neutral",
         "112",
         "23",
         "3",
         "war expected in nakuru if something is not done  all luos given seven days to leave why are kenyans killing"
        ],
        [
         "4",
         "USERNAME_4 tells kikuyus activists that they are being targeted. They have targetted USERNAME_5 . They want to kill him.",
         "0",
         "Neutral",
         "120",
         "21",
         "3",
         "username tells kikuyus activists that they are being targeted they have targetted username  they want to kill him"
        ]
       ],
       "shape": {
        "columns": 7,
        "rows": 5
       }
      },
      "text/html": [
       "<div>\n",
       "<style scoped>\n",
       "    .dataframe tbody tr th:only-of-type {\n",
       "        vertical-align: middle;\n",
       "    }\n",
       "\n",
       "    .dataframe tbody tr th {\n",
       "        vertical-align: top;\n",
       "    }\n",
       "\n",
       "    .dataframe thead th {\n",
       "        text-align: right;\n",
       "    }\n",
       "</style>\n",
       "<table border=\"1\" class=\"dataframe\">\n",
       "  <thead>\n",
       "    <tr style=\"text-align: right;\">\n",
       "      <th></th>\n",
       "      <th>Tweet</th>\n",
       "      <th>Class</th>\n",
       "      <th>Label</th>\n",
       "      <th>char</th>\n",
       "      <th>words</th>\n",
       "      <th>sentences</th>\n",
       "      <th>Clean_Tweet</th>\n",
       "    </tr>\n",
       "  </thead>\n",
       "  <tbody>\n",
       "    <tr>\n",
       "      <th>0</th>\n",
       "      <td>The political elite are in desperation. Ordina...</td>\n",
       "      <td>0</td>\n",
       "      <td>Neutral</td>\n",
       "      <td>93</td>\n",
       "      <td>14</td>\n",
       "      <td>2</td>\n",
       "      <td>the political elite are in desperation ordinar...</td>\n",
       "    </tr>\n",
       "    <tr>\n",
       "      <th>1</th>\n",
       "      <td>Am just curious the only people who are callin...</td>\n",
       "      <td>0</td>\n",
       "      <td>Neutral</td>\n",
       "      <td>138</td>\n",
       "      <td>26</td>\n",
       "      <td>1</td>\n",
       "      <td>am just curious the only people who are callin...</td>\n",
       "    </tr>\n",
       "    <tr>\n",
       "      <th>2</th>\n",
       "      <td>USERNAME_3 the area politicians are the one to...</td>\n",
       "      <td>0</td>\n",
       "      <td>Neutral</td>\n",
       "      <td>132</td>\n",
       "      <td>22</td>\n",
       "      <td>1</td>\n",
       "      <td>username the area politicians are the one to b...</td>\n",
       "    </tr>\n",
       "    <tr>\n",
       "      <th>3</th>\n",
       "      <td>War expected in Nakuru if something is not don...</td>\n",
       "      <td>0</td>\n",
       "      <td>Neutral</td>\n",
       "      <td>112</td>\n",
       "      <td>23</td>\n",
       "      <td>3</td>\n",
       "      <td>war expected in nakuru if something is not don...</td>\n",
       "    </tr>\n",
       "    <tr>\n",
       "      <th>4</th>\n",
       "      <td>USERNAME_4 tells kikuyus activists that they a...</td>\n",
       "      <td>0</td>\n",
       "      <td>Neutral</td>\n",
       "      <td>120</td>\n",
       "      <td>21</td>\n",
       "      <td>3</td>\n",
       "      <td>username tells kikuyus activists that they are...</td>\n",
       "    </tr>\n",
       "  </tbody>\n",
       "</table>\n",
       "</div>"
      ],
      "text/plain": [
       "                                               Tweet  Class    Label  char  \\\n",
       "0  The political elite are in desperation. Ordina...      0  Neutral    93   \n",
       "1  Am just curious the only people who are callin...      0  Neutral   138   \n",
       "2  USERNAME_3 the area politicians are the one to...      0  Neutral   132   \n",
       "3  War expected in Nakuru if something is not don...      0  Neutral   112   \n",
       "4  USERNAME_4 tells kikuyus activists that they a...      0  Neutral   120   \n",
       "\n",
       "   words  sentences                                        Clean_Tweet  \n",
       "0     14          2  the political elite are in desperation ordinar...  \n",
       "1     26          1  am just curious the only people who are callin...  \n",
       "2     22          1  username the area politicians are the one to b...  \n",
       "3     23          3  war expected in nakuru if something is not don...  \n",
       "4     21          3  username tells kikuyus activists that they are...  "
      ]
     },
     "execution_count": 88,
     "metadata": {},
     "output_type": "execute_result"
    }
   ],
   "source": [
    "def clean_text(text):\n",
    "    text = re.sub(r'http\\S+', '', text)  # remove URLs\n",
    "    text = re.sub(r'\\@\\w+|\\#', '', text)  # Remove mentions and hashtags \n",
    "    text = re.sub(r'[^\\w\\s]', '', text)  # Remove punctuation\n",
    "    text = re.sub(r'[^a-zA-Z\\s]', '', text)  # remove non-alphabetic\n",
    "    text = text.lower().strip()             # convert to lowercase and strip whitespace\n",
    "    return text\n",
    "\n",
    "new_df['Clean_Tweet'] = new_df['Tweet'].apply(clean_text)\n",
    "new_df.head()"
   ]
  },
  {
   "cell_type": "markdown",
   "id": "6ae26569",
   "metadata": {},
   "source": [
    "### EDA"
   ]
  },
  {
   "cell_type": "markdown",
   "id": "c6111978",
   "metadata": {},
   "source": [
    "In this section, we will perform the following steps to better understand the structure and characteristics of our tweet dataset:\n",
    "\n",
    "- Visualize the **distribution of the target classes**\n",
    "- Analyze the **distribution of tweet lengths (in characters)** across different classes\n",
    "- Analyze the **distribution of tweet lengths (in words)** across different classes\n",
    "- Analyze the **distribution of the number of sentences per tweet** across different classes\n",
    "- Visualize the **most common words** across all tweets\n",
    "- Visualize the **top words specific to each class**"
   ]
  },
  {
   "cell_type": "code",
   "execution_count": 89,
   "id": "6d5eec27",
   "metadata": {},
   "outputs": [
    {
     "ename": "TypeError",
     "evalue": "'str' object is not callable",
     "output_type": "error",
     "traceback": [
      "\u001b[1;31m---------------------------------------------------------------------------\u001b[0m",
      "\u001b[1;31mTypeError\u001b[0m                                 Traceback (most recent call last)",
      "Cell \u001b[1;32mIn[89], line 3\u001b[0m\n\u001b[0;32m      1\u001b[0m \u001b[38;5;66;03m# Class distribution\u001b[39;00m\n\u001b[0;32m      2\u001b[0m sns\u001b[38;5;241m.\u001b[39mcountplot(data\u001b[38;5;241m=\u001b[39mnew_df, x\u001b[38;5;241m=\u001b[39m\u001b[38;5;124m'\u001b[39m\u001b[38;5;124mLabel\u001b[39m\u001b[38;5;124m'\u001b[39m)\n\u001b[1;32m----> 3\u001b[0m plt\u001b[38;5;241m.\u001b[39mtitle(\u001b[38;5;124m'\u001b[39m\u001b[38;5;124mTweet Class Distribution\u001b[39m\u001b[38;5;124m'\u001b[39m)\n\u001b[0;32m      4\u001b[0m plt\u001b[38;5;241m.\u001b[39mshow()\n",
      "\u001b[1;31mTypeError\u001b[0m: 'str' object is not callable"
     ]
    },
    {
     "data": {
      "image/png": "[encoded data removed]",
      "text/plain": [
       "<Figure size 640x480 with 1 Axes>"
      ]
     },
     "metadata": {},
     "output_type": "display_data"
    }
   ],
   "source": [
    "# Class distribution\n",
    "sns.countplot(data=new_df, x='Label')\n",
    "plt.title('Tweet Class Distribution')\n",
    "plt.show()\n"
   ]
  },
  {
   "cell_type": "markdown",
   "id": "a7a0b39a",
   "metadata": {},
   "source": [
    "The bar chart shows a clear class imbalance in the tweet dataset. The majority of tweets are labeled as Neutral, followed by a smaller number labeled as Offensive, and the fewest labeled as Hate Speech. This suggests that neutral content dominates the dataset, while harmful or aggressive language is much less frequent. Such imbalance may impact model training and should be addressed to ensure fair performance across all classes."
   ]
  },
  {
   "cell_type": "markdown",
   "id": "8a46a809",
   "metadata": {},
   "source": [
    "### Box plot of the distribution of number of characters accross classes/label"
   ]
  },
  {
   "cell_type": "code",
   "execution_count": null,
   "id": "2ec73de4",
   "metadata": {},
   "outputs": [
    {
     "data": {
      "image/png": "[encoded data removed]",
      "text/plain": [
       "<Figure size 1000x600 with 1 Axes>"
      ]
     },
     "metadata": {},
     "output_type": "display_data"
    }
   ],
   "source": [
    "\n",
    "plt.figure(figsize=(10, 6))\n",
    "sns.boxplot(\n",
    "    data=new_df,\n",
    "    x='Label',               \n",
    "    y='char') \n",
    "            \n",
    "plt.title='Character Count Distribution by Label'\n",
    "plt.xlabel='Label',\n",
    "plt.ylabel='Number of Characters'\n",
    "plt.show()\n",
    "\n"
   ]
  },
  {
   "cell_type": "markdown",
   "id": "2a4361a0",
   "metadata": {},
   "source": [
    "Overall, the distributions are quite similar, with all three classes—Neutral, Offensive, and Hate Speech—showing a median length slightly above 100 characters. The interquartile ranges are also comparable, though Hate Speech tweets appear slightly shorter on average. All classes contain a large number of outliers above 200 characters, indicating some very long tweets in each category. This suggests that tweet length alone may not strongly differentiate between sentiment classes."
   ]
  },
  {
   "cell_type": "markdown",
   "id": "f0572de3",
   "metadata": {},
   "source": [
    "### Box plot of the distribution of number of words accross classes/label"
   ]
  },
  {
   "cell_type": "code",
   "execution_count": null,
   "id": "5df0b426",
   "metadata": {},
   "outputs": [
    {
     "data": {
      "image/png": "[encoded data removed]",
      "text/plain": [
       "<Figure size 1000x600 with 1 Axes>"
      ]
     },
     "metadata": {},
     "output_type": "display_data"
    }
   ],
   "source": [
    "plt.figure(figsize=(10, 6))\n",
    "sns.boxplot(\n",
    "    data=new_df,\n",
    "    x='Label',               \n",
    "    y='words') \n",
    "            \n",
    "plt.title='Character Count Distribution by Label'\n",
    "plt.xlabel='Label',\n",
    "plt.ylabel='Number of Words'\n",
    "plt.show()"
   ]
  },
  {
   "cell_type": "markdown",
   "id": "3dac7961",
   "metadata": {},
   "source": [
    "The boxplot displays the distribution of tweet lengths (in words) across the three sentiment categories. All three classes—Neutral, Offensive, and Hate Speech—have fairly similar distributions, with median word counts around 20. The interquartile ranges also overlap significantly, suggesting that tweet length by word count does not strongly differentiate between the sentiment classes. However, all categories show a wide range of outliers, indicating that some tweets are much longer than average, especially in the Neutral and Offensive categories."
   ]
  },
  {
   "cell_type": "markdown",
   "id": "e1e16d23",
   "metadata": {},
   "source": [
    "### Box plot of the distribution of number of sentences accross classes/label"
   ]
  },
  {
   "cell_type": "code",
   "execution_count": null,
   "id": "6b4d8139",
   "metadata": {},
   "outputs": [
    {
     "data": {
      "image/png": "[encoded data removed]",
      "text/plain": [
       "<Figure size 1000x600 with 1 Axes>"
      ]
     },
     "metadata": {},
     "output_type": "display_data"
    }
   ],
   "source": [
    "plt.figure(figsize=(10, 6))\n",
    "sns.boxplot(\n",
    "    data=new_df,\n",
    "    x='Label',               \n",
    "    y='sentences') \n",
    "            \n",
    "plt.title='Character Count Distribution by Label'\n",
    "plt.xlabel='Label',\n",
    "plt.ylabel='Number of Sentences'\n",
    "plt.show()"
   ]
  },
  {
   "cell_type": "markdown",
   "id": "603cc9e2",
   "metadata": {},
   "source": [
    "All three classes generally contain short tweets, mostly between 1 and 3 sentences. The median sentence count is consistent across categories at around 2, with very similar interquartile ranges, suggesting uniform tweet length regardless of sentiment. However, Neutral tweets exhibit more extreme outliers, with some reaching up to 14 sentences, indicating occasional long-form content. Offensive and Hate Speech tweets also show outliers but to a lesser extent. This implies that while most tweets are brief, Neutral tweets are more likely to include longer discourse."
   ]
  },
  {
   "cell_type": "markdown",
   "id": "987dbdfa",
   "metadata": {},
   "source": [
    "### Text preprocessing\n",
    "Tokenizzing , selecting words with 3 or more characters, removing stop words\n",
    "\n",
    "We will introduce list of english stopwords, Swahili and Sheng(a common street language in Kenya) stop words\n",
    "\n",
    "We will also initialize WordNetLemmatizer class  responsible for lemmatizing  the tokenned words"
   ]
  },
  {
   "cell_type": "code",
   "execution_count": 90,
   "id": "19551ec0",
   "metadata": {},
   "outputs": [],
   "source": [
    "# Tokenizer that uses a regex pattern to select words with three or more characters\n",
    "tokenizer = RegexpTokenizer(r\"(?u)\\w{3,}\")\n",
    "\n",
    "# List of stopwords in English\n",
    "english_stopwords = stopwords.words('english')\n",
    "swahili_stopwords = [\n",
    "    \"a\", \"na\", \"ya\", \"kwa\", \"wa\", \"ni\", \"la\", \"ili\", \"katika\", \"juu\", \"chini\", \"kama\", \"pia\", \"hadi\", \"toka\",\n",
    "    \"lakini\", \"kwamba\", \"hata\", \"bado\", \"baada\", \"mbele\", \"nyuma\", \"tu\", \"tena\", \"sana\", \"zote\", \"wote\", \"sisi\",\n",
    "    \"wao\", \"wewe\", \"mimi\", \"yeye\", \"huu\", \"hii\", \"hawa\", \"hao\", \"hizo\", \"wale\", \"wetu\", \"wako\", \"wangu\", \"hivyo\",\n",
    "    \"au\", \"kuwa\", \"ame\", \"alikuwa\", \"walikuwa\", \"si\", \"ha\", \"ambapo\", \"kwani\", \"ndio\", \"bila\", \"kila\", \"baadhi\",\n",
    "    \"mara\", \"zaidi\", \"kati\", \"kupitia\"]\n",
    "\n",
    "sheng_stopwords = [\n",
    "    \"ati\", \"ajee\", \"aje\", \"manze\", \"yani\", \"venye\", \"vile\", \"niko\", \"uko\", \"ako\", \"nko\", \"si\", \"ni\", \"kaa\",\n",
    "    \"hivo\", \"ivo\", \"ngori\", \"ebu\", \"ah\", \"lo\", \"aa\", \"maze\", \"fiti\", \"dem\", \"boyie\", \"wasee\", \"mabeshte\", \"buda\",\n",
    "    \"brathe\", \"msee\", \"mresh\", \"jamaa\", \"bro\", \"sis\", \"sanaa\", \"kweli\", \"freshi\", \"mbogi\", \"hadi\", \"balaa\",\n",
    "    \"noma\", \"walai\", \"ju\", \"ama\", \"bado\", \"mbaya\", \"vile\", \"nani\", \"kitu\", \"place\", \"hio\", \"hiyo\", \"hii\", \"ile\",\n",
    "    \"nyinyi\", \"sisi\", \"mimi\", \"wewe\", \"wao\", \"yeye\"\n",
    "]\n",
    "\n",
    "# Combine all stopwords list\n",
    "stopwords_list = set(english_stopwords + swahili_stopwords + sheng_stopwords)\n",
    "\n",
    "# Use Lemmatizer\n",
    "lemmatizer = WordNetLemmatizer()"
   ]
  },
  {
   "cell_type": "code",
   "execution_count": 118,
   "id": "7b2bc650",
   "metadata": {},
   "outputs": [],
   "source": [
    "def preprocess_text(text, tokenizer, stopwords_list, lemmatizer):\n",
    "    text = text.lower()\n",
    "    tokens = tokenizer.tokenize(text)\n",
    "    words = [word for word in tokens if word not in stopwords_list]\n",
    "    lemmatized_words = [lemmatizer.lemmatize(word) for word in words]\n",
    "    return lemmatized_words"
   ]
  },
  {
   "cell_type": "markdown",
   "id": "a1efa7bb",
   "metadata": {},
   "source": [
    "### Performing preprocessing on the clean tweet feature\n"
   ]
  },
  {
   "cell_type": "code",
   "execution_count": 120,
   "id": "724acc10",
   "metadata": {},
   "outputs": [
    {
     "data": {
      "application/vnd.microsoft.datawrangler.viewer.v0+json": {
       "columns": [
        {
         "name": "index",
         "rawType": "int64",
         "type": "integer"
        },
        {
         "name": "Clean_Tweet",
         "rawType": "object",
         "type": "unknown"
        }
       ],
       "ref": "5a41bb15-9d7c-4226-97c3-6769fb6f61a5",
       "rows": [
        [
         "48070",
         "['exactly', 'muite', 'going', 'banging', 'table', 'shouting', 'lol', 'presidentialpetitionke', 'democracyorsecession']"
        ],
        [
         "48071",
         "['exactly', 'moses', 'kuria', 'ilk', 'say', 'negative', 'ethnicity', 'hate', 'speech', 'railathewardogsince', 'pictwittercomzhgkuut']"
        ],
        [
         "48072",
         "['exactly', 'kenyan', 'going', 'thank', 'god', 'time', 'richthe', 'poor', 'username', 'username', 'username', 'pictwittercomcfwviydmr']"
        ],
        [
         "48073",
         "['exactly', 'wrong', 'country', 'kikuyus', 'cant', 'stand', 'live', 'last', 'name', 'continue', 'living', 'together']"
        ],
        [
         "48075",
         "['exactly', 'luo', 'feel', 'country', 'like', 'moses', 'kuria', 'spewing', 'hate']"
        ]
       ],
       "shape": {
        "columns": 1,
        "rows": 5
       }
      },
      "text/plain": [
       "48070    [exactly, muite, going, banging, table, shouti...\n",
       "48071    [exactly, moses, kuria, ilk, say, negative, et...\n",
       "48072    [exactly, kenyan, going, thank, god, time, ric...\n",
       "48073    [exactly, wrong, country, kikuyus, cant, stand...\n",
       "48075    [exactly, luo, feel, country, like, moses, kur...\n",
       "Name: Clean_Tweet, dtype: object"
      ]
     },
     "execution_count": 120,
     "metadata": {},
     "output_type": "execute_result"
    }
   ],
   "source": [
    "text_data = new_df['Clean_Tweet'].apply(lambda x: preprocess_text(x, tokenizer, stopwords_list, lemmatizer))\n",
    "text_data.tail()"
   ]
  },
  {
   "cell_type": "markdown",
   "id": "ea0c08e9",
   "metadata": {},
   "source": [
    "### Adding preprocessed tweet as a column"
   ]
  },
  {
   "cell_type": "code",
   "execution_count": 121,
   "id": "ff72ae1e",
   "metadata": {},
   "outputs": [
    {
     "data": {
      "application/vnd.microsoft.datawrangler.viewer.v0+json": {
       "columns": [
        {
         "name": "index",
         "rawType": "int64",
         "type": "integer"
        },
        {
         "name": "Clean_Tweet",
         "rawType": "object",
         "type": "string"
        }
       ],
       "ref": "c3133f7f-8c90-4595-9323-4f159ca292c4",
       "rows": [
        [
         "0",
         "the political elite are in desperation ordinary kalenjins are suspicious of kikuyu community"
        ],
        [
         "1",
         "am just curious the only people who are calling him old and mad are kikuyus and not kalenjins and thats a good sign username username"
        ],
        [
         "2",
         "username the area politicians are the one to blame coz they r insiting local students n villagers to attack non kalenjins students"
        ],
        [
         "3",
         "war expected in nakuru if something is not done  all luos given seven days to leave why are kenyans killing"
        ],
        [
         "4",
         "username tells kikuyus activists that they are being targeted they have targetted username  they want to kill him"
        ],
        [
         "5",
         "username username nowdays when you go to seek justice in any police station in the rift you are told"
        ],
        [
         "6",
         "we the kalenjins are planning to part ways with this tna sooner than later watch this pace thebigquestion"
        ],
        [
         "7",
         "r u sure kikuyus are the ones who want the warthese guys hv a lot to lose kikiumana"
        ],
        [
         "8",
         "according to wandimi a staunch username supporter luos are"
        ],
        [
         "9",
         "its not tribalismbut kisiis kalenjins and luhya are the"
        ],
        [
         "10",
         "leaflets attributed to maa asking the kikuyus to vacate or"
        ],
        [
         "11",
         "tribalism alert  rt username yes"
        ],
        [
         "12",
         "its only that we grew up in a time when"
        ],
        [
         "13",
         "so luos are now calling joho their"
        ],
        [
         "14",
         "username bones otw kt masai"
        ],
        [
         "15",
         "username fizz org melaka but jln rmh akk dkt masai"
        ],
        [
         "16",
         "username hello"
        ],
        [
         "17",
         "username username  who is"
        ],
        [
         "18",
         "username i stand with nyakundi username"
        ],
        [
         "19",
         "username girl masai was like"
        ],
        [
         "20",
         "username hey ar how are your d skillz nowadays"
        ],
        [
         "21",
         "username ukabila kabila"
        ],
        [
         "22",
         "username mtafanya wa tzdi warudi kwao kijiko"
        ],
        [
         "23",
         "username  username we are watching go gunners"
        ],
        [
         "24",
         "username i call this piece"
        ],
        [
         "25",
         "username luolivesmatter"
        ],
        [
         "26",
         "username username yet we are told how"
        ],
        [
         "27",
         "username username wajaluo wakikua wapi"
        ],
        [
         "28",
         "username username noted we are following username"
        ],
        [
         "29",
         "username and they are all either luhyas luis or kisii"
        ],
        [
         "30",
         "username has nyakundi been released"
        ],
        [
         "31",
         "username nyakundi woi its a private matter"
        ],
        [
         "32",
         "username where is nyakundi  been a while"
        ],
        [
         "33",
         "username a maasai thats awesome  are a maasai"
        ],
        [
         "34",
         "username are you comin to the luau"
        ],
        [
         "35",
         "username it depends on how many milligrams they are"
        ],
        [
         "36",
         "username username lincoln which holland are"
        ],
        [
         "37",
         "username wololo  maasai girl how are you"
        ],
        [
         "38",
         "username a killer designer robot"
        ],
        [
         "39",
         "username ripmsando ripmoraa"
        ],
        [
         "40",
         "username tell them safari hii ni  wembeniuleule"
        ],
        [
         "41",
         "username dr can get your contact pls"
        ],
        [
         "42",
         "username unajua hawa wazungu hawana jipya eti"
        ],
        [
         "43",
         "username dumb assumptions are dumb"
        ],
        [
         "44",
         "username hao ni bure sema fake ascent"
        ],
        [
         "45",
         "username username seems we got it shut down"
        ],
        [
         "46",
         "username username  i already hate avepic"
        ],
        [
         "47",
         "username park fees are paid at masai mara reserve"
        ],
        [
         "48",
         "username masai nor larry are paying him lance money"
        ],
        [
         "49",
         "username username but my opinion is"
        ]
       ],
       "shape": {
        "columns": 1,
        "rows": 45095
       }
      },
      "text/plain": [
       "0        the political elite are in desperation ordinar...\n",
       "1        am just curious the only people who are callin...\n",
       "2        username the area politicians are the one to b...\n",
       "3        war expected in nakuru if something is not don...\n",
       "4        username tells kikuyus activists that they are...\n",
       "                               ...                        \n",
       "48070    this is exactly what muite is going through ba...\n",
       "48071    this is exactly what moses kuria  ilk are doin...\n",
       "48072    this is exactly what kenyans are going through...\n",
       "48073    this is exactly what is wrong with this countr...\n",
       "48075    this is exactly how luos feel in this country ...\n",
       "Name: Clean_Tweet, Length: 45095, dtype: object"
      ]
     },
     "execution_count": 121,
     "metadata": {},
     "output_type": "execute_result"
    }
   ],
   "source": [
    "new_df[\"Preprocessed_Tweet\"] = text_data\n",
    "new_df[\"Clean_Tweet\"]"
   ]
  },
  {
   "cell_type": "markdown",
   "id": "fcbe4c92",
   "metadata": {},
   "source": [
    "### Frequency Dist Of Preprocessed Words"
   ]
  },
  {
   "cell_type": "code",
   "execution_count": 19,
   "id": "c3471349",
   "metadata": {},
   "outputs": [
    {
     "data": {
      "text/plain": [
       "FreqDist({'username': 15521, 'kikuyus': 7361, 'luo': 5223, 'noreformsnoelections': 4032, 'nyakundi': 2932, 'kenya': 2855, 'people': 2673, 'kenyan': 2530, 'like': 2358, 'one': 2125, ...})"
      ]
     },
     "execution_count": 19,
     "metadata": {},
     "output_type": "execute_result"
    }
   ],
   "source": [
    "frequency_dist = FreqDist(new_df['Preprocessed_Tweet'].explode())\n",
    "frequency_dist"
   ]
  },
  {
   "cell_type": "markdown",
   "id": "8be96b38",
   "metadata": {},
   "source": [
    "### Distribution of top 20 words "
   ]
  },
  {
   "cell_type": "code",
   "execution_count": 20,
   "id": "4a58eb34",
   "metadata": {},
   "outputs": [
    {
     "data": {
      "image/png": "[encoded data removed]",
      "text/plain": [
       "<Figure size 1200x600 with 1 Axes>"
      ]
     },
     "metadata": {},
     "output_type": "display_data"
    }
   ],
   "source": [
    "\n",
    "# Sort the dictionary by value (descending)\n",
    "sorted_dict = dict(sorted(frequency_dist.items(), key=lambda x: x[1], reverse=True))\n",
    "\n",
    "# Take the top 20 Words\n",
    "top_20 = dict(list(sorted_dict.items())[:20])\n",
    "\n",
    "keys = [str(k) for k in top_20.keys()]\n",
    "values =  list( top_20.values())\n",
    "\n",
    "plt.figure(figsize=(12, 6))\n",
    "plt.bar(top_20.keys(), top_20.values())\n",
    "plt.title=(\"Distribution of top 20 Words in Tweets\")\n",
    "plt.xlabel=(\"Words\")\n",
    "plt.ylabel=(\"Count\")\n",
    "plt.xticks(rotation=45)  \n",
    "\n",
    "plt.tight_layout()  \n",
    "plt.show()\n",
    "\n",
    "## Word Cloud PLot\n",
    "# from wordcloud import WordCloud"
   ]
  },
  {
   "cell_type": "markdown",
   "id": "304a3e2a",
   "metadata": {},
   "source": [
    "#### Word Cloud"
   ]
  },
  {
   "cell_type": "code",
   "execution_count": 21,
   "id": "77dff720",
   "metadata": {},
   "outputs": [],
   "source": [
    "#pip install wordcloud"
   ]
  },
  {
   "cell_type": "code",
   "execution_count": 22,
   "id": "4380a5df",
   "metadata": {},
   "outputs": [
    {
     "ename": "TypeError",
     "evalue": "'str' object is not callable",
     "output_type": "error",
     "traceback": [
      "\u001b[1;31m---------------------------------------------------------------------------\u001b[0m",
      "\u001b[1;31mTypeError\u001b[0m                                 Traceback (most recent call last)",
      "Cell \u001b[1;32mIn[22], line 25\u001b[0m\n\u001b[0;32m     23\u001b[0m plt\u001b[38;5;241m.\u001b[39mimshow(wordcloud, interpolation\u001b[38;5;241m=\u001b[39m\u001b[38;5;124m'\u001b[39m\u001b[38;5;124mbilinear\u001b[39m\u001b[38;5;124m'\u001b[39m)\n\u001b[0;32m     24\u001b[0m plt\u001b[38;5;241m.\u001b[39maxis(\u001b[38;5;124m'\u001b[39m\u001b[38;5;124moff\u001b[39m\u001b[38;5;124m'\u001b[39m)\n\u001b[1;32m---> 25\u001b[0m plt\u001b[38;5;241m.\u001b[39mtitle(\u001b[38;5;124m\"\u001b[39m\u001b[38;5;124mWord Cloud of Top 20 Words in Tweets\u001b[39m\u001b[38;5;124m\"\u001b[39m, fontsize\u001b[38;5;241m=\u001b[39m\u001b[38;5;241m16\u001b[39m)\n\u001b[0;32m     26\u001b[0m plt\u001b[38;5;241m.\u001b[39mtight_layout()\n\u001b[0;32m     27\u001b[0m plt\u001b[38;5;241m.\u001b[39mshow()\n",
      "\u001b[1;31mTypeError\u001b[0m: 'str' object is not callable"
     ]
    },
    {
     "data": {
      "image/png": "[encoded data removed]",
      "text/plain": [
       "<Figure size 1200x600 with 1 Axes>"
      ]
     },
     "metadata": {},
     "output_type": "display_data"
    }
   ],
   "source": [
    "from wordcloud import WordCloud\n",
    "import matplotlib.pyplot as plt\n",
    "\n",
    "# Sort the dictionary by value (descending)\n",
    "sorted_dict = dict(sorted(frequency_dist.items(), key=lambda x: x[1], reverse=True))\n",
    "\n",
    "# Take the top 20 Words\n",
    "top_20 = dict(list(sorted_dict.items())[:20])\n",
    "\n",
    "keys = [str(k) for k in top_20.keys()]\n",
    "values =  list( top_20.values())\n",
    "\n",
    "# Generate word cloud from the top 20 words\n",
    "wordcloud = WordCloud(\n",
    "    width=800,\n",
    "    height=400,\n",
    "    background_color='white',\n",
    "    colormap='viridis'\n",
    ").generate_from_frequencies(top_20)\n",
    "\n",
    "# Plot the word cloud\n",
    "plt.figure(figsize=(12, 6))\n",
    "plt.imshow(wordcloud, interpolation='bilinear')\n",
    "plt.axis('off')\n",
    "plt.title(\"Word Cloud of Top 20 Words in Tweets\", fontsize=16)\n",
    "plt.tight_layout()\n",
    "plt.show()\n"
   ]
  },
  {
   "cell_type": "markdown",
   "id": "a3291d0a",
   "metadata": {},
   "source": [
    "The word cloud highlights the most frequently used terms across tweets, with larger font sizes indicating higher word frequency. Prominent words like \"kikuyus\", \"noreformsnoelections\", \"luo\", \"kenya\", and \"hate\" suggest a strong emphasis on ethnic identity, political slogans, and polarizing language. Terms such as \"kill\", \"know\", and \"dont\" also appear, indicating some aggressive or opinionated tone in the discourse. The presence of multiple ethnic group names — including \"kalenjins\", \"luhyas\", and \"nyakundi\" — reinforces the role of tribal identity in the conversation. Overall, the word cloud reflects a politically and ethnically charged atmosphere within the dataset."
   ]
  },
  {
   "cell_type": "markdown",
   "id": "73f74482",
   "metadata": {},
   "source": [
    "### Getting rid of the word \"username\""
   ]
  },
  {
   "cell_type": "code",
   "execution_count": null,
   "id": "e71915b3",
   "metadata": {},
   "outputs": [],
   "source": [
    "new_df[\"Clean_Tweet\"] = new_df[\"Clean_Tweet\"].str.replace(\"username\", \"\", regex=False).str.strip()\n",
    "  "
   ]
  },
  {
   "cell_type": "code",
   "execution_count": null,
   "id": "c5436073",
   "metadata": {},
   "outputs": [
    {
     "data": {
      "application/vnd.microsoft.datawrangler.viewer.v0+json": {
       "columns": [
        {
         "name": "index",
         "rawType": "int64",
         "type": "integer"
        },
        {
         "name": "Tweet",
         "rawType": "object",
         "type": "string"
        },
        {
         "name": "Class",
         "rawType": "int64",
         "type": "integer"
        },
        {
         "name": "Label",
         "rawType": "object",
         "type": "string"
        },
        {
         "name": "char",
         "rawType": "int64",
         "type": "integer"
        },
        {
         "name": "words",
         "rawType": "int64",
         "type": "integer"
        },
        {
         "name": "sentences",
         "rawType": "int64",
         "type": "integer"
        },
        {
         "name": "Clean_Tweet",
         "rawType": "object",
         "type": "string"
        },
        {
         "name": "Preprocessed_Tweet",
         "rawType": "object",
         "type": "unknown"
        }
       ],
       "ref": "2110ee70-b0a9-4b75-8cc5-eb3bbecc1b7e",
       "rows": [
        [
         "0",
         "The political elite are in desperation. Ordinary kalenjins are suspicious of kikuyu community",
         "0",
         "Neutral",
         "93",
         "14",
         "2",
         "the political elite are in desperation ordinary kalenjins are suspicious of kikuyu community",
         "['political', 'elite', 'desperation', 'ordinary', 'kalenjins', 'suspicious', 'kikuyu', 'community']"
        ],
        [
         "1",
         "Am just curious the only people who are calling him old and mad are Kikuyus and not Kalenjins and that's a good sign USERNAME_1 USERNAME_2",
         "0",
         "Neutral",
         "138",
         "26",
         "1",
         "am just curious the only people who are calling him old and mad are kikuyus and not kalenjins and thats a good sign",
         "['curious', 'people', 'calling', 'old', 'mad', 'kikuyus', 'kalenjins', 'thats', 'good', 'sign']"
        ],
        [
         "2",
         "USERNAME_3 the area politicians are the one to blame coz they r insiting local students n villagers to attack non kalenjins students",
         "0",
         "Neutral",
         "132",
         "22",
         "1",
         "the area politicians are the one to blame coz they r insiting local students n villagers to attack non kalenjins students",
         "['area', 'politician', 'one', 'blame', 'coz', 'insiting', 'local', 'student', 'villager', 'attack', 'non', 'kalenjins', 'student']"
        ],
        [
         "3",
         "War expected in Nakuru if something is not done . All Luos given Seven days to leave. Why are Kenyans Killing...",
         "0",
         "Neutral",
         "112",
         "23",
         "3",
         "war expected in nakuru if something is not done  all luos given seven days to leave why are kenyans killing",
         "['war', 'expected', 'nakuru', 'something', 'done', 'luo', 'given', 'seven', 'day', 'leave', 'kenyan', 'killing']"
        ],
        [
         "4",
         "USERNAME_4 tells kikuyus activists that they are being targeted. They have targetted USERNAME_5 . They want to kill him.",
         "0",
         "Neutral",
         "120",
         "21",
         "3",
         "tells kikuyus activists that they are being targeted they have targetted   they want to kill him",
         "['tell', 'kikuyus', 'activist', 'targeted', 'targetted', 'want', 'kill']"
        ]
       ],
       "shape": {
        "columns": 8,
        "rows": 5
       }
      },
      "text/html": [
       "<div>\n",
       "<style scoped>\n",
       "    .dataframe tbody tr th:only-of-type {\n",
       "        vertical-align: middle;\n",
       "    }\n",
       "\n",
       "    .dataframe tbody tr th {\n",
       "        vertical-align: top;\n",
       "    }\n",
       "\n",
       "    .dataframe thead th {\n",
       "        text-align: right;\n",
       "    }\n",
       "</style>\n",
       "<table border=\"1\" class=\"dataframe\">\n",
       "  <thead>\n",
       "    <tr style=\"text-align: right;\">\n",
       "      <th></th>\n",
       "      <th>Tweet</th>\n",
       "      <th>Class</th>\n",
       "      <th>Label</th>\n",
       "      <th>char</th>\n",
       "      <th>words</th>\n",
       "      <th>sentences</th>\n",
       "      <th>Clean_Tweet</th>\n",
       "      <th>Preprocessed_Tweet</th>\n",
       "    </tr>\n",
       "  </thead>\n",
       "  <tbody>\n",
       "    <tr>\n",
       "      <th>0</th>\n",
       "      <td>The political elite are in desperation. Ordina...</td>\n",
       "      <td>0</td>\n",
       "      <td>Neutral</td>\n",
       "      <td>93</td>\n",
       "      <td>14</td>\n",
       "      <td>2</td>\n",
       "      <td>the political elite are in desperation ordinar...</td>\n",
       "      <td>[political, elite, desperation, ordinary, kale...</td>\n",
       "    </tr>\n",
       "    <tr>\n",
       "      <th>1</th>\n",
       "      <td>Am just curious the only people who are callin...</td>\n",
       "      <td>0</td>\n",
       "      <td>Neutral</td>\n",
       "      <td>138</td>\n",
       "      <td>26</td>\n",
       "      <td>1</td>\n",
       "      <td>am just curious the only people who are callin...</td>\n",
       "      <td>[curious, people, calling, old, mad, kikuyus, ...</td>\n",
       "    </tr>\n",
       "    <tr>\n",
       "      <th>2</th>\n",
       "      <td>USERNAME_3 the area politicians are the one to...</td>\n",
       "      <td>0</td>\n",
       "      <td>Neutral</td>\n",
       "      <td>132</td>\n",
       "      <td>22</td>\n",
       "      <td>1</td>\n",
       "      <td>the area politicians are the one to blame coz ...</td>\n",
       "      <td>[area, politician, one, blame, coz, insiting, ...</td>\n",
       "    </tr>\n",
       "    <tr>\n",
       "      <th>3</th>\n",
       "      <td>War expected in Nakuru if something is not don...</td>\n",
       "      <td>0</td>\n",
       "      <td>Neutral</td>\n",
       "      <td>112</td>\n",
       "      <td>23</td>\n",
       "      <td>3</td>\n",
       "      <td>war expected in nakuru if something is not don...</td>\n",
       "      <td>[war, expected, nakuru, something, done, luo, ...</td>\n",
       "    </tr>\n",
       "    <tr>\n",
       "      <th>4</th>\n",
       "      <td>USERNAME_4 tells kikuyus activists that they a...</td>\n",
       "      <td>0</td>\n",
       "      <td>Neutral</td>\n",
       "      <td>120</td>\n",
       "      <td>21</td>\n",
       "      <td>3</td>\n",
       "      <td>tells kikuyus activists that they are being ta...</td>\n",
       "      <td>[tell, kikuyus, activist, targeted, targetted,...</td>\n",
       "    </tr>\n",
       "  </tbody>\n",
       "</table>\n",
       "</div>"
      ],
      "text/plain": [
       "                                               Tweet  Class    Label  char  \\\n",
       "0  The political elite are in desperation. Ordina...      0  Neutral    93   \n",
       "1  Am just curious the only people who are callin...      0  Neutral   138   \n",
       "2  USERNAME_3 the area politicians are the one to...      0  Neutral   132   \n",
       "3  War expected in Nakuru if something is not don...      0  Neutral   112   \n",
       "4  USERNAME_4 tells kikuyus activists that they a...      0  Neutral   120   \n",
       "\n",
       "   words  sentences                                        Clean_Tweet  \\\n",
       "0     14          2  the political elite are in desperation ordinar...   \n",
       "1     26          1  am just curious the only people who are callin...   \n",
       "2     22          1  the area politicians are the one to blame coz ...   \n",
       "3     23          3  war expected in nakuru if something is not don...   \n",
       "4     21          3  tells kikuyus activists that they are being ta...   \n",
       "\n",
       "                                  Preprocessed_Tweet  \n",
       "0  [political, elite, desperation, ordinary, kale...  \n",
       "1  [curious, people, calling, old, mad, kikuyus, ...  \n",
       "2  [area, politician, one, blame, coz, insiting, ...  \n",
       "3  [war, expected, nakuru, something, done, luo, ...  \n",
       "4  [tell, kikuyus, activist, targeted, targetted,...  "
      ]
     },
     "execution_count": 22,
     "metadata": {},
     "output_type": "execute_result"
    }
   ],
   "source": [
    "text_data = new_df['Clean_Tweet'].apply(lambda x: preprocess_text(x, tokenizer, stopwords_list, lemmatizer))\n",
    "new_df[\"Preprocessed_Tweet\"] = text_data\n",
    "new_df.head()"
   ]
  },
  {
   "cell_type": "markdown",
   "id": "af29fa2a",
   "metadata": {},
   "source": [
    "### Distribution of Words by LABEL/CLASS"
   ]
  },
  {
   "cell_type": "code",
   "execution_count": 23,
   "id": "d3bf6265",
   "metadata": {},
   "outputs": [
    {
     "data": {
      "image/png": "[encoded data removed]",
      "text/plain": [
       "<Figure size 1200x1200 with 3 Axes>"
      ]
     },
     "metadata": {},
     "output_type": "display_data"
    }
   ],
   "source": [
    "fig, axes = plt.subplots(nrows=3, figsize=(12, 12))\n",
    "color_palette = sns.color_palette('cividis')  # Unlimited colors from palette\n",
    "\n",
    "for idx, label_df in enumerate(new_df.groupby('Label')):\n",
    "    label_name, group_data = label_df\n",
    "    all_words = group_data['Preprocessed_Tweet'].explode()\n",
    "    top_20 = all_words.value_counts().nlargest(20)\n",
    "    \n",
    "    # Plot with automatic color cycling\n",
    "    ax = axes[idx]\n",
    "    top_20.plot.bar(ax=ax, color=color_palette)\n",
    "    ax.set_title(label_name.title())\n",
    "    ax.set_xticklabels(top_20.index, rotation=45, ha='right')\n",
    "    ax.set_ylabel('Word Count')\n",
    "\n",
    "fig.tight_layout()\n",
    "plt.show()"
   ]
  },
  {
   "cell_type": "markdown",
   "id": "3215ca51",
   "metadata": {},
   "source": [
    " Words like kikuyus, luo, kalenjins, and kenya are dominant in all three categories, highlighting the focus on Kenyan ethnic groups and politics. Hate speech tweets prominently feature tribal identifiers and words associated with violence or negativity, such as kill and hate, indicating targeted hostility. Neutral tweets, in contrast, also center around ethnic groups but with additional election-related terms like morefromselections and election, suggesting a broader, less aggressive discourse. Offensive tweets show a mix of slurs, ethnic mentions, and aggression-related words, though with less concentration on elections compared to neutral tweets. Overall, these visualizations underline the central role of ethnicity and politics in shaping online discourse across all sentiments."
   ]
  },
  {
   "cell_type": "markdown",
   "id": "a3725d6e",
   "metadata": {},
   "source": [
    "### *Removing Outliers*"
   ]
  },
  {
   "cell_type": "code",
   "execution_count": 122,
   "id": "505c4d04",
   "metadata": {},
   "outputs": [
    {
     "data": {
      "text/plain": [
       "45095"
      ]
     },
     "execution_count": 122,
     "metadata": {},
     "output_type": "execute_result"
    }
   ],
   "source": [
    "new_df=new_df[new_df[\"sentences\"]<4]\n",
    "len(new_df)"
   ]
  },
  {
   "cell_type": "markdown",
   "id": "c0032886",
   "metadata": {},
   "source": [
    "## **4. Modelling**"
   ]
  },
  {
   "cell_type": "markdown",
   "id": "4403ceef",
   "metadata": {},
   "source": [
    "In this section, we will follow a structured approach to build and evaluate classification models for tweet analysis:\n",
    "\n",
    "- Fit **baseline models**(Logistic Regression) using two types of text representations:\n",
    "  - **TF-IDF vectorized tweets**\n",
    "  - **BERT-based word embeddings**  \n",
    "  This helps assess initial model performance using both traditional and contextual features.\n",
    "\n",
    "- Perform **cross-validation** using the following classifiers to identify top-performing models based on the **F1 score**:\n",
    "  - Logistic Regression  \n",
    "  - Naive Bayes (TF-IDF only)  \n",
    "  - Random Forest  \n",
    "  - XGBoost  \n",
    "\n",
    "- Address **class imbalance** in the top two models selected from cross-validation using the following resampling techniques:\n",
    "  - **SMOTE** (Synthetic Minority Oversampling Technique)  \n",
    "  - **Random undersampling** of the majority class  \n",
    "  - **Hybrid approach** combining both oversampling and undersampling\n",
    "\n",
    "- Evaluate the **final performance** of the selected models after applying class imbalance strategies on a held-out test set\n",
    "\n"
   ]
  },
  {
   "cell_type": "markdown",
   "id": "f7b8b0f9",
   "metadata": {},
   "source": [
    "### *Undersampling Majority Classes*"
   ]
  },
  {
   "cell_type": "code",
   "execution_count": 95,
   "id": "b5a721c5",
   "metadata": {},
   "outputs": [
    {
     "data": {
      "application/vnd.microsoft.datawrangler.viewer.v0+json": {
       "columns": [
        {
         "name": "Class",
         "rawType": "int64",
         "type": "integer"
        },
        {
         "name": "count",
         "rawType": "int64",
         "type": "integer"
        }
       ],
       "ref": "a44f67a3-4255-46db-ae78-d231c9df2ca1",
       "rows": [
        [
         "0",
         "36352"
        ],
        [
         "1",
         "8543"
        ],
        [
         "2",
         "3181"
        ]
       ],
       "shape": {
        "columns": 1,
        "rows": 3
       }
      },
      "text/plain": [
       "Class\n",
       "0    36352\n",
       "1     8543\n",
       "2     3181\n",
       "Name: count, dtype: int64"
      ]
     },
     "execution_count": 95,
     "metadata": {},
     "output_type": "execute_result"
    }
   ],
   "source": [
    "new_df[\"Class\"].value_counts()"
   ]
  },
  {
   "cell_type": "code",
   "execution_count": 133,
   "id": "c4738a26",
   "metadata": {},
   "outputs": [
    {
     "name": "stdout",
     "output_type": "stream",
     "text": [
      "Class\n",
      "0    5000\n",
      "1    5000\n",
      "2    3001\n",
      "Name: count, dtype: int64\n"
     ]
    }
   ],
   "source": [
    "\n",
    "\n",
    "# Assuming your dataframe is df and the column is 'label'\n",
    "df_balanced = pd.concat([\n",
    "    new_df[new_df['Class'] == 0].sample(n=5000, random_state=42),\n",
    "    new_df[new_df['Class'] == 1].sample(n=5000, random_state=42),\n",
    "    new_df[new_df['Class'] == 2]  # keep all since it's < 5000\n",
    "])\n",
    "\n",
    "# Shuffle the dataset after undersampling\n",
    "df_balanced = df_balanced.sample(frac=1, random_state=42).reset_index(drop=True)\n",
    "\n",
    "print(df_balanced['Class'].value_counts())\n"
   ]
  },
  {
   "cell_type": "code",
   "execution_count": 134,
   "id": "647c38fa",
   "metadata": {},
   "outputs": [],
   "source": [
    "#defining x and y\n",
    "X=df_balanced[\"Preprocessed_Tweet\"]\n",
    "y=df_balanced[\"Class\"]"
   ]
  },
  {
   "cell_type": "code",
   "execution_count": 135,
   "id": "c5092e98",
   "metadata": {},
   "outputs": [],
   "source": [
    "#train test split \n",
    "X_train,X_test,y_train,y_test=train_test_split(X,y,stratify=y,test_size=0.2,random_state=42)"
   ]
  },
  {
   "cell_type": "code",
   "execution_count": 136,
   "id": "412a814f",
   "metadata": {},
   "outputs": [],
   "source": [
    "X_train = X_train.apply(lambda x: \" \".join(x) if isinstance(x, list) else x)\n",
    "X_test = X_test.apply(lambda x: \" \".join(x) if isinstance(x, list) else x)\n"
   ]
  },
  {
   "cell_type": "markdown",
   "id": "8e2d3e98",
   "metadata": {},
   "source": [
    "### *Baseline Model With TF-IDF*"
   ]
  },
  {
   "cell_type": "code",
   "execution_count": 140,
   "id": "e6e4721d",
   "metadata": {},
   "outputs": [
    {
     "name": "stdout",
     "output_type": "stream",
     "text": [
      "              precision    recall  f1-score   support\n",
      "\n",
      "           0       0.55      0.56      0.56      1000\n",
      "           1       0.47      0.55      0.50      1000\n",
      "           2       0.49      0.33      0.40       601\n",
      "\n",
      "    accuracy                           0.50      2601\n",
      "   macro avg       0.50      0.48      0.49      2601\n",
      "weighted avg       0.50      0.50      0.50      2601\n",
      "\n"
     ]
    }
   ],
   "source": [
    "from sklearn.pipeline import Pipeline\n",
    "\n",
    "from sklearn.naive_bayes import MultinomialNB\n",
    "pipe=Pipeline([(\"vect\",TfidfVectorizer()),\n",
    "    (\"clf\",MultinomialNB(alpha=0.1))\n",
    "            ])\n",
    "pipe.fit(X_train,y_train)\n",
    "pred=pipe.predict(X_test)\n",
    "print(classification_report(y_test,pred))"
   ]
  },
  {
   "cell_type": "markdown",
   "id": "031ab937",
   "metadata": {},
   "source": [
    "The model performs well on class 0, with high precision (0.78), recall (0.97), and F1-score (0.86), indicating that it is strongly biased toward the majority class. However, it performs poorly on classes 1 and 2, with very low recall (0.11 for both) and low F1-scores (0.17), suggesting it fails to correctly identify most instances of the minority classes. While the overall accuracy is 76%, the macro average F1-score is only 0.40, highlighting poor performance across classes and the presence of severe class imbalance."
   ]
  },
  {
   "cell_type": "markdown",
   "id": "b1ba57c5",
   "metadata": {},
   "source": [
    "### *Grid Search*"
   ]
  },
  {
   "cell_type": "markdown",
   "id": "ddae82c8",
   "metadata": {},
   "source": [
    "#### *1. Logistic regression*"
   ]
  },
  {
   "cell_type": "code",
   "execution_count": null,
   "id": "b51a4b5d",
   "metadata": {},
   "outputs": [],
   "source": []
  },
  {
   "cell_type": "markdown",
   "id": "4d804963",
   "metadata": {},
   "source": [
    "#### *2. Random Forest*"
   ]
  },
  {
   "cell_type": "code",
   "execution_count": null,
   "id": "e19764d8",
   "metadata": {},
   "outputs": [],
   "source": []
  },
  {
   "cell_type": "markdown",
   "id": "7beacd0e",
   "metadata": {},
   "source": [
    "#### *3. Naive Bayes*"
   ]
  },
  {
   "cell_type": "code",
   "execution_count": null,
   "id": "afbbb96d",
   "metadata": {},
   "outputs": [],
   "source": []
  },
  {
   "cell_type": "markdown",
   "id": "24b51227",
   "metadata": {},
   "source": [
    "#### *4. XGboost*"
   ]
  },
  {
   "cell_type": "code",
   "execution_count": 143,
   "id": "c814e72c",
   "metadata": {},
   "outputs": [
    {
     "name": "stdout",
     "output_type": "stream",
     "text": [
      "Fitting 3 folds for each of 128 candidates, totalling 384 fits\n",
      "Best parameters: {'tfidf__max_features': 10000, 'tfidf__ngram_range': (1, 2), 'xgb__colsample_bytree': 1.0, 'xgb__learning_rate': 0.2, 'xgb__max_depth': 5, 'xgb__n_estimators': 200, 'xgb__subsample': 0.8}\n",
      "              precision    recall  f1-score   support\n",
      "\n",
      "           0       0.58      0.65      0.61      1000\n",
      "           1       0.51      0.41      0.46      1000\n",
      "           2       0.52      0.59      0.55       601\n",
      "\n",
      "    accuracy                           0.55      2601\n",
      "   macro avg       0.54      0.55      0.54      2601\n",
      "weighted avg       0.54      0.55      0.54      2601\n",
      "\n"
     ]
    }
   ],
   "source": [
    "\n",
    "from sklearn.model_selection import GridSearchCV\n",
    "\n",
    "\n",
    "# Define pipeline\n",
    "pipeline = Pipeline([\n",
    "    ('tfidf', TfidfVectorizer()),\n",
    "    ('xgb', XGBClassifier(\n",
    "        objective='multi:softmax',\n",
    "        num_class=3,               # number of classes\n",
    "        eval_metric='mlogloss',\n",
    "        use_label_encoder=False,\n",
    "        random_state=42\n",
    "    ))\n",
    "])\n",
    "\n",
    "# Parameter grid (with TF-IDF & XGBoost hyperparams)\n",
    "param_grid = {\n",
    "    'tfidf__max_features': [5000, 10000],\n",
    "    'tfidf__ngram_range': [(1, 1), (1, 2)],\n",
    "    'xgb__max_depth': [3, 5],\n",
    "    'xgb__learning_rate': [0.1, 0.2],\n",
    "    'xgb__n_estimators': [100, 200],\n",
    "    'xgb__subsample': [0.8, 1.0],\n",
    "    'xgb__colsample_bytree': [0.8, 1.0]\n",
    "}\n",
    "\n",
    "# Grid search\n",
    "grid_search = GridSearchCV(\n",
    "    estimator=pipeline,\n",
    "    param_grid=param_grid,\n",
    "    scoring='f1_weighted',  # could also use 'accuracy'\n",
    "    cv=3,\n",
    "    verbose=2,\n",
    "    n_jobs=-1\n",
    ")\n",
    "\n",
    "# Fit\n",
    "grid_search.fit(X_train, y_train)\n",
    "\n",
    "# Results\n",
    "print(\"Best parameters:\", grid_search.best_params_)\n",
    "best_model = grid_search.best_estimator_\n",
    "y_pred = best_model.predict(X_test)\n",
    "print(classification_report(y_test, y_pred))\n"
   ]
  },
  {
   "cell_type": "markdown",
   "id": "a00d6f07",
   "metadata": {},
   "source": [
    "### *Baseline Model With BERT Embeddings*"
   ]
  },
  {
   "cell_type": "code",
   "execution_count": null,
   "id": "ddd000eb",
   "metadata": {},
   "outputs": [],
   "source": [
    "# # defining the word embeddings\n",
    "# X_train_bert = np.load(\"X_train_bert.npy\", allow_pickle=True)\n",
    "# X_test_bert = np.load(\"X_test_bert.npy\", allow_pickle=True)"
   ]
  },
  {
   "cell_type": "code",
   "execution_count": null,
   "id": "f3648be0",
   "metadata": {},
   "outputs": [
    {
     "name": "stdout",
     "output_type": "stream",
     "text": [
      "              precision    recall  f1-score   support\n",
      "\n",
      "           0       0.78      0.96      0.86      7271\n",
      "           1       0.42      0.12      0.19      1709\n",
      "           2       0.37      0.14      0.20       636\n",
      "\n",
      "    accuracy                           0.76      9616\n",
      "   macro avg       0.52      0.41      0.42      9616\n",
      "weighted avg       0.69      0.76      0.70      9616\n",
      "\n"
     ]
    }
   ],
   "source": [
    "# # trying out the baseline model with git embeddings\n",
    "# from sklearn.linear_model import LogisticRegression\n",
    "\n",
    "# clf =LogisticRegression()\n",
    "# clf.fit(X_train_bert, y_train)\n",
    "\n",
    "# # Predict and evaluate\n",
    "# y_pred = clf.predict(X_test_bert)\n",
    "# print(classification_report(y_test, y_pred))"
   ]
  },
  {
   "cell_type": "markdown",
   "id": "b115da5b",
   "metadata": {},
   "source": [
    "The model shows strong performance on the majority class (class 0), with high recall (0.96) and F1-score (0.86), indicating it correctly classifies most of these instances. However, performance on the minority classes (class 1 and class 2) remains poor, with low recall (0.12 and 0.14, respectively) and F1-scores around 0.19–0.20. Despite an overall accuracy of 76%, the macro average F1-score of 0.42 reveals that the model struggles to generalize across all classes, again reflecting the impact of class imbalance."
   ]
  },
  {
   "cell_type": "markdown",
   "id": "5fcc2b4e",
   "metadata": {},
   "source": [
    "### *Cross Validation*"
   ]
  },
  {
   "cell_type": "code",
   "execution_count": null,
   "id": "ad885bd5",
   "metadata": {},
   "outputs": [
    {
     "name": "stdout",
     "output_type": "stream",
     "text": [
      "Training Logistic Regression...\n",
      "Training GaussianNB...\n",
      "Training Random Forest...\n",
      "Training XGBoost...\n",
      "[13:06:35] WARNING: C:\\Users\\Administrator\\workspace\\xgboost-win64_release_1.2.0\\src\\learner.cc:516: \n",
      "Parameters: { use_label_encoder } might not be used.\n",
      "\n",
      "  This may not be accurate due to some parameters are only used in language bindings but\n",
      "  passed down to XGBoost core.  Or some parameters are not used but slip through this\n",
      "  verification. Please open an issue if you find above cases.\n",
      "\n",
      "\n"
     ]
    },
    {
     "data": {
      "application/vnd.microsoft.datawrangler.viewer.v0+json": {
       "columns": [
        {
         "name": "index",
         "rawType": "int64",
         "type": "integer"
        },
        {
         "name": "Model",
         "rawType": "object",
         "type": "string"
        },
        {
         "name": "Accuracy",
         "rawType": "float64",
         "type": "float"
        },
        {
         "name": "Precision",
         "rawType": "float64",
         "type": "float"
        },
        {
         "name": "Recall",
         "rawType": "float64",
         "type": "float"
        },
        {
         "name": "F1 Score",
         "rawType": "float64",
         "type": "float"
        },
        {
         "name": "ROC AUC",
         "rawType": "float64",
         "type": "float"
        }
       ],
       "ref": "26255acc-c036-4bf0-95b2-b2ab669605da",
       "rows": [
        [
         "0",
         "Logistic Regression",
         "0.7567595673876872",
         "0.5285225780988905",
         "0.4119333272401724",
         "0.4230177316761052",
         "0.7580752969536114"
        ],
        [
         "1",
         "GaussianNB",
         "0.5735232945091514",
         "0.41328537143874894",
         "0.48546761820172657",
         "0.4051114449513374",
         "0.6768875645349347"
        ],
        [
         "3",
         "XGBoost",
         "0.7559276206322796",
         "0.5256575132971082",
         "0.38025457298081755",
         "0.38028925149137116",
         "0.748892680121669"
        ],
        [
         "2",
         "Random Forest",
         "0.7567595673876872",
         "0.5612955205978462",
         "0.3428405332135005",
         "0.3078128121653945",
         "0.6823305946120687"
        ]
       ],
       "shape": {
        "columns": 6,
        "rows": 4
       }
      },
      "text/html": [
       "<div>\n",
       "<style scoped>\n",
       "    .dataframe tbody tr th:only-of-type {\n",
       "        vertical-align: middle;\n",
       "    }\n",
       "\n",
       "    .dataframe tbody tr th {\n",
       "        vertical-align: top;\n",
       "    }\n",
       "\n",
       "    .dataframe thead th {\n",
       "        text-align: right;\n",
       "    }\n",
       "</style>\n",
       "<table border=\"1\" class=\"dataframe\">\n",
       "  <thead>\n",
       "    <tr style=\"text-align: right;\">\n",
       "      <th></th>\n",
       "      <th>Model</th>\n",
       "      <th>Accuracy</th>\n",
       "      <th>Precision</th>\n",
       "      <th>Recall</th>\n",
       "      <th>F1 Score</th>\n",
       "      <th>ROC AUC</th>\n",
       "    </tr>\n",
       "  </thead>\n",
       "  <tbody>\n",
       "    <tr>\n",
       "      <th>0</th>\n",
       "      <td>Logistic Regression</td>\n",
       "      <td>0.756760</td>\n",
       "      <td>0.528523</td>\n",
       "      <td>0.411933</td>\n",
       "      <td>0.423018</td>\n",
       "      <td>0.758075</td>\n",
       "    </tr>\n",
       "    <tr>\n",
       "      <th>1</th>\n",
       "      <td>GaussianNB</td>\n",
       "      <td>0.573523</td>\n",
       "      <td>0.413285</td>\n",
       "      <td>0.485468</td>\n",
       "      <td>0.405111</td>\n",
       "      <td>0.676888</td>\n",
       "    </tr>\n",
       "    <tr>\n",
       "      <th>3</th>\n",
       "      <td>XGBoost</td>\n",
       "      <td>0.755928</td>\n",
       "      <td>0.525658</td>\n",
       "      <td>0.380255</td>\n",
       "      <td>0.380289</td>\n",
       "      <td>0.748893</td>\n",
       "    </tr>\n",
       "    <tr>\n",
       "      <th>2</th>\n",
       "      <td>Random Forest</td>\n",
       "      <td>0.756760</td>\n",
       "      <td>0.561296</td>\n",
       "      <td>0.342841</td>\n",
       "      <td>0.307813</td>\n",
       "      <td>0.682331</td>\n",
       "    </tr>\n",
       "  </tbody>\n",
       "</table>\n",
       "</div>"
      ],
      "text/plain": [
       "                 Model  Accuracy  Precision    Recall  F1 Score   ROC AUC\n",
       "0  Logistic Regression  0.756760   0.528523  0.411933  0.423018  0.758075\n",
       "1           GaussianNB  0.573523   0.413285  0.485468  0.405111  0.676888\n",
       "3              XGBoost  0.755928   0.525658  0.380255  0.380289  0.748893\n",
       "2        Random Forest  0.756760   0.561296  0.342841  0.307813  0.682331"
      ]
     },
     "execution_count": 33,
     "metadata": {},
     "output_type": "execute_result"
    }
   ],
   "source": [
    "# # cross validating candidate models with the word embeddings\n",
    "# from sklearn.linear_model import LogisticRegression\n",
    "# from sklearn.naive_bayes import GaussianNB\n",
    "# from sklearn.ensemble import RandomForestClassifier\n",
    "# from xgboost import XGBClassifier\n",
    "# from sklearn.metrics import classification_report, roc_auc_score\n",
    "# import pandas as pd\n",
    "\n",
    "# # Define models\n",
    "# models = {\n",
    "#     'Logistic Regression': LogisticRegression(max_iter=1000),\n",
    "#     'GaussianNB': GaussianNB(),\n",
    "#     'Random Forest': RandomForestClassifier(),\n",
    "#     'XGBoost': XGBClassifier(use_label_encoder=False, eval_metric='mlogloss')\n",
    "# }\n",
    "\n",
    "# # Store results\n",
    "# results = []\n",
    "\n",
    "# for name, model in models.items():\n",
    "#     print(f\"Training {name}...\")\n",
    "\n",
    "#     # GaussianNB requires dense input\n",
    "#     if name == 'GaussianNB':\n",
    "#         model.fit(X_train_bert, y_train)\n",
    "#         y_pred = model.predict(X_test_bert)\n",
    "#         y_prob = model.predict_proba(X_test_bert)\n",
    "#     else:\n",
    "#         model.fit(X_train_bert, y_train)\n",
    "#         y_pred = model.predict(X_test_bert)\n",
    "#         y_prob = model.predict_proba(X_test_bert)\n",
    "    \n",
    "#     # Metrics\n",
    "#     report = classification_report(y_test, y_pred, output_dict=True, zero_division=0)\n",
    "    \n",
    "#     try:\n",
    "#         auc = roc_auc_score(y_test, y_prob, multi_class='ovr')\n",
    "#     except:\n",
    "#         auc = None  # In case probability output is missing\n",
    "\n",
    "#     results.append({\n",
    "#         'Model': name,\n",
    "#         'Accuracy': report['accuracy'],\n",
    "#         'Precision': report['macro avg']['precision'],\n",
    "#         'Recall': report['macro avg']['recall'],\n",
    "#         'F1 Score': report['macro avg']['f1-score'],\n",
    "#         'ROC AUC': auc\n",
    "#     })\n",
    "\n",
    "# # Display results\n",
    "# pd.DataFrame(results).sort_values(by='F1 Score', ascending=False)\n"
   ]
  },
  {
   "cell_type": "markdown",
   "id": "411baea8",
   "metadata": {},
   "source": [
    "## Comparison of the top 2 models with SMOTE\n",
    "After comparison the top 2 models we obtained were the Logistic Regression Model and the Random Forest model due to their strong metrics especially the F1-score for theminority class in the RandomForest model\n",
    "Since class imbalance is a major hinderance within our model we decided to apply SMOTE to deal with it to see whether it will improve our metrics and which will perform the best of the two"
   ]
  },
  {
   "cell_type": "code",
   "execution_count": null,
   "id": "04b3555d",
   "metadata": {},
   "outputs": [],
   "source": [
    "# Loading BERT embeddings\n",
    "# X_train = np.load('X_train_bert.npy')\n",
    "# X_test = np.load('X_test_bert.npy')\n",
    "\n"
   ]
  },
  {
   "cell_type": "markdown",
   "id": "8979802a",
   "metadata": {},
   "source": [
    "### Defining evaluation functions\n",
    "\n",
    "We define evaluation functions  to ensure a consistent, reusable, and efficient process for training and evaluating different machine learning models. \n",
    "This function simplifies the workflow by including optional SMOTE application for handling class imbalance, standardizes performance reporting using key metrics like the weighted F1-score"
   ]
  },
  {
   "cell_type": "code",
   "execution_count": null,
   "id": "78cee7d9",
   "metadata": {},
   "outputs": [],
   "source": [
    "# def evaluate_model(model, X_train, y_train, X_test, y_test, use_smote=False):\n",
    "#     if use_smote:\n",
    "#         smote = SMOTE(random_state=42)\n",
    "#         X_train_res, y_train_res = smote.fit_resample(X_train, y_train)\n",
    "#         print(f\"SMOTE Applied: Original={len(y_train)}, Resampled={len(y_train_res)}\")\n",
    "#     else:\n",
    "#         X_train_res, y_train_res = X_train, y_train\n",
    "    \n",
    "#     model.fit(X_train_res, y_train_res)\n",
    "#     y_pred = model.predict(X_test)\n",
    "#     f1 = f1_score(y_test, y_pred, average='weighted')\n",
    "    \n",
    "#     print(f\"{'With' if use_smote else 'Without'} SMOTE - F1 Score: {f1:.4f}\")\n",
    "#     print(classification_report(y_test, y_pred))\n",
    "    \n",
    "#     return f1\n"
   ]
  },
  {
   "cell_type": "markdown",
   "id": "b65488c4",
   "metadata": {},
   "source": [
    "#### Model comparisons"
   ]
  },
  {
   "cell_type": "code",
   "execution_count": null,
   "id": "493e59df",
   "metadata": {},
   "outputs": [
    {
     "name": "stdout",
     "output_type": "stream",
     "text": [
      "\n",
      "----- Logistic Regression -----\n",
      "Without SMOTE - F1 Score: 0.6280\n",
      "              precision    recall  f1-score   support\n",
      "\n",
      "           0       0.89      0.61      0.72      7271\n",
      "           1       0.28      0.44      0.34      1709\n",
      "           2       0.21      0.62      0.31       636\n",
      "\n",
      "    accuracy                           0.58      9616\n",
      "   macro avg       0.46      0.56      0.46      9616\n",
      "weighted avg       0.73      0.58      0.63      9616\n",
      "\n",
      "SMOTE Applied: Original=38460, Resampled=87243\n",
      "With SMOTE - F1 Score: 0.6337\n",
      "              precision    recall  f1-score   support\n",
      "\n",
      "           0       0.88      0.63      0.73      7271\n",
      "           1       0.27      0.43      0.34      1709\n",
      "           2       0.21      0.58      0.31       636\n",
      "\n",
      "    accuracy                           0.59      9616\n",
      "   macro avg       0.45      0.55      0.46      9616\n",
      "weighted avg       0.73      0.59      0.63      9616\n",
      "\n",
      "\n",
      "----- Random Forest -----\n",
      "Without SMOTE - F1 Score: 0.6577\n",
      "              precision    recall  f1-score   support\n",
      "\n",
      "           0       0.76      1.00      0.86      7271\n",
      "           1       0.46      0.01      0.01      1709\n",
      "           2       0.55      0.03      0.05       636\n",
      "\n",
      "    accuracy                           0.76      9616\n",
      "   macro avg       0.59      0.34      0.31      9616\n",
      "weighted avg       0.69      0.76      0.66      9616\n",
      "\n",
      "SMOTE Applied: Original=38460, Resampled=87243\n",
      "With SMOTE - F1 Score: 0.6929\n",
      "              precision    recall  f1-score   support\n",
      "\n",
      "           0       0.80      0.88      0.84      7271\n",
      "           1       0.29      0.21      0.24      1709\n",
      "           2       0.30      0.22      0.25       636\n",
      "\n",
      "    accuracy                           0.71      9616\n",
      "   macro avg       0.46      0.43      0.44      9616\n",
      "weighted avg       0.68      0.71      0.69      9616\n",
      "\n"
     ]
    }
   ],
   "source": [
    "# from sklearn.metrics import f1_score\n",
    "# from imblearn.over_sampling import SMOTE\n",
    "\n",
    "# lr = LogisticRegression(max_iter=1000, class_weight='balanced')\n",
    "# rf = RandomForestClassifier(n_estimators=100, class_weight='balanced', random_state=42)\n",
    "\n",
    "# print(\"\\n----- Logistic Regression -----\")\n",
    "# f1_lr_no_smote = evaluate_model(lr, X_train, y_train, X_test, y_test, use_smote=False)\n",
    "# f1_lr_smote = evaluate_model(lr, X_train, y_train, X_test, y_test, use_smote=True)\n",
    "\n",
    "# print(\"\\n----- Random Forest -----\")\n",
    "# f1_rf_no_smote = evaluate_model(rf, X_train, y_train, X_test, y_test, use_smote=False)\n",
    "# f1_rf_smote = evaluate_model(rf, X_train, y_train, X_test, y_test, use_smote=True)\n"
   ]
  },
  {
   "cell_type": "markdown",
   "id": "03775e0f",
   "metadata": {},
   "source": []
  },
  {
   "cell_type": "markdown",
   "id": "54250cab",
   "metadata": {},
   "source": [
    "### Hybrid method"
   ]
  }
 ],
 "metadata": {
  "kernelspec": {
   "display_name": "Python (learn-env)",
   "language": "python",
   "name": "learn-env"
  },
  "language_info": {
   "codemirror_mode": {
    "name": "ipython",
    "version": 3
   },
   "file_extension": ".py",
   "mimetype": "text/x-python",
   "name": "python",
   "nbconvert_exporter": "python",
   "pygments_lexer": "ipython3",
   "version": "3.11.7"
  }
 },
 "nbformat": 4,
 "nbformat_minor": 5
}
