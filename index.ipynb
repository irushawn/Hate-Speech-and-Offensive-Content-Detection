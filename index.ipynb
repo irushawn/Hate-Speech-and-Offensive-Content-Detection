{
 "cells": [
  {
   "cell_type": "markdown",
   "id": "c7713434",
   "metadata": {},
   "source": [
    "# **Hate Speech and Offensive Content Detection**\n",
    "\n",
    "## **1. Business Understanding**\n",
    "### *Overview*\n",
    "In Kenya's digital landscape, Twitter plays a critical role in shaping public discourse, especially during election seasons and politically charged events. While it provides a platform for civic engagement, it also facilitates the spread of hate speech, tribalism, and inciting language. This content can escalate tensions and contribute to real-world conflict if left unchecked.\n",
    "### *Challenges*\n",
    "Manually moderating large volumes of tweets is inefficient and prone to bias. Current moderation systems struggle to scale and often miss localized forms of hate speech, particularly those specific to Kenyan cultural and political contexts. There is also a lack of automated tools specifically designed to detect offensive content within Kenyan tweets.\n",
    "### *Proposed Solution*\n",
    "Develop a machine learning model that can automatically categorize tweets into three classes: hate speech, offensive content, or neither. The model will serve as a content flagging tool for:\n",
    "Early detection of harmful tweets during elections or national events.\n",
    "Support for content moderation teams at media outlets, regulatory bodies, and social platforms.\n",
    "Enhancing digital safety by tracking the evolution and spread of dangerous speech trends.\n",
    "\n",
    "\n",
    "An effective classification model tailored to the Kenyan context can reduce the spread of inciting content and improve the quality of online public discourse. This system would be vital in promoting peace, especially during sensitive periods like elections.\n",
    "\n",
    "### *Problem Statement*\n",
    "There is an urgent need for a localized and scalable hate speech detection system to flag inciting and offensive tweets in Kenya, particularly during political periods where online speech can incite real-world unrest.\n",
    "\n",
    "### *Objectives*\n",
    "- To evaluate the most common terms or phrases used in inciting tweets.\n",
    "- To build a multi-class classification model that labels tweets as hate speech, offensive, or neither.\n",
    "- To evaluate model performance across different algorithms using accuracy.\n",
    "- To Deploy the best performing model using Streamlit\n",
    "\n",
    "## **2 Data Understanding**\n",
    "The dataset used in this project, HateSpeech_Kenya.csv, was sourced from Kaggle, a well-known platform for sharing datasets and machine learning challenges. It contains approximately 48,000 tweets labeled for sentiment and hate speech, specifically focused on the Kenyan social and political context.\n",
    "Key Features of the Data:\n",
    "`tweet`: The raw text of the tweet . this forms the primary input for natural language processing and classification tasks.\n",
    "`label`: The target variable, where 0 represents neutral content and 1 represents offensive content and 2 represent hate speech.\n",
    "\n",
    "This dataset is directly aligned with the project goal of developing a machine learning model to detect and categorize hate speech in Kenyan tweets. The inclusion of localized language, real-world offensive content, and metadata allows the model to learn patterns specific to the Kenyan context.\n"
   ]
  },
  {
   "cell_type": "markdown",
   "id": "865dc7e5",
   "metadata": {},
   "source": [
    "### *Importing Dependencies*"
   ]
  },
  {
   "cell_type": "code",
   "execution_count": 1,
   "id": "202a23a9",
   "metadata": {},
   "outputs": [
    {
     "name": "stderr",
     "output_type": "stream",
     "text": [
      "[nltk_data] Downloading package wordnet to\n",
      "[nltk_data]     C:\\Users\\shawn\\AppData\\Roaming\\nltk_data...\n",
      "[nltk_data]   Package wordnet is already up-to-date!\n"
     ]
    }
   ],
   "source": [
    "# Data Manipulation\n",
    "import pandas as pd\n",
    "import numpy as np\n",
    "\n",
    "# Text Preprocessing\n",
    "import re\n",
    "import string\n",
    "\n",
    "# Visualization\n",
    "import matplotlib.pyplot as plt\n",
    "import seaborn as sns\n",
    "\n",
    "# NLP Utilities\n",
    "import nltk\n",
    "from nltk.corpus import stopwords\n",
    "from nltk.stem.wordnet import WordNetLemmatizer\n",
    "from nltk import word_tokenize\n",
    "from nltk import FreqDist\n",
    "nltk.download('wordnet')\n",
    "from nltk.tokenize import RegexpTokenizer\n",
    "from nltk.stem import PorterStemmer\n",
    "\n",
    "# Feature Extraction\n",
    "from sklearn.feature_extraction.text import TfidfVectorizer\n",
    "\n",
    "# Machine Learning Models\n",
    "from sklearn.model_selection import train_test_split\n",
    "from sklearn.linear_model import LogisticRegression\n",
    "from sklearn.ensemble import RandomForestClassifier\n",
    "from xgboost import XGBClassifier\n",
    "from sklearn.metrics import classification_report, confusion_matrix, accuracy_score\n",
    "\n",
    "# Filter Warnings\n",
    "import warnings\n",
    "warnings.filterwarnings(\"ignore\")\n",
    "%matplotlib inline\n"
   ]
  },
  {
   "cell_type": "markdown",
   "id": "f690bde6",
   "metadata": {},
   "source": [
    "## **3 Data Preparation**\n"
   ]
  },
  {
   "cell_type": "code",
   "execution_count": 2,
   "id": "1c776a3d",
   "metadata": {},
   "outputs": [
    {
     "data": {
      "text/html": [
       "<div>\n",
       "<style scoped>\n",
       "    .dataframe tbody tr th:only-of-type {\n",
       "        vertical-align: middle;\n",
       "    }\n",
       "\n",
       "    .dataframe tbody tr th {\n",
       "        vertical-align: top;\n",
       "    }\n",
       "\n",
       "    .dataframe thead th {\n",
       "        text-align: right;\n",
       "    }\n",
       "</style>\n",
       "<table border=\"1\" class=\"dataframe\">\n",
       "  <thead>\n",
       "    <tr style=\"text-align: right;\">\n",
       "      <th></th>\n",
       "      <th>hate_speech</th>\n",
       "      <th>offensive_language</th>\n",
       "      <th>neither</th>\n",
       "      <th>Class</th>\n",
       "      <th>Tweet</th>\n",
       "      <th>Label</th>\n",
       "    </tr>\n",
       "  </thead>\n",
       "  <tbody>\n",
       "    <tr>\n",
       "      <th>48071</th>\n",
       "      <td>0</td>\n",
       "      <td>0</td>\n",
       "      <td>2</td>\n",
       "      <td>0</td>\n",
       "      <td>This is exactly what Moses Kuria &amp; ilk are doi...</td>\n",
       "      <td>Neutral</td>\n",
       "    </tr>\n",
       "    <tr>\n",
       "      <th>48072</th>\n",
       "      <td>0</td>\n",
       "      <td>0</td>\n",
       "      <td>2</td>\n",
       "      <td>0</td>\n",
       "      <td>This is exactly what Kenyans are going through...</td>\n",
       "      <td>Neutral</td>\n",
       "    </tr>\n",
       "    <tr>\n",
       "      <th>48073</th>\n",
       "      <td>0</td>\n",
       "      <td>0</td>\n",
       "      <td>2</td>\n",
       "      <td>0</td>\n",
       "      <td>This is exactly what is wrong with this countr...</td>\n",
       "      <td>Neutral</td>\n",
       "    </tr>\n",
       "    <tr>\n",
       "      <th>48074</th>\n",
       "      <td>1</td>\n",
       "      <td>0</td>\n",
       "      <td>2</td>\n",
       "      <td>0</td>\n",
       "      <td>This is exactly the same thing. Well the only ...</td>\n",
       "      <td>Neutral</td>\n",
       "    </tr>\n",
       "    <tr>\n",
       "      <th>48075</th>\n",
       "      <td>0</td>\n",
       "      <td>1</td>\n",
       "      <td>2</td>\n",
       "      <td>0</td>\n",
       "      <td>This is exactly how Luos feel in this country ...</td>\n",
       "      <td>Neutral</td>\n",
       "    </tr>\n",
       "  </tbody>\n",
       "</table>\n",
       "</div>"
      ],
      "text/plain": [
       "       hate_speech  offensive_language  neither  Class  \\\n",
       "48071            0                   0        2      0   \n",
       "48072            0                   0        2      0   \n",
       "48073            0                   0        2      0   \n",
       "48074            1                   0        2      0   \n",
       "48075            0                   1        2      0   \n",
       "\n",
       "                                                   Tweet    Label  \n",
       "48071  This is exactly what Moses Kuria & ilk are doi...  Neutral  \n",
       "48072  This is exactly what Kenyans are going through...  Neutral  \n",
       "48073  This is exactly what is wrong with this countr...  Neutral  \n",
       "48074  This is exactly the same thing. Well the only ...  Neutral  \n",
       "48075  This is exactly how Luos feel in this country ...  Neutral  "
      ]
     },
     "execution_count": 2,
     "metadata": {},
     "output_type": "execute_result"
    }
   ],
   "source": [
    "# Loading the dataset, Mapping Class with respective Labels\n",
    "df = pd.read_csv('HateSpeech_Kenya.csv')\n",
    "df['Tweet'] = df['Tweet'].apply(lambda x: ' '.join(eval(x)) if isinstance(x, str) else x)\n",
    "label_map = {0: 'Neutral', 1: 'Offensive', 2: 'Hate Speech'}\n",
    "df['Label'] = df['Class'].map(label_map)\n",
    "df.tail()\n"
   ]
  },
  {
   "cell_type": "markdown",
   "id": "997b2b8d",
   "metadata": {},
   "source": [
    "### *Extracting the Relevant Columns*"
   ]
  },
  {
   "cell_type": "code",
   "execution_count": 3,
   "id": "9b02d57f",
   "metadata": {},
   "outputs": [
    {
     "data": {
      "text/html": [
       "<div>\n",
       "<style scoped>\n",
       "    .dataframe tbody tr th:only-of-type {\n",
       "        vertical-align: middle;\n",
       "    }\n",
       "\n",
       "    .dataframe tbody tr th {\n",
       "        vertical-align: top;\n",
       "    }\n",
       "\n",
       "    .dataframe thead th {\n",
       "        text-align: right;\n",
       "    }\n",
       "</style>\n",
       "<table border=\"1\" class=\"dataframe\">\n",
       "  <thead>\n",
       "    <tr style=\"text-align: right;\">\n",
       "      <th></th>\n",
       "      <th>Tweet</th>\n",
       "      <th>Class</th>\n",
       "      <th>Label</th>\n",
       "    </tr>\n",
       "  </thead>\n",
       "  <tbody>\n",
       "    <tr>\n",
       "      <th>0</th>\n",
       "      <td>The political elite are in desperation. Ordina...</td>\n",
       "      <td>0</td>\n",
       "      <td>Neutral</td>\n",
       "    </tr>\n",
       "    <tr>\n",
       "      <th>1</th>\n",
       "      <td>Am just curious the only people who are callin...</td>\n",
       "      <td>0</td>\n",
       "      <td>Neutral</td>\n",
       "    </tr>\n",
       "    <tr>\n",
       "      <th>2</th>\n",
       "      <td>USERNAME_3 the area politicians are the one to...</td>\n",
       "      <td>0</td>\n",
       "      <td>Neutral</td>\n",
       "    </tr>\n",
       "    <tr>\n",
       "      <th>3</th>\n",
       "      <td>War expected in Nakuru if something is not don...</td>\n",
       "      <td>0</td>\n",
       "      <td>Neutral</td>\n",
       "    </tr>\n",
       "    <tr>\n",
       "      <th>4</th>\n",
       "      <td>USERNAME_4 tells kikuyus activists that they a...</td>\n",
       "      <td>0</td>\n",
       "      <td>Neutral</td>\n",
       "    </tr>\n",
       "  </tbody>\n",
       "</table>\n",
       "</div>"
      ],
      "text/plain": [
       "                                               Tweet  Class    Label\n",
       "0  The political elite are in desperation. Ordina...      0  Neutral\n",
       "1  Am just curious the only people who are callin...      0  Neutral\n",
       "2  USERNAME_3 the area politicians are the one to...      0  Neutral\n",
       "3  War expected in Nakuru if something is not don...      0  Neutral\n",
       "4  USERNAME_4 tells kikuyus activists that they a...      0  Neutral"
      ]
     },
     "execution_count": 3,
     "metadata": {},
     "output_type": "execute_result"
    }
   ],
   "source": [
    "new_df = df[['Tweet', 'Class', 'Label']]\n",
    "new_df.head()"
   ]
  },
  {
   "cell_type": "markdown",
   "id": "455fe431",
   "metadata": {},
   "source": [
    "### *Dataset Summary*"
   ]
  },
  {
   "cell_type": "code",
   "execution_count": 4,
   "id": "440ab77b",
   "metadata": {},
   "outputs": [
    {
     "name": "stdout",
     "output_type": "stream",
     "text": [
      "<class 'pandas.core.frame.DataFrame'>\n",
      "RangeIndex: 48076 entries, 0 to 48075\n",
      "Data columns (total 3 columns):\n",
      " #   Column  Non-Null Count  Dtype \n",
      "---  ------  --------------  ----- \n",
      " 0   Tweet   48076 non-null  object\n",
      " 1   Class   48076 non-null  int64 \n",
      " 2   Label   48076 non-null  object\n",
      "dtypes: int64(1), object(2)\n",
      "memory usage: 1.1+ MB\n"
     ]
    }
   ],
   "source": [
    "new_df.info()"
   ]
  },
  {
   "cell_type": "markdown",
   "id": "89aa0bc9",
   "metadata": {},
   "source": [
    "### *Checking for Duplicates*"
   ]
  },
  {
   "cell_type": "code",
   "execution_count": 5,
   "id": "39853fae",
   "metadata": {},
   "outputs": [
    {
     "data": {
      "text/plain": [
       "0"
      ]
     },
     "execution_count": 5,
     "metadata": {},
     "output_type": "execute_result"
    }
   ],
   "source": [
    "new_df.duplicated().sum()  # Check for duplicates (entire DataFrame)"
   ]
  },
  {
   "cell_type": "code",
   "execution_count": 6,
   "id": "2cd429fd",
   "metadata": {},
   "outputs": [],
   "source": [
    "new_df.drop_duplicates(inplace=True)  # Drop duplicates"
   ]
  },
  {
   "cell_type": "markdown",
   "id": "df0e2fac",
   "metadata": {},
   "source": [
    "### *Feature Engineering*"
   ]
  },
  {
   "cell_type": "code",
   "execution_count": 7,
   "id": "88efa9f9",
   "metadata": {},
   "outputs": [
    {
     "data": {
      "text/html": [
       "<div>\n",
       "<style scoped>\n",
       "    .dataframe tbody tr th:only-of-type {\n",
       "        vertical-align: middle;\n",
       "    }\n",
       "\n",
       "    .dataframe tbody tr th {\n",
       "        vertical-align: top;\n",
       "    }\n",
       "\n",
       "    .dataframe thead th {\n",
       "        text-align: right;\n",
       "    }\n",
       "</style>\n",
       "<table border=\"1\" class=\"dataframe\">\n",
       "  <thead>\n",
       "    <tr style=\"text-align: right;\">\n",
       "      <th></th>\n",
       "      <th>Tweet</th>\n",
       "      <th>Class</th>\n",
       "      <th>Label</th>\n",
       "      <th>char</th>\n",
       "      <th>words</th>\n",
       "      <th>sentences</th>\n",
       "    </tr>\n",
       "  </thead>\n",
       "  <tbody>\n",
       "    <tr>\n",
       "      <th>12578</th>\n",
       "      <td>WOLD LEADERS HAVE NOT FREED TIBET #CallBankofC...</td>\n",
       "      <td>0</td>\n",
       "      <td>Neutral</td>\n",
       "      <td>264</td>\n",
       "      <td>36</td>\n",
       "      <td>1</td>\n",
       "    </tr>\n",
       "    <tr>\n",
       "      <th>47744</th>\n",
       "      <td>This pic represents well how kalenjins are fol...</td>\n",
       "      <td>0</td>\n",
       "      <td>Neutral</td>\n",
       "      <td>71</td>\n",
       "      <td>11</td>\n",
       "      <td>1</td>\n",
       "    </tr>\n",
       "    <tr>\n",
       "      <th>46905</th>\n",
       "      <td>Trends Judiciary Supreme Court Chief Justice M...</td>\n",
       "      <td>0</td>\n",
       "      <td>Neutral</td>\n",
       "      <td>127</td>\n",
       "      <td>17</td>\n",
       "      <td>1</td>\n",
       "    </tr>\n",
       "    <tr>\n",
       "      <th>26373</th>\n",
       "      <td>warudi kwao team mafisi wanakula na kuachilia tu</td>\n",
       "      <td>1</td>\n",
       "      <td>Offensive</td>\n",
       "      <td>48</td>\n",
       "      <td>8</td>\n",
       "      <td>1</td>\n",
       "    </tr>\n",
       "    <tr>\n",
       "      <th>38352</th>\n",
       "      <td>Kikuyus are trending for whatever reason exact...</td>\n",
       "      <td>0</td>\n",
       "      <td>Neutral</td>\n",
       "      <td>103</td>\n",
       "      <td>19</td>\n",
       "      <td>1</td>\n",
       "    </tr>\n",
       "    <tr>\n",
       "      <th>20980</th>\n",
       "      <td>This is Masielo AP camp in Bumula constituency...</td>\n",
       "      <td>0</td>\n",
       "      <td>Neutral</td>\n",
       "      <td>138</td>\n",
       "      <td>18</td>\n",
       "      <td>2</td>\n",
       "    </tr>\n",
       "    <tr>\n",
       "      <th>25257</th>\n",
       "      <td>Bcoz ur men R dying of cheap liquor and you wa...</td>\n",
       "      <td>2</td>\n",
       "      <td>Hate Speech</td>\n",
       "      <td>140</td>\n",
       "      <td>29</td>\n",
       "      <td>2</td>\n",
       "    </tr>\n",
       "    <tr>\n",
       "      <th>22874</th>\n",
       "      <td>We have never heard such from Central it means...</td>\n",
       "      <td>2</td>\n",
       "      <td>Hate Speech</td>\n",
       "      <td>103</td>\n",
       "      <td>20</td>\n",
       "      <td>2</td>\n",
       "    </tr>\n",
       "    <tr>\n",
       "      <th>42388</th>\n",
       "      <td>Without Prejudice. Some guys are beyond redemp...</td>\n",
       "      <td>0</td>\n",
       "      <td>Neutral</td>\n",
       "      <td>109</td>\n",
       "      <td>20</td>\n",
       "      <td>4</td>\n",
       "    </tr>\n",
       "    <tr>\n",
       "      <th>11656</th>\n",
       "      <td>You are a great leader I respect your views an...</td>\n",
       "      <td>0</td>\n",
       "      <td>Neutral</td>\n",
       "      <td>129</td>\n",
       "      <td>23</td>\n",
       "      <td>2</td>\n",
       "    </tr>\n",
       "  </tbody>\n",
       "</table>\n",
       "</div>"
      ],
      "text/plain": [
       "                                                   Tweet  Class        Label  \\\n",
       "12578  WOLD LEADERS HAVE NOT FREED TIBET #CallBankofC...      0      Neutral   \n",
       "47744  This pic represents well how kalenjins are fol...      0      Neutral   \n",
       "46905  Trends Judiciary Supreme Court Chief Justice M...      0      Neutral   \n",
       "26373   warudi kwao team mafisi wanakula na kuachilia tu      1    Offensive   \n",
       "38352  Kikuyus are trending for whatever reason exact...      0      Neutral   \n",
       "20980  This is Masielo AP camp in Bumula constituency...      0      Neutral   \n",
       "25257  Bcoz ur men R dying of cheap liquor and you wa...      2  Hate Speech   \n",
       "22874  We have never heard such from Central it means...      2  Hate Speech   \n",
       "42388  Without Prejudice. Some guys are beyond redemp...      0      Neutral   \n",
       "11656  You are a great leader I respect your views an...      0      Neutral   \n",
       "\n",
       "       char  words  sentences  \n",
       "12578   264     36          1  \n",
       "47744    71     11          1  \n",
       "46905   127     17          1  \n",
       "26373    48      8          1  \n",
       "38352   103     19          1  \n",
       "20980   138     18          2  \n",
       "25257   140     29          2  \n",
       "22874   103     20          2  \n",
       "42388   109     20          4  \n",
       "11656   129     23          2  "
      ]
     },
     "execution_count": 7,
     "metadata": {},
     "output_type": "execute_result"
    }
   ],
   "source": [
    "# creating columns for number of characters, number of sentences and number of words\n",
    "new_df[\"char\"]=new_df[\"Tweet\"].apply(lambda x:len(x))\n",
    "new_df[\"words\"]=new_df[\"Tweet\"].apply(lambda x:nltk.word_tokenize(x)).apply(lambda x:len(x))\n",
    "new_df[\"sentences\"]=new_df[\"Tweet\"].apply(lambda x:nltk.sent_tokenize(x)).apply(lambda x:len(x))\n",
    "new_df.sample(10)"
   ]
  },
  {
   "cell_type": "markdown",
   "id": "23124e29",
   "metadata": {},
   "source": [
    "### *Summary Statistics*"
   ]
  },
  {
   "cell_type": "code",
   "execution_count": 8,
   "id": "e4632197",
   "metadata": {},
   "outputs": [
    {
     "data": {
      "text/html": [
       "<div>\n",
       "<style scoped>\n",
       "    .dataframe tbody tr th:only-of-type {\n",
       "        vertical-align: middle;\n",
       "    }\n",
       "\n",
       "    .dataframe tbody tr th {\n",
       "        vertical-align: top;\n",
       "    }\n",
       "\n",
       "    .dataframe thead th {\n",
       "        text-align: right;\n",
       "    }\n",
       "</style>\n",
       "<table border=\"1\" class=\"dataframe\">\n",
       "  <thead>\n",
       "    <tr style=\"text-align: right;\">\n",
       "      <th></th>\n",
       "      <th>Class</th>\n",
       "      <th>char</th>\n",
       "      <th>words</th>\n",
       "      <th>sentences</th>\n",
       "    </tr>\n",
       "  </thead>\n",
       "  <tbody>\n",
       "    <tr>\n",
       "      <th>count</th>\n",
       "      <td>48076.000000</td>\n",
       "      <td>48076.000000</td>\n",
       "      <td>48076.000000</td>\n",
       "      <td>48076.000000</td>\n",
       "    </tr>\n",
       "    <tr>\n",
       "      <th>mean</th>\n",
       "      <td>0.310030</td>\n",
       "      <td>110.663637</td>\n",
       "      <td>20.334054</td>\n",
       "      <td>1.798174</td>\n",
       "    </tr>\n",
       "    <tr>\n",
       "      <th>std</th>\n",
       "      <td>0.588431</td>\n",
       "      <td>48.989947</td>\n",
       "      <td>9.505972</td>\n",
       "      <td>0.991620</td>\n",
       "    </tr>\n",
       "    <tr>\n",
       "      <th>min</th>\n",
       "      <td>0.000000</td>\n",
       "      <td>1.000000</td>\n",
       "      <td>1.000000</td>\n",
       "      <td>1.000000</td>\n",
       "    </tr>\n",
       "    <tr>\n",
       "      <th>25%</th>\n",
       "      <td>0.000000</td>\n",
       "      <td>79.000000</td>\n",
       "      <td>14.000000</td>\n",
       "      <td>1.000000</td>\n",
       "    </tr>\n",
       "    <tr>\n",
       "      <th>50%</th>\n",
       "      <td>0.000000</td>\n",
       "      <td>111.000000</td>\n",
       "      <td>20.000000</td>\n",
       "      <td>2.000000</td>\n",
       "    </tr>\n",
       "    <tr>\n",
       "      <th>75%</th>\n",
       "      <td>0.000000</td>\n",
       "      <td>135.000000</td>\n",
       "      <td>25.000000</td>\n",
       "      <td>2.000000</td>\n",
       "    </tr>\n",
       "    <tr>\n",
       "      <th>max</th>\n",
       "      <td>2.000000</td>\n",
       "      <td>327.000000</td>\n",
       "      <td>68.000000</td>\n",
       "      <td>14.000000</td>\n",
       "    </tr>\n",
       "  </tbody>\n",
       "</table>\n",
       "</div>"
      ],
      "text/plain": [
       "              Class          char         words     sentences\n",
       "count  48076.000000  48076.000000  48076.000000  48076.000000\n",
       "mean       0.310030    110.663637     20.334054      1.798174\n",
       "std        0.588431     48.989947      9.505972      0.991620\n",
       "min        0.000000      1.000000      1.000000      1.000000\n",
       "25%        0.000000     79.000000     14.000000      1.000000\n",
       "50%        0.000000    111.000000     20.000000      2.000000\n",
       "75%        0.000000    135.000000     25.000000      2.000000\n",
       "max        2.000000    327.000000     68.000000     14.000000"
      ]
     },
     "execution_count": 8,
     "metadata": {},
     "output_type": "execute_result"
    }
   ],
   "source": [
    "new_df.describe()"
   ]
  },
  {
   "cell_type": "markdown",
   "id": "0d2d5de3",
   "metadata": {},
   "source": [
    "### *Check Target Values*"
   ]
  },
  {
   "cell_type": "code",
   "execution_count": 9,
   "id": "c8afd25d",
   "metadata": {},
   "outputs": [
    {
     "name": "stdout",
     "output_type": "stream",
     "text": [
      "Unique values in Class: [0 1 2]\n",
      "Unique values in Label: ['Neutral' 'Offensive' 'Hate Speech']\n"
     ]
    }
   ],
   "source": [
    "features = ['Class', 'Label']\n",
    "for feature in features:\n",
    "    print(f\"Unique values in {feature}: {new_df[feature].unique()}\")"
   ]
  },
  {
   "cell_type": "markdown",
   "id": "9997ca9f",
   "metadata": {},
   "source": [
    "### *Text Cleaning*\n",
    "\n",
    "Raw tweets often contain noise such as:\n",
    "- URLs\n",
    "- Mentions\n",
    "- Hashtags\n",
    "- Emojis and non-alphanumeric characters\n",
    "\n",
    "We'll apply basic text preprocessing to clean the tweet data.\n"
   ]
  },
  {
   "cell_type": "code",
   "execution_count": 10,
   "id": "8ca5a6f4",
   "metadata": {},
   "outputs": [
    {
     "data": {
      "text/html": [
       "<div>\n",
       "<style scoped>\n",
       "    .dataframe tbody tr th:only-of-type {\n",
       "        vertical-align: middle;\n",
       "    }\n",
       "\n",
       "    .dataframe tbody tr th {\n",
       "        vertical-align: top;\n",
       "    }\n",
       "\n",
       "    .dataframe thead th {\n",
       "        text-align: right;\n",
       "    }\n",
       "</style>\n",
       "<table border=\"1\" class=\"dataframe\">\n",
       "  <thead>\n",
       "    <tr style=\"text-align: right;\">\n",
       "      <th></th>\n",
       "      <th>Tweet</th>\n",
       "      <th>Class</th>\n",
       "      <th>Label</th>\n",
       "      <th>char</th>\n",
       "      <th>words</th>\n",
       "      <th>sentences</th>\n",
       "      <th>Clean_Tweet</th>\n",
       "    </tr>\n",
       "  </thead>\n",
       "  <tbody>\n",
       "    <tr>\n",
       "      <th>0</th>\n",
       "      <td>The political elite are in desperation. Ordina...</td>\n",
       "      <td>0</td>\n",
       "      <td>Neutral</td>\n",
       "      <td>93</td>\n",
       "      <td>14</td>\n",
       "      <td>2</td>\n",
       "      <td>the political elite are in desperation ordinar...</td>\n",
       "    </tr>\n",
       "    <tr>\n",
       "      <th>1</th>\n",
       "      <td>Am just curious the only people who are callin...</td>\n",
       "      <td>0</td>\n",
       "      <td>Neutral</td>\n",
       "      <td>138</td>\n",
       "      <td>26</td>\n",
       "      <td>1</td>\n",
       "      <td>am just curious the only people who are callin...</td>\n",
       "    </tr>\n",
       "    <tr>\n",
       "      <th>2</th>\n",
       "      <td>USERNAME_3 the area politicians are the one to...</td>\n",
       "      <td>0</td>\n",
       "      <td>Neutral</td>\n",
       "      <td>132</td>\n",
       "      <td>22</td>\n",
       "      <td>1</td>\n",
       "      <td>username the area politicians are the one to b...</td>\n",
       "    </tr>\n",
       "    <tr>\n",
       "      <th>3</th>\n",
       "      <td>War expected in Nakuru if something is not don...</td>\n",
       "      <td>0</td>\n",
       "      <td>Neutral</td>\n",
       "      <td>112</td>\n",
       "      <td>23</td>\n",
       "      <td>3</td>\n",
       "      <td>war expected in nakuru if something is not don...</td>\n",
       "    </tr>\n",
       "    <tr>\n",
       "      <th>4</th>\n",
       "      <td>USERNAME_4 tells kikuyus activists that they a...</td>\n",
       "      <td>0</td>\n",
       "      <td>Neutral</td>\n",
       "      <td>120</td>\n",
       "      <td>21</td>\n",
       "      <td>3</td>\n",
       "      <td>username tells kikuyus activists that they are...</td>\n",
       "    </tr>\n",
       "  </tbody>\n",
       "</table>\n",
       "</div>"
      ],
      "text/plain": [
       "                                               Tweet  Class    Label  char  \\\n",
       "0  The political elite are in desperation. Ordina...      0  Neutral    93   \n",
       "1  Am just curious the only people who are callin...      0  Neutral   138   \n",
       "2  USERNAME_3 the area politicians are the one to...      0  Neutral   132   \n",
       "3  War expected in Nakuru if something is not don...      0  Neutral   112   \n",
       "4  USERNAME_4 tells kikuyus activists that they a...      0  Neutral   120   \n",
       "\n",
       "   words  sentences                                        Clean_Tweet  \n",
       "0     14          2  the political elite are in desperation ordinar...  \n",
       "1     26          1  am just curious the only people who are callin...  \n",
       "2     22          1  username the area politicians are the one to b...  \n",
       "3     23          3  war expected in nakuru if something is not don...  \n",
       "4     21          3  username tells kikuyus activists that they are...  "
      ]
     },
     "execution_count": 10,
     "metadata": {},
     "output_type": "execute_result"
    }
   ],
   "source": [
    "def clean_text(text):\n",
    "    text = re.sub(r'http\\S+', '', text)  # remove URLs\n",
    "    item = re.sub(r'\\@\\w+|\\#', '', text)  # Remove mentions and hashtags \n",
    "    item = re.sub(r'[^\\w\\s]', '', text)  # Remove punctuation\n",
    "    text = re.sub(r'[^a-zA-Z\\s]', '', text)  # remove non-alphabetic\n",
    "    text = text.lower().strip()             # convert to lowercase and strip whitespace\n",
    "    return text\n",
    "\n",
    "new_df['Clean_Tweet'] = new_df['Tweet'].apply(clean_text)\n",
    "new_df.head()"
   ]
  },
  {
   "cell_type": "markdown",
   "id": "6ae26569",
   "metadata": {},
   "source": [
    "### EDA"
   ]
  },
  {
   "cell_type": "markdown",
   "id": "c6111978",
   "metadata": {},
   "source": [
    "We'll visualize class distribution, tweet lengths, and word frequencies to better understand the dataset."
   ]
  },
  {
   "cell_type": "code",
   "execution_count": 11,
   "id": "6d5eec27",
   "metadata": {},
   "outputs": [
    {
     "data": {
      "image/png": "[encoded data removed]",
      "text/plain": [
       "<Figure size 432x288 with 1 Axes>"
      ]
     },
     "metadata": {
      "needs_background": "light"
     },
     "output_type": "display_data"
    }
   ],
   "source": [
    "# Class distribution\n",
    "sns.countplot(data=new_df, x='Label')\n",
    "plt.title('Tweet Class Distribution')\n",
    "plt.show()\n"
   ]
  },
  {
   "cell_type": "markdown",
   "id": "8a46a809",
   "metadata": {},
   "source": [
    "### Box plot of the distribution of number of characters accross classes/label"
   ]
  },
  {
   "cell_type": "code",
   "execution_count": 25,
   "id": "2ec73de4",
   "metadata": {},
   "outputs": [
    {
     "data": {
      "image/png": "[encoded data removed]",
      "text/plain": [
       "<Figure size 720x432 with 1 Axes>"
      ]
     },
     "metadata": {
      "needs_background": "light"
     },
     "output_type": "display_data"
    }
   ],
   "source": [
    "\n",
    "plt.figure(figsize=(10, 6))\n",
    "sns.boxplot(\n",
    "    data=new_df,\n",
    "    x='Label',               \n",
    "    y='char') \n",
    "            \n",
    "plt.title='Character Count Distribution by Label'\n",
    "plt.xlabel='Label',\n",
    "plt.ylabel='Number of Characters'\n",
    "plt.show()\n",
    "\n"
   ]
  },
  {
   "cell_type": "markdown",
   "id": "f0572de3",
   "metadata": {},
   "source": [
    "### Box plot of the distribution of number of words accross classes/label"
   ]
  },
  {
   "cell_type": "code",
   "execution_count": 23,
   "id": "5df0b426",
   "metadata": {},
   "outputs": [
    {
     "data": {
      "image/png": "[encoded data removed]",
      "text/plain": [
       "<Figure size 720x432 with 1 Axes>"
      ]
     },
     "metadata": {
      "needs_background": "light"
     },
     "output_type": "display_data"
    }
   ],
   "source": [
    "plt.figure(figsize=(10, 6))\n",
    "sns.boxplot(\n",
    "    data=new_df,\n",
    "    x='Label',               \n",
    "    y='words') \n",
    "            \n",
    "plt.title='Character Count Distribution by Label'\n",
    "plt.xlabel='Label',\n",
    "plt.ylabel='Number of Words'\n",
    "plt.show()"
   ]
  },
  {
   "cell_type": "markdown",
   "id": "e1e16d23",
   "metadata": {},
   "source": [
    "### Box plot of the distribution of number of sentences accross classes/label"
   ]
  },
  {
   "cell_type": "code",
   "execution_count": 24,
   "id": "6b4d8139",
   "metadata": {},
   "outputs": [
    {
     "data": {
      "image/png": "[encoded data removed]",
      "text/plain": [
       "<Figure size 720x432 with 1 Axes>"
      ]
     },
     "metadata": {
      "needs_background": "light"
     },
     "output_type": "display_data"
    }
   ],
   "source": [
    "plt.figure(figsize=(10, 6))\n",
    "sns.boxplot(\n",
    "    data=new_df,\n",
    "    x='Label',               \n",
    "    y='sentences') \n",
    "            \n",
    "plt.title='Character Count Distribution by Label'\n",
    "plt.xlabel='Label',\n",
    "plt.ylabel='Number of Sentences'\n",
    "plt.show()"
   ]
  },
  {
   "cell_type": "markdown",
   "id": "987dbdfa",
   "metadata": {},
   "source": [
    "### Text preprocessing\n",
    "Tokenizzing , selecting words with 3 or more characters, removing stop words"
   ]
  },
  {
   "cell_type": "code",
   "execution_count": 26,
   "id": "19551ec0",
   "metadata": {},
   "outputs": [],
   "source": [
    "# Tokenizer that uses a regex pattern to select words with three or more characters\n",
    "tokenizer = RegexpTokenizer(r\"(?u)\\w{3,}\")\n",
    "\n",
    "# List of stopwords in English\n",
    "english_stopwords = stopwords.words('english')\n",
    "swahili_stopwords = [\n",
    "    \"a\", \"na\", \"ya\", \"kwa\", \"wa\", \"ni\", \"la\", \"ili\", \"katika\", \"juu\", \"chini\", \"kama\", \"pia\", \"hadi\", \"toka\",\n",
    "    \"lakini\", \"kwamba\", \"hata\", \"bado\", \"baada\", \"mbele\", \"nyuma\", \"tu\", \"tena\", \"sana\", \"zote\", \"wote\", \"sisi\",\n",
    "    \"wao\", \"wewe\", \"mimi\", \"yeye\", \"huu\", \"hii\", \"hawa\", \"hao\", \"hizo\", \"wale\", \"wetu\", \"wako\", \"wangu\", \"hivyo\",\n",
    "    \"au\", \"kuwa\", \"ame\", \"alikuwa\", \"walikuwa\", \"si\", \"ha\", \"ambapo\", \"kwani\", \"ndio\", \"bila\", \"kila\", \"baadhi\",\n",
    "    \"mara\", \"zaidi\", \"kati\", \"kupitia\"]\n",
    "\n",
    "sheng_stopwords = [\n",
    "    \"ati\", \"ajee\", \"aje\", \"manze\", \"yani\", \"venye\", \"vile\", \"niko\", \"uko\", \"ako\", \"nko\", \"si\", \"ni\", \"kaa\",\n",
    "    \"hivo\", \"ivo\", \"ngori\", \"ebu\", \"ah\", \"lo\", \"aa\", \"maze\", \"fiti\", \"dem\", \"boyie\", \"wasee\", \"mabeshte\", \"buda\",\n",
    "    \"brathe\", \"msee\", \"mresh\", \"jamaa\", \"bro\", \"sis\", \"sanaa\", \"kweli\", \"freshi\", \"mbogi\", \"hadi\", \"balaa\",\n",
    "    \"noma\", \"walai\", \"ju\", \"ama\", \"bado\", \"mbaya\", \"vile\", \"nani\", \"kitu\", \"place\", \"hio\", \"hiyo\", \"hii\", \"ile\",\n",
    "    \"nyinyi\", \"sisi\", \"mimi\", \"wewe\", \"wao\", \"yeye\"\n",
    "]\n",
    "\n",
    "# Combine all stopwords list\n",
    "stopwords_list = set(english_stopwords + swahili_stopwords + sheng_stopwords)\n",
    "\n",
    "# Use Lemmatizer\n",
    "lemmatizer = WordNetLemmatizer()"
   ]
  },
  {
   "cell_type": "code",
   "execution_count": 27,
   "metadata": {},
   "outputs": [],
   "source": [
    "def preprocess_text(text, tokenizer, stopwords_list, lemmatizer):\n",
    "    text = text.lower()\n",
    "    tokens = tokenizer.tokenize(text)\n",
    "    words = [word for word in tokens if word not in stopwords_list]\n",
    "    lemmatized_words = [lemmatizer.lemmatize(word) for word in words]\n",
    "    return lemmatized_words"
   ]
  },
  {
   "cell_type": "markdown",
   "id": "a1efa7bb",
   "metadata": {},
   "source": [
    "### Performing preprocessing on the clean tweet feature\n"
   ]
  },
  {
   "cell_type": "code",
   "execution_count": 28,
   "id": "724acc10",
   "metadata": {},
   "outputs": [
    {
     "data": {
      "text/plain": [
       "48071    [exactly, moses, kuria, ilk, say, negative, et...\n",
       "48072    [exactly, kenyan, going, thank, god, time, ric...\n",
       "48073    [exactly, wrong, country, kikuyus, cant, stand...\n",
       "48074    [exactly, thing, well, difference, kilifi, the...\n",
       "48075    [exactly, luo, feel, country, like, moses, kur...\n",
       "Name: Clean_Tweet, dtype: object"
      ]
     },
     "execution_count": 28,
     "metadata": {},
     "output_type": "execute_result"
    }
   ],
   "source": [
    "text_data = new_df['Clean_Tweet'].apply(lambda x: preprocess_text(x, tokenizer, stopwords_list, lemmatizer))\n",
    "text_data.tail()"
   ]
  },
  {
   "cell_type": "markdown",
   "metadata": {},
   "source": [
    "### Adding preprocessed tweet as a column"
   ]
  },
  {
   "cell_type": "code",
   "execution_count": 29,
   "id": "ff72ae1e",
   "metadata": {},
   "outputs": [
    {
     "data": {
      "text/html": [
       "<div>\n",
       "<style scoped>\n",
       "    .dataframe tbody tr th:only-of-type {\n",
       "        vertical-align: middle;\n",
       "    }\n",
       "\n",
       "    .dataframe tbody tr th {\n",
       "        vertical-align: top;\n",
       "    }\n",
       "\n",
       "    .dataframe thead th {\n",
       "        text-align: right;\n",
       "    }\n",
       "</style>\n",
       "<table border=\"1\" class=\"dataframe\">\n",
       "  <thead>\n",
       "    <tr style=\"text-align: right;\">\n",
       "      <th></th>\n",
       "      <th>Tweet</th>\n",
       "      <th>Class</th>\n",
       "      <th>Label</th>\n",
       "      <th>char</th>\n",
       "      <th>words</th>\n",
       "      <th>sentences</th>\n",
       "      <th>Clean_Tweet</th>\n",
       "      <th>Preprocessed_Tweet</th>\n",
       "    </tr>\n",
       "  </thead>\n",
       "  <tbody>\n",
       "    <tr>\n",
       "      <th>0</th>\n",
       "      <td>The political elite are in desperation. Ordina...</td>\n",
       "      <td>0</td>\n",
       "      <td>Neutral</td>\n",
       "      <td>93</td>\n",
       "      <td>14</td>\n",
       "      <td>2</td>\n",
       "      <td>the political elite are in desperation ordinar...</td>\n",
       "      <td>[political, elite, desperation, ordinary, kale...</td>\n",
       "    </tr>\n",
       "    <tr>\n",
       "      <th>1</th>\n",
       "      <td>Am just curious the only people who are callin...</td>\n",
       "      <td>0</td>\n",
       "      <td>Neutral</td>\n",
       "      <td>138</td>\n",
       "      <td>26</td>\n",
       "      <td>1</td>\n",
       "      <td>am just curious the only people who are callin...</td>\n",
       "      <td>[curious, people, calling, old, mad, kikuyus, ...</td>\n",
       "    </tr>\n",
       "    <tr>\n",
       "      <th>2</th>\n",
       "      <td>USERNAME_3 the area politicians are the one to...</td>\n",
       "      <td>0</td>\n",
       "      <td>Neutral</td>\n",
       "      <td>132</td>\n",
       "      <td>22</td>\n",
       "      <td>1</td>\n",
       "      <td>username the area politicians are the one to b...</td>\n",
       "      <td>[username, area, politician, one, blame, coz, ...</td>\n",
       "    </tr>\n",
       "    <tr>\n",
       "      <th>3</th>\n",
       "      <td>War expected in Nakuru if something is not don...</td>\n",
       "      <td>0</td>\n",
       "      <td>Neutral</td>\n",
       "      <td>112</td>\n",
       "      <td>23</td>\n",
       "      <td>3</td>\n",
       "      <td>war expected in nakuru if something is not don...</td>\n",
       "      <td>[war, expected, nakuru, something, done, luo, ...</td>\n",
       "    </tr>\n",
       "    <tr>\n",
       "      <th>4</th>\n",
       "      <td>USERNAME_4 tells kikuyus activists that they a...</td>\n",
       "      <td>0</td>\n",
       "      <td>Neutral</td>\n",
       "      <td>120</td>\n",
       "      <td>21</td>\n",
       "      <td>3</td>\n",
       "      <td>username tells kikuyus activists that they are...</td>\n",
       "      <td>[username, tell, kikuyus, activist, targeted, ...</td>\n",
       "    </tr>\n",
       "  </tbody>\n",
       "</table>\n",
       "</div>"
      ],
      "text/plain": [
       "                                               Tweet  Class    Label  char  \\\n",
       "0  The political elite are in desperation. Ordina...      0  Neutral    93   \n",
       "1  Am just curious the only people who are callin...      0  Neutral   138   \n",
       "2  USERNAME_3 the area politicians are the one to...      0  Neutral   132   \n",
       "3  War expected in Nakuru if something is not don...      0  Neutral   112   \n",
       "4  USERNAME_4 tells kikuyus activists that they a...      0  Neutral   120   \n",
       "\n",
       "   words  sentences                                        Clean_Tweet  \\\n",
       "0     14          2  the political elite are in desperation ordinar...   \n",
       "1     26          1  am just curious the only people who are callin...   \n",
       "2     22          1  username the area politicians are the one to b...   \n",
       "3     23          3  war expected in nakuru if something is not don...   \n",
       "4     21          3  username tells kikuyus activists that they are...   \n",
       "\n",
       "                                  Preprocessed_Tweet  \n",
       "0  [political, elite, desperation, ordinary, kale...  \n",
       "1  [curious, people, calling, old, mad, kikuyus, ...  \n",
       "2  [username, area, politician, one, blame, coz, ...  \n",
       "3  [war, expected, nakuru, something, done, luo, ...  \n",
       "4  [username, tell, kikuyus, activist, targeted, ...  "
      ]
     },
     "execution_count": 29,
     "metadata": {},
     "output_type": "execute_result"
    }
   ],
   "source": [
    "new_df[\"Preprocessed_Tweet\"] = text_data\n",
    "new_df.head()"
   ]
  },
  {
   "cell_type": "markdown",
   "id": "fcbe4c92",
   "metadata": {},
   "source": [
    "### Frequency Dist Of Preprocessed Words"
   ]
  },
  {
   "cell_type": "code",
   "execution_count": 30,
   "id": "c3471349",
   "metadata": {},
   "outputs": [
    {
     "data": {
      "text/plain": [
       "FreqDist({'username': 15522, 'kikuyus': 7361, 'luo': 5223, 'noreformsnoelections': 4032, 'nyakundi': 2933, 'kenya': 2855, 'people': 2672, 'kenyan': 2529, 'like': 2357, 'one': 2125, ...})"
      ]
     },
     "execution_count": 30,
     "metadata": {},
     "output_type": "execute_result"
    }
   ],
   "source": [
    "frequency_dist = FreqDist(new_df['Preprocessed_Tweet'].explode())\n",
    "frequency_dist"
   ]
  },
  {
   "cell_type": "markdown",
   "id": "8be96b38",
   "metadata": {},
   "source": [
    "### Distribution of top 20 words "
   ]
  },
  {
   "cell_type": "code",
   "execution_count": 36,
   "id": "4a58eb34",
   "metadata": {},
   "outputs": [
    {
     "data": {
      "image/png": "[encoded data removed]",
      "text/plain": [
       "<Figure size 864x432 with 1 Axes>"
      ]
     },
     "metadata": {
      "needs_background": "light"
     },
     "output_type": "display_data"
    }
   ],
   "source": [
    "\n",
    "# Sort the dictionary by value (descending)\n",
    "sorted_dict = dict(sorted(frequency_dist.items(), key=lambda x: x[1], reverse=True))\n",
    "\n",
    "# Take the top 20 Words\n",
    "top_20 = dict(list(sorted_dict.items())[:20])\n",
    "\n",
    "keys = [str(k) for k in top_20.keys()]\n",
    "values =  list( top_20.values())\n",
    "\n",
    "plt.figure(figsize=(12, 6))\n",
    "plt.bar(top_20.keys(), top_20.values())\n",
    "plt.title=(\"Distribution of top 20 Words in Tweets\")\n",
    "plt.xlabel=(\"Words\")\n",
    "plt.ylabel=(\"Count\")\n",
    "plt.xticks(rotation=45)  \n",
    "\n",
    "plt.tight_layout()  \n",
    "plt.show()\n",
    "\n",
    "## Word Cloud PLot\n",
    "# from wordcloud import WordCloud"
   ]
  },
  {
   "cell_type": "markdown",
   "id": "73f74482",
   "metadata": {},
   "source": [
    "### Getting rid of the word \"username\""
   ]
  },
  {
   "cell_type": "code",
   "execution_count": 58,
   "id": "e71915b3",
   "metadata": {},
   "outputs": [],
   "source": [
    "new_df[\"Clean_Tweet\"] = new_df[\"Clean_Tweet\"].str.replace(\"username\", \"\", regex=False).str.strip()\n",
    "  "
   ]
  },
  {
   "cell_type": "code",
   "execution_count": 60,
   "id": "c5436073",
   "metadata": {},
   "outputs": [
    {
     "data": {
      "text/html": [
       "<div>\n",
       "<style scoped>\n",
       "    .dataframe tbody tr th:only-of-type {\n",
       "        vertical-align: middle;\n",
       "    }\n",
       "\n",
       "    .dataframe tbody tr th {\n",
       "        vertical-align: top;\n",
       "    }\n",
       "\n",
       "    .dataframe thead th {\n",
       "        text-align: right;\n",
       "    }\n",
       "</style>\n",
       "<table border=\"1\" class=\"dataframe\">\n",
       "  <thead>\n",
       "    <tr style=\"text-align: right;\">\n",
       "      <th></th>\n",
       "      <th>Tweet</th>\n",
       "      <th>Class</th>\n",
       "      <th>Label</th>\n",
       "      <th>char</th>\n",
       "      <th>words</th>\n",
       "      <th>sentences</th>\n",
       "      <th>Clean_Tweet</th>\n",
       "      <th>Preprocessed_Tweet</th>\n",
       "    </tr>\n",
       "  </thead>\n",
       "  <tbody>\n",
       "    <tr>\n",
       "      <th>0</th>\n",
       "      <td>The political elite are in desperation. Ordina...</td>\n",
       "      <td>0</td>\n",
       "      <td>Neutral</td>\n",
       "      <td>93</td>\n",
       "      <td>14</td>\n",
       "      <td>2</td>\n",
       "      <td>the political elite are in desperation ordinar...</td>\n",
       "      <td>[political, elite, desperation, ordinary, kale...</td>\n",
       "    </tr>\n",
       "    <tr>\n",
       "      <th>1</th>\n",
       "      <td>Am just curious the only people who are callin...</td>\n",
       "      <td>0</td>\n",
       "      <td>Neutral</td>\n",
       "      <td>138</td>\n",
       "      <td>26</td>\n",
       "      <td>1</td>\n",
       "      <td>am just curious the only people who are callin...</td>\n",
       "      <td>[curious, people, calling, old, mad, kikuyus, ...</td>\n",
       "    </tr>\n",
       "    <tr>\n",
       "      <th>2</th>\n",
       "      <td>USERNAME_3 the area politicians are the one to...</td>\n",
       "      <td>0</td>\n",
       "      <td>Neutral</td>\n",
       "      <td>132</td>\n",
       "      <td>22</td>\n",
       "      <td>1</td>\n",
       "      <td>the area politicians are the one to blame coz ...</td>\n",
       "      <td>[area, politician, one, blame, coz, insiting, ...</td>\n",
       "    </tr>\n",
       "    <tr>\n",
       "      <th>3</th>\n",
       "      <td>War expected in Nakuru if something is not don...</td>\n",
       "      <td>0</td>\n",
       "      <td>Neutral</td>\n",
       "      <td>112</td>\n",
       "      <td>23</td>\n",
       "      <td>3</td>\n",
       "      <td>war expected in nakuru if something is not don...</td>\n",
       "      <td>[war, expected, nakuru, something, done, luo, ...</td>\n",
       "    </tr>\n",
       "    <tr>\n",
       "      <th>4</th>\n",
       "      <td>USERNAME_4 tells kikuyus activists that they a...</td>\n",
       "      <td>0</td>\n",
       "      <td>Neutral</td>\n",
       "      <td>120</td>\n",
       "      <td>21</td>\n",
       "      <td>3</td>\n",
       "      <td>tells kikuyus activists that they are being ta...</td>\n",
       "      <td>[tell, kikuyus, activist, targeted, targetted,...</td>\n",
       "    </tr>\n",
       "  </tbody>\n",
       "</table>\n",
       "</div>"
      ],
      "text/plain": [
       "                                               Tweet  Class    Label  char  \\\n",
       "0  The political elite are in desperation. Ordina...      0  Neutral    93   \n",
       "1  Am just curious the only people who are callin...      0  Neutral   138   \n",
       "2  USERNAME_3 the area politicians are the one to...      0  Neutral   132   \n",
       "3  War expected in Nakuru if something is not don...      0  Neutral   112   \n",
       "4  USERNAME_4 tells kikuyus activists that they a...      0  Neutral   120   \n",
       "\n",
       "   words  sentences                                        Clean_Tweet  \\\n",
       "0     14          2  the political elite are in desperation ordinar...   \n",
       "1     26          1  am just curious the only people who are callin...   \n",
       "2     22          1  the area politicians are the one to blame coz ...   \n",
       "3     23          3  war expected in nakuru if something is not don...   \n",
       "4     21          3  tells kikuyus activists that they are being ta...   \n",
       "\n",
       "                                  Preprocessed_Tweet  \n",
       "0  [political, elite, desperation, ordinary, kale...  \n",
       "1  [curious, people, calling, old, mad, kikuyus, ...  \n",
       "2  [area, politician, one, blame, coz, insiting, ...  \n",
       "3  [war, expected, nakuru, something, done, luo, ...  \n",
       "4  [tell, kikuyus, activist, targeted, targetted,...  "
      ]
     },
     "execution_count": 60,
     "metadata": {},
     "output_type": "execute_result"
    }
   ],
   "source": [
    "text_data = new_df['Clean_Tweet'].apply(lambda x: preprocess_text(x, tokenizer, stopwords_list, lemmatizer))\n",
    "new_df[\"Preprocessed_Tweet\"] = text_data\n",
    "new_df.head()"
   ]
  },
  {
   "cell_type": "markdown",
   "id": "af29fa2a",
   "metadata": {},
   "source": [
    "### Distribution of Words by LABEL/CLASS"
   ]
  },
  {
   "cell_type": "code",
   "execution_count": 67,
   "id": "d3bf6265",
   "metadata": {},
   "outputs": [
    {
     "data": {
      "image/png": "[encoded data removed]",
      "text/plain": [
       "<Figure size 864x864 with 3 Axes>"
      ]
     },
     "metadata": {
      "needs_background": "light"
     },
     "output_type": "display_data"
    }
   ],
   "source": [
    "fig, axes = plt.subplots(nrows=3, figsize=(12, 12))\n",
    "color_palette = sns.color_palette('cividis')  # Unlimited colors from palette\n",
    "\n",
    "for idx, label_df in enumerate(new_df.groupby('Label')):\n",
    "    label_name, group_data = label_df\n",
    "    all_words = group_data['Preprocessed_Tweet'].explode()\n",
    "    top_20 = all_words.value_counts().nlargest(20)\n",
    "    \n",
    "    # Plot with automatic color cycling\n",
    "    ax = axes[idx]\n",
    "    top_20.plot.bar(ax=ax, color=color_palette)\n",
    "    ax.set_title(label_name.title())\n",
    "    ax.set_xticklabels(top_20.index, rotation=45, ha='right')\n",
    "    ax.set_ylabel('Word Count')\n",
    "\n",
    "fig.tight_layout()\n",
    "plt.show()"
   ]
  },
  {
   "cell_type": "markdown",
   "id": "fddb0e2e",
   "metadata": {},
   "source": [
    "### Word Cloud"
   ]
  },
  {
   "cell_type": "code",
   "execution_count": 73,
   "id": "9d525fcd",
   "metadata": {},
   "outputs": [],
   "source": [
    "#pip install wordcloud"
   ]
  },
  {
   "cell_type": "code",
   "execution_count": 79,
   "id": "271725d1",
   "metadata": {},
   "outputs": [
    {
     "ename": "AttributeError",
     "evalue": "'TransposedFont' object has no attribute 'getbbox'",
     "output_type": "error",
     "traceback": [
      "\u001b[1;31m---------------------------------------------------------------------------\u001b[0m",
      "\u001b[1;31mAttributeError\u001b[0m                            Traceback (most recent call last)",
      "\u001b[1;32m<ipython-input-79-6ba2c79474ae>\u001b[0m in \u001b[0;36m<module>\u001b[1;34m\u001b[0m\n\u001b[0;32m     14\u001b[0m \u001b[1;33m\u001b[0m\u001b[0m\n\u001b[0;32m     15\u001b[0m     \u001b[1;31m# Generate word cloud\u001b[0m\u001b[1;33m\u001b[0m\u001b[1;33m\u001b[0m\u001b[1;33m\u001b[0m\u001b[0m\n\u001b[1;32m---> 16\u001b[1;33m     wordcloud = WordCloud(\n\u001b[0m\u001b[0;32m     17\u001b[0m         \u001b[0mwidth\u001b[0m\u001b[1;33m=\u001b[0m\u001b[1;36m800\u001b[0m\u001b[1;33m,\u001b[0m\u001b[1;33m\u001b[0m\u001b[1;33m\u001b[0m\u001b[0m\n\u001b[0;32m     18\u001b[0m         \u001b[0mheight\u001b[0m\u001b[1;33m=\u001b[0m\u001b[1;36m400\u001b[0m\u001b[1;33m,\u001b[0m\u001b[1;33m\u001b[0m\u001b[1;33m\u001b[0m\u001b[0m\n",
      "\u001b[1;32mc:\\Users\\shawn\\anaconda3\\envs\\learn-env\\lib\\site-packages\\wordcloud\\wordcloud.py\u001b[0m in \u001b[0;36mgenerate\u001b[1;34m(self, text)\u001b[0m\n\u001b[0;32m    640\u001b[0m         \u001b[0mself\u001b[0m\u001b[1;33m\u001b[0m\u001b[1;33m\u001b[0m\u001b[0m\n\u001b[0;32m    641\u001b[0m         \"\"\"\n\u001b[1;32m--> 642\u001b[1;33m         \u001b[1;32mreturn\u001b[0m \u001b[0mself\u001b[0m\u001b[1;33m.\u001b[0m\u001b[0mgenerate_from_text\u001b[0m\u001b[1;33m(\u001b[0m\u001b[0mtext\u001b[0m\u001b[1;33m)\u001b[0m\u001b[1;33m\u001b[0m\u001b[1;33m\u001b[0m\u001b[0m\n\u001b[0m\u001b[0;32m    643\u001b[0m \u001b[1;33m\u001b[0m\u001b[0m\n\u001b[0;32m    644\u001b[0m     \u001b[1;32mdef\u001b[0m \u001b[0m_check_generated\u001b[0m\u001b[1;33m(\u001b[0m\u001b[0mself\u001b[0m\u001b[1;33m)\u001b[0m\u001b[1;33m:\u001b[0m\u001b[1;33m\u001b[0m\u001b[1;33m\u001b[0m\u001b[0m\n",
      "\u001b[1;32mc:\\Users\\shawn\\anaconda3\\envs\\learn-env\\lib\\site-packages\\wordcloud\\wordcloud.py\u001b[0m in \u001b[0;36mgenerate_from_text\u001b[1;34m(self, text)\u001b[0m\n\u001b[0;32m    622\u001b[0m         \"\"\"\n\u001b[0;32m    623\u001b[0m         \u001b[0mwords\u001b[0m \u001b[1;33m=\u001b[0m \u001b[0mself\u001b[0m\u001b[1;33m.\u001b[0m\u001b[0mprocess_text\u001b[0m\u001b[1;33m(\u001b[0m\u001b[0mtext\u001b[0m\u001b[1;33m)\u001b[0m\u001b[1;33m\u001b[0m\u001b[1;33m\u001b[0m\u001b[0m\n\u001b[1;32m--> 624\u001b[1;33m         \u001b[0mself\u001b[0m\u001b[1;33m.\u001b[0m\u001b[0mgenerate_from_frequencies\u001b[0m\u001b[1;33m(\u001b[0m\u001b[0mwords\u001b[0m\u001b[1;33m)\u001b[0m\u001b[1;33m\u001b[0m\u001b[1;33m\u001b[0m\u001b[0m\n\u001b[0m\u001b[0;32m    625\u001b[0m         \u001b[1;32mreturn\u001b[0m \u001b[0mself\u001b[0m\u001b[1;33m\u001b[0m\u001b[1;33m\u001b[0m\u001b[0m\n\u001b[0;32m    626\u001b[0m \u001b[1;33m\u001b[0m\u001b[0m\n",
      "\u001b[1;32mc:\\Users\\shawn\\anaconda3\\envs\\learn-env\\lib\\site-packages\\wordcloud\\wordcloud.py\u001b[0m in \u001b[0;36mgenerate_from_frequencies\u001b[1;34m(self, frequencies, max_font_size)\u001b[0m\n\u001b[0;32m    451\u001b[0m                 \u001b[0mfont_size\u001b[0m \u001b[1;33m=\u001b[0m \u001b[0mself\u001b[0m\u001b[1;33m.\u001b[0m\u001b[0mheight\u001b[0m\u001b[1;33m\u001b[0m\u001b[1;33m\u001b[0m\u001b[0m\n\u001b[0;32m    452\u001b[0m             \u001b[1;32melse\u001b[0m\u001b[1;33m:\u001b[0m\u001b[1;33m\u001b[0m\u001b[1;33m\u001b[0m\u001b[0m\n\u001b[1;32m--> 453\u001b[1;33m                 self.generate_from_frequencies(dict(frequencies[:2]),\n\u001b[0m\u001b[0;32m    454\u001b[0m                                                max_font_size=self.height)\n\u001b[0;32m    455\u001b[0m                 \u001b[1;31m# find font sizes\u001b[0m\u001b[1;33m\u001b[0m\u001b[1;33m\u001b[0m\u001b[1;33m\u001b[0m\u001b[0m\n",
      "\u001b[1;32mc:\\Users\\shawn\\anaconda3\\envs\\learn-env\\lib\\site-packages\\wordcloud\\wordcloud.py\u001b[0m in \u001b[0;36mgenerate_from_frequencies\u001b[1;34m(self, frequencies, max_font_size)\u001b[0m\n\u001b[0;32m    509\u001b[0m                     font, orientation=orientation)\n\u001b[0;32m    510\u001b[0m                 \u001b[1;31m# get size of resulting text\u001b[0m\u001b[1;33m\u001b[0m\u001b[1;33m\u001b[0m\u001b[1;33m\u001b[0m\u001b[0m\n\u001b[1;32m--> 511\u001b[1;33m                 \u001b[0mbox_size\u001b[0m \u001b[1;33m=\u001b[0m \u001b[0mdraw\u001b[0m\u001b[1;33m.\u001b[0m\u001b[0mtextbbox\u001b[0m\u001b[1;33m(\u001b[0m\u001b[1;33m(\u001b[0m\u001b[1;36m0\u001b[0m\u001b[1;33m,\u001b[0m \u001b[1;36m0\u001b[0m\u001b[1;33m)\u001b[0m\u001b[1;33m,\u001b[0m \u001b[0mword\u001b[0m\u001b[1;33m,\u001b[0m \u001b[0mfont\u001b[0m\u001b[1;33m=\u001b[0m\u001b[0mtransposed_font\u001b[0m\u001b[1;33m,\u001b[0m \u001b[0manchor\u001b[0m\u001b[1;33m=\u001b[0m\u001b[1;34m\"lt\"\u001b[0m\u001b[1;33m)\u001b[0m\u001b[1;33m\u001b[0m\u001b[1;33m\u001b[0m\u001b[0m\n\u001b[0m\u001b[0;32m    512\u001b[0m                 \u001b[1;31m# find possible places using integral image:\u001b[0m\u001b[1;33m\u001b[0m\u001b[1;33m\u001b[0m\u001b[1;33m\u001b[0m\u001b[0m\n\u001b[0;32m    513\u001b[0m                 result = occupancy.sample_position(box_size[3] + self.margin,\n",
      "\u001b[1;32mc:\\Users\\shawn\\anaconda3\\envs\\learn-env\\lib\\site-packages\\PIL\\ImageDraw.py\u001b[0m in \u001b[0;36mtextbbox\u001b[1;34m(self, xy, text, font, anchor, spacing, align, direction, features, language, stroke_width, embedded_color)\u001b[0m\n\u001b[0;32m    565\u001b[0m \u001b[1;33m\u001b[0m\u001b[0m\n\u001b[0;32m    566\u001b[0m     def multiline_text(\n\u001b[1;32m--> 567\u001b[1;33m         \u001b[0mself\u001b[0m\u001b[1;33m,\u001b[0m\u001b[1;33m\u001b[0m\u001b[1;33m\u001b[0m\u001b[0m\n\u001b[0m\u001b[0;32m    568\u001b[0m         \u001b[0mxy\u001b[0m\u001b[1;33m,\u001b[0m\u001b[1;33m\u001b[0m\u001b[1;33m\u001b[0m\u001b[0m\n\u001b[0;32m    569\u001b[0m         \u001b[0mtext\u001b[0m\u001b[1;33m,\u001b[0m\u001b[1;33m\u001b[0m\u001b[1;33m\u001b[0m\u001b[0m\n",
      "\u001b[1;31mAttributeError\u001b[0m: 'TransposedFont' object has no attribute 'getbbox'"
     ]
    },
    {
     "data": {
      "text/plain": [
       "<Figure size 720x1080 with 0 Axes>"
      ]
     },
     "metadata": {},
     "output_type": "display_data"
    }
   ],
   "source": [
    "from wordcloud import WordCloud\n",
    "\n",
    "# List of sentiment classes (ensure they match the values in your DataFrame exactly)\n",
    "sentiments = ['Neutral', 'Offensive', 'Hate Speech']\n",
    "\n",
    "# Set figure size for vertical layout\n",
    "plt.figure(figsize=(10, 15))\n",
    "\n",
    "# Generate and plot word cloud for each sentiment\n",
    "for i, sentiment in enumerate(sentiments, 1):\n",
    "    text = \" \".join(\n",
    "        new_df[new_df['Label'].str.lower() == sentiment].astype(str)\n",
    "    )\n",
    "\n",
    "    # Generate word cloud\n",
    "    wordcloud = WordCloud(\n",
    "        width=800,\n",
    "        height=400,\n",
    "        background_color='black',\n",
    "        colormap='viridis',\n",
    "        max_words=200\n",
    "    ).generate(text)\n",
    "\n",
    "    # Plot in a separate row\n",
    "    plt.subplot(3, 1, i)  \n",
    "    plt.imshow(wordcloud, interpolation='bilinear')\n",
    "    plt.title(f\"{sentiment.capitalize()} Tweets\", fontsize=16)\n",
    "    plt.axis('off')\n",
    "\n",
    "plt.tight_layout()\n",
    "plt.show()"
   ]
  },
  {
   "cell_type": "code",
   "execution_count": null,
   "id": "647c38fa",
   "metadata": {},
   "outputs": [],
   "source": []
  }
 ],
 "metadata": {
  "kernelspec": {
   "display_name": "learn-env",
   "language": "python",
   "name": "python3"
  },
  "language_info": {
   "codemirror_mode": {
    "name": "ipython",
    "version": 3
   },
   "file_extension": ".py",
   "mimetype": "text/x-python",
   "name": "python",
   "nbconvert_exporter": "python",
   "pygments_lexer": "ipython3",
   "version": "3.8.5"
  }
 },
 "nbformat": 4,
 "nbformat_minor": 5
}
